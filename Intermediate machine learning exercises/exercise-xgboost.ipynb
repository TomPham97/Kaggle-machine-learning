{
 "cells": [
  {
   "cell_type": "markdown",
   "id": "b5761bf1",
   "metadata": {
    "papermill": {
     "duration": 0.009584,
     "end_time": "2022-06-19T17:33:31.934601",
     "exception": false,
     "start_time": "2022-06-19T17:33:31.925017",
     "status": "completed"
    },
    "tags": []
   },
   "source": [
    "**This notebook is an exercise in the [Intermediate Machine Learning](https://www.kaggle.com/learn/intermediate-machine-learning) course.  You can reference the tutorial at [this link](https://www.kaggle.com/alexisbcook/xgboost).**\n",
    "\n",
    "---\n"
   ]
  },
  {
   "cell_type": "markdown",
   "id": "fb9cc98d",
   "metadata": {
    "papermill": {
     "duration": 0.005576,
     "end_time": "2022-06-19T17:33:31.946288",
     "exception": false,
     "start_time": "2022-06-19T17:33:31.940712",
     "status": "completed"
    },
    "tags": []
   },
   "source": [
    "In this exercise, you will use your new knowledge to train a model with **gradient boosting**.\n",
    "\n",
    "# Setup\n",
    "\n",
    "The questions below will give you feedback on your work. Run the following cell to set up the feedback system."
   ]
  },
  {
   "cell_type": "code",
   "execution_count": 1,
   "id": "2c27bff1",
   "metadata": {
    "execution": {
     "iopub.execute_input": "2022-06-19T17:33:31.959917Z",
     "iopub.status.busy": "2022-06-19T17:33:31.959468Z",
     "iopub.status.idle": "2022-06-19T17:33:34.347112Z",
     "shell.execute_reply": "2022-06-19T17:33:34.346223Z"
    },
    "papermill": {
     "duration": 2.39737,
     "end_time": "2022-06-19T17:33:34.349585",
     "exception": false,
     "start_time": "2022-06-19T17:33:31.952215",
     "status": "completed"
    },
    "tags": []
   },
   "outputs": [
    {
     "name": "stdout",
     "output_type": "stream",
     "text": [
      "Setup Complete\n"
     ]
    }
   ],
   "source": [
    "# Set up code checking\n",
    "import os\n",
    "if not os.path.exists(\"../input/train.csv\"):\n",
    "    os.symlink(\"../input/home-data-for-ml-course/train.csv\", \"../input/train.csv\")  \n",
    "    os.symlink(\"../input/home-data-for-ml-course/test.csv\", \"../input/test.csv\") \n",
    "from learntools.core import binder\n",
    "binder.bind(globals())\n",
    "from learntools.ml_intermediate.ex6 import *\n",
    "print(\"Setup Complete\")"
   ]
  },
  {
   "cell_type": "markdown",
   "id": "78b32c07",
   "metadata": {
    "papermill": {
     "duration": 0.005675,
     "end_time": "2022-06-19T17:33:34.361987",
     "exception": false,
     "start_time": "2022-06-19T17:33:34.356312",
     "status": "completed"
    },
    "tags": []
   },
   "source": [
    "You will work with the [Housing Prices Competition for Kaggle Learn Users](https://www.kaggle.com/c/home-data-for-ml-course) dataset from the previous exercise. \n",
    "\n",
    "![Ames Housing dataset image](https://i.imgur.com/lTJVG4e.png)\n",
    "\n",
    "Run the next code cell without changes to load the training and validation sets in `X_train`, `X_valid`, `y_train`, and `y_valid`.  The test set is loaded in `X_test`."
   ]
  },
  {
   "cell_type": "code",
   "execution_count": 2,
   "id": "c0828323",
   "metadata": {
    "execution": {
     "iopub.execute_input": "2022-06-19T17:33:34.375430Z",
     "iopub.status.busy": "2022-06-19T17:33:34.374899Z",
     "iopub.status.idle": "2022-06-19T17:33:34.564678Z",
     "shell.execute_reply": "2022-06-19T17:33:34.563966Z"
    },
    "papermill": {
     "duration": 0.199117,
     "end_time": "2022-06-19T17:33:34.566866",
     "exception": false,
     "start_time": "2022-06-19T17:33:34.367749",
     "status": "completed"
    },
    "tags": []
   },
   "outputs": [],
   "source": [
    "import pandas as pd\n",
    "from sklearn.model_selection import train_test_split\n",
    "\n",
    "# Read the data\n",
    "X = pd.read_csv('../input/train.csv', index_col='Id')\n",
    "X_test_full = pd.read_csv('../input/test.csv', index_col='Id')\n",
    "\n",
    "# Remove rows with missing target, separate target from predictors\n",
    "X.dropna(axis=0, subset=['SalePrice'], inplace=True)\n",
    "y = X.SalePrice              \n",
    "X.drop(['SalePrice'], axis=1, inplace=True)\n",
    "\n",
    "# Break off validation set from training data\n",
    "X_train_full, X_valid_full, y_train, y_valid = train_test_split(X, y, train_size=0.8, test_size=0.2,\n",
    "                                                                random_state=0)\n",
    "\n",
    "# \"Cardinality\" means the number of unique values in a column\n",
    "# Select categorical columns with relatively low cardinality (convenient but arbitrary)\n",
    "low_cardinality_cols = [cname for cname in X_train_full.columns if X_train_full[cname].nunique() < 10 and \n",
    "                        X_train_full[cname].dtype == \"object\"]\n",
    "\n",
    "# Select numeric columns\n",
    "numeric_cols = [cname for cname in X_train_full.columns if X_train_full[cname].dtype in ['int64', 'float64']]\n",
    "\n",
    "# Keep selected columns only\n",
    "my_cols = low_cardinality_cols + numeric_cols\n",
    "X_train = X_train_full[my_cols].copy()\n",
    "X_valid = X_valid_full[my_cols].copy()\n",
    "X_test = X_test_full[my_cols].copy()\n",
    "\n",
    "# One-hot encode the data (to shorten the code, we use pandas)\n",
    "X_train = pd.get_dummies(X_train)\n",
    "X_valid = pd.get_dummies(X_valid)\n",
    "X_test = pd.get_dummies(X_test)\n",
    "X_train, X_valid = X_train.align(X_valid, join='left', axis=1)\n",
    "X_train, X_test = X_train.align(X_test, join='left', axis=1)"
   ]
  },
  {
   "cell_type": "markdown",
   "id": "2c621d23",
   "metadata": {
    "papermill": {
     "duration": 0.00584,
     "end_time": "2022-06-19T17:33:34.579042",
     "exception": false,
     "start_time": "2022-06-19T17:33:34.573202",
     "status": "completed"
    },
    "tags": []
   },
   "source": [
    "# Step 1: Build model\n",
    "\n",
    "### Part A\n",
    "\n",
    "In this step, you'll build and train your first model with gradient boosting.\n",
    "\n",
    "- Begin by setting `my_model_1` to an XGBoost model.  Use the [XGBRegressor](https://xgboost.readthedocs.io/en/latest/python/python_api.html#xgboost.XGBRegressor) class, and set the random seed to 0 (`random_state=0`).  **Leave all other parameters as default.**\n",
    "- Then, fit the model to the training data in `X_train` and `y_train`."
   ]
  },
  {
   "cell_type": "code",
   "execution_count": 3,
   "id": "71561179",
   "metadata": {
    "execution": {
     "iopub.execute_input": "2022-06-19T17:33:34.592599Z",
     "iopub.status.busy": "2022-06-19T17:33:34.592070Z",
     "iopub.status.idle": "2022-06-19T17:33:35.518959Z",
     "shell.execute_reply": "2022-06-19T17:33:35.518217Z"
    },
    "papermill": {
     "duration": 0.936118,
     "end_time": "2022-06-19T17:33:35.521088",
     "exception": false,
     "start_time": "2022-06-19T17:33:34.584970",
     "status": "completed"
    },
    "tags": []
   },
   "outputs": [
    {
     "data": {
      "application/javascript": [
       "parent.postMessage({\"jupyterEvent\": \"custom.exercise_interaction\", \"data\": {\"outcomeType\": 1, \"valueTowardsCompletion\": 0.5, \"interactionType\": 1, \"questionType\": 2, \"questionId\": \"1.1_Model1A\", \"learnToolsVersion\": \"0.3.4\", \"failureMessage\": \"\", \"exceptionClass\": \"\", \"trace\": \"\"}}, \"*\")"
      ],
      "text/plain": [
       "<IPython.core.display.Javascript object>"
      ]
     },
     "metadata": {},
     "output_type": "display_data"
    },
    {
     "data": {
      "text/markdown": [
       "<span style=\"color:#33cc33\">Correct</span>"
      ],
      "text/plain": [
       "Correct"
      ]
     },
     "metadata": {},
     "output_type": "display_data"
    }
   ],
   "source": [
    "from xgboost import XGBRegressor\n",
    "\n",
    "# Define the model\n",
    "my_model_1 = XGBRegressor(random_state = 0) # Your code here\n",
    "\n",
    "# Fit the model\n",
    "my_model_1.fit(X_train, y_train) # Your code here\n",
    "\n",
    "# Check your answer\n",
    "step_1.a.check()"
   ]
  },
  {
   "cell_type": "code",
   "execution_count": 4,
   "id": "de6983ec",
   "metadata": {
    "execution": {
     "iopub.execute_input": "2022-06-19T17:33:35.536004Z",
     "iopub.status.busy": "2022-06-19T17:33:35.534921Z",
     "iopub.status.idle": "2022-06-19T17:33:35.539583Z",
     "shell.execute_reply": "2022-06-19T17:33:35.538641Z"
    },
    "papermill": {
     "duration": 0.014197,
     "end_time": "2022-06-19T17:33:35.541736",
     "exception": false,
     "start_time": "2022-06-19T17:33:35.527539",
     "status": "completed"
    },
    "tags": []
   },
   "outputs": [],
   "source": [
    "# Lines below will give you a hint or solution code\n",
    "#step_1.a.hint()\n",
    "#step_1.a.solution()"
   ]
  },
  {
   "cell_type": "markdown",
   "id": "af5497ff",
   "metadata": {
    "papermill": {
     "duration": 0.006167,
     "end_time": "2022-06-19T17:33:35.554756",
     "exception": false,
     "start_time": "2022-06-19T17:33:35.548589",
     "status": "completed"
    },
    "tags": []
   },
   "source": [
    "### Part B\n",
    "\n",
    "Set `predictions_1` to the model's predictions for the validation data.  Recall that the validation features are stored in `X_valid`."
   ]
  },
  {
   "cell_type": "code",
   "execution_count": 5,
   "id": "a2bda314",
   "metadata": {
    "execution": {
     "iopub.execute_input": "2022-06-19T17:33:35.568820Z",
     "iopub.status.busy": "2022-06-19T17:33:35.568448Z",
     "iopub.status.idle": "2022-06-19T17:33:35.593756Z",
     "shell.execute_reply": "2022-06-19T17:33:35.592918Z"
    },
    "papermill": {
     "duration": 0.034801,
     "end_time": "2022-06-19T17:33:35.595929",
     "exception": false,
     "start_time": "2022-06-19T17:33:35.561128",
     "status": "completed"
    },
    "tags": []
   },
   "outputs": [
    {
     "data": {
      "application/javascript": [
       "parent.postMessage({\"jupyterEvent\": \"custom.exercise_interaction\", \"data\": {\"outcomeType\": 1, \"valueTowardsCompletion\": 0.5, \"interactionType\": 1, \"questionType\": 2, \"questionId\": \"1.2_Model1B\", \"learnToolsVersion\": \"0.3.4\", \"failureMessage\": \"\", \"exceptionClass\": \"\", \"trace\": \"\"}}, \"*\")"
      ],
      "text/plain": [
       "<IPython.core.display.Javascript object>"
      ]
     },
     "metadata": {},
     "output_type": "display_data"
    },
    {
     "data": {
      "text/markdown": [
       "<span style=\"color:#33cc33\">Correct</span>"
      ],
      "text/plain": [
       "Correct"
      ]
     },
     "metadata": {},
     "output_type": "display_data"
    }
   ],
   "source": [
    "from sklearn.metrics import mean_absolute_error\n",
    "\n",
    "# Get predictions\n",
    "predictions_1 = my_model_1.predict(X_valid) # Your code here\n",
    "\n",
    "# Check your answer\n",
    "step_1.b.check()"
   ]
  },
  {
   "cell_type": "code",
   "execution_count": 6,
   "id": "d399b320",
   "metadata": {
    "execution": {
     "iopub.execute_input": "2022-06-19T17:33:35.611408Z",
     "iopub.status.busy": "2022-06-19T17:33:35.611015Z",
     "iopub.status.idle": "2022-06-19T17:33:35.614771Z",
     "shell.execute_reply": "2022-06-19T17:33:35.613808Z"
    },
    "papermill": {
     "duration": 0.013438,
     "end_time": "2022-06-19T17:33:35.616872",
     "exception": false,
     "start_time": "2022-06-19T17:33:35.603434",
     "status": "completed"
    },
    "tags": []
   },
   "outputs": [],
   "source": [
    "# Lines below will give you a hint or solution code\n",
    "#step_1.b.hint()\n",
    "#step_1.b.solution()"
   ]
  },
  {
   "cell_type": "markdown",
   "id": "b0ab8cc8",
   "metadata": {
    "papermill": {
     "duration": 0.00612,
     "end_time": "2022-06-19T17:33:35.629677",
     "exception": false,
     "start_time": "2022-06-19T17:33:35.623557",
     "status": "completed"
    },
    "tags": []
   },
   "source": [
    "### Part C\n",
    "\n",
    "Finally, use the `mean_absolute_error()` function to calculate the mean absolute error (MAE) corresponding to the predictions for the validation set.  Recall that the labels for the validation data are stored in `y_valid`."
   ]
  },
  {
   "cell_type": "code",
   "execution_count": 7,
   "id": "dae10c8a",
   "metadata": {
    "execution": {
     "iopub.execute_input": "2022-06-19T17:33:35.644144Z",
     "iopub.status.busy": "2022-06-19T17:33:35.643737Z",
     "iopub.status.idle": "2022-06-19T17:33:35.653972Z",
     "shell.execute_reply": "2022-06-19T17:33:35.652942Z"
    },
    "papermill": {
     "duration": 0.019914,
     "end_time": "2022-06-19T17:33:35.656029",
     "exception": false,
     "start_time": "2022-06-19T17:33:35.636115",
     "status": "completed"
    },
    "tags": []
   },
   "outputs": [
    {
     "name": "stdout",
     "output_type": "stream",
     "text": [
      "Mean Absolute Error: 17662.736729452055\n"
     ]
    },
    {
     "data": {
      "application/javascript": [
       "parent.postMessage({\"jupyterEvent\": \"custom.exercise_interaction\", \"data\": {\"outcomeType\": 1, \"valueTowardsCompletion\": 0.5, \"interactionType\": 1, \"questionType\": 2, \"questionId\": \"1.3_Model1C\", \"learnToolsVersion\": \"0.3.4\", \"failureMessage\": \"\", \"exceptionClass\": \"\", \"trace\": \"\"}}, \"*\")"
      ],
      "text/plain": [
       "<IPython.core.display.Javascript object>"
      ]
     },
     "metadata": {},
     "output_type": "display_data"
    },
    {
     "data": {
      "text/markdown": [
       "<span style=\"color:#33cc33\">Correct</span>"
      ],
      "text/plain": [
       "Correct"
      ]
     },
     "metadata": {},
     "output_type": "display_data"
    }
   ],
   "source": [
    "# Calculate MAE\n",
    "mae_1 = mean_absolute_error(y_valid, predictions_1) # Your code here\n",
    "\n",
    "# Uncomment to print MAE\n",
    "print(\"Mean Absolute Error:\" , mae_1)\n",
    "\n",
    "# Check your answer\n",
    "step_1.c.check()"
   ]
  },
  {
   "cell_type": "code",
   "execution_count": 8,
   "id": "9b3eb156",
   "metadata": {
    "execution": {
     "iopub.execute_input": "2022-06-19T17:33:35.671470Z",
     "iopub.status.busy": "2022-06-19T17:33:35.671062Z",
     "iopub.status.idle": "2022-06-19T17:33:35.675031Z",
     "shell.execute_reply": "2022-06-19T17:33:35.674246Z"
    },
    "papermill": {
     "duration": 0.014137,
     "end_time": "2022-06-19T17:33:35.677002",
     "exception": false,
     "start_time": "2022-06-19T17:33:35.662865",
     "status": "completed"
    },
    "tags": []
   },
   "outputs": [],
   "source": [
    "# Lines below will give you a hint or solution code\n",
    "#step_1.c.hint()\n",
    "#step_1.c.solution()"
   ]
  },
  {
   "cell_type": "markdown",
   "id": "1e594d94",
   "metadata": {
    "papermill": {
     "duration": 0.007031,
     "end_time": "2022-06-19T17:33:35.690877",
     "exception": false,
     "start_time": "2022-06-19T17:33:35.683846",
     "status": "completed"
    },
    "tags": []
   },
   "source": [
    "# Step 2: Improve the model\n",
    "\n",
    "Now that you've trained a default model as baseline, it's time to tinker with the parameters, to see if you can get better performance!\n",
    "- Begin by setting `my_model_2` to an XGBoost model, using the [XGBRegressor](https://xgboost.readthedocs.io/en/latest/python/python_api.html#xgboost.XGBRegressor) class.  Use what you learned in the previous tutorial to figure out how to change the default parameters (like `n_estimators` and `learning_rate`) to get better results.\n",
    "- Then, fit the model to the training data in `X_train` and `y_train`.\n",
    "- Set `predictions_2` to the model's predictions for the validation data.  Recall that the validation features are stored in `X_valid`.\n",
    "- Finally, use the `mean_absolute_error()` function to calculate the mean absolute error (MAE) corresponding to the predictions on the validation set.  Recall that the labels for the validation data are stored in `y_valid`.\n",
    "\n",
    "In order for this step to be marked correct, your model in `my_model_2` must attain lower MAE than the model in `my_model_1`. "
   ]
  },
  {
   "cell_type": "code",
   "execution_count": 9,
   "id": "94a647f1",
   "metadata": {
    "execution": {
     "iopub.execute_input": "2022-06-19T17:33:35.706388Z",
     "iopub.status.busy": "2022-06-19T17:33:35.705796Z",
     "iopub.status.idle": "2022-06-19T17:33:39.387912Z",
     "shell.execute_reply": "2022-06-19T17:33:39.385744Z"
    },
    "papermill": {
     "duration": 3.692635,
     "end_time": "2022-06-19T17:33:39.390440",
     "exception": false,
     "start_time": "2022-06-19T17:33:35.697805",
     "status": "completed"
    },
    "tags": []
   },
   "outputs": [
    {
     "name": "stdout",
     "output_type": "stream",
     "text": [
      "Mean Absolute Error: 16802.965325342466\n"
     ]
    },
    {
     "data": {
      "application/javascript": [
       "parent.postMessage({\"jupyterEvent\": \"custom.exercise_interaction\", \"data\": {\"outcomeType\": 1, \"valueTowardsCompletion\": 0.5, \"interactionType\": 1, \"questionType\": 2, \"questionId\": \"2_Model2\", \"learnToolsVersion\": \"0.3.4\", \"failureMessage\": \"\", \"exceptionClass\": \"\", \"trace\": \"\"}}, \"*\")"
      ],
      "text/plain": [
       "<IPython.core.display.Javascript object>"
      ]
     },
     "metadata": {},
     "output_type": "display_data"
    },
    {
     "data": {
      "text/markdown": [
       "<span style=\"color:#33cc33\">Correct</span>"
      ],
      "text/plain": [
       "Correct"
      ]
     },
     "metadata": {},
     "output_type": "display_data"
    }
   ],
   "source": [
    "# Define the model\n",
    "my_model_2 = XGBRegressor(n_estimators = 1000,\n",
    "                          learning_rate = 0.05,\n",
    "                          early_stopping_rounds = 10) # Your code here\n",
    "\n",
    "# Fit the model\n",
    "my_model_2.fit(X_train, y_train,\n",
    "              eval_set = [(X_valid, y_valid)],\n",
    "              verbose = False) # Your code here\n",
    "\n",
    "# Get predictions\n",
    "predictions_2 = my_model_2.predict(X_valid) # Your code here\n",
    "\n",
    "# Calculate MAE\n",
    "mae_2 = mean_absolute_error(y_valid, predictions_2) # Your code here\n",
    "\n",
    "# Uncomment to print MAE\n",
    "print(\"Mean Absolute Error:\" , mae_2)\n",
    "\n",
    "# Check your answer\n",
    "step_2.check()"
   ]
  },
  {
   "cell_type": "code",
   "execution_count": 10,
   "id": "8b4e4063",
   "metadata": {
    "execution": {
     "iopub.execute_input": "2022-06-19T17:33:39.409127Z",
     "iopub.status.busy": "2022-06-19T17:33:39.408737Z",
     "iopub.status.idle": "2022-06-19T17:33:39.413143Z",
     "shell.execute_reply": "2022-06-19T17:33:39.411847Z"
    },
    "papermill": {
     "duration": 0.016316,
     "end_time": "2022-06-19T17:33:39.415798",
     "exception": false,
     "start_time": "2022-06-19T17:33:39.399482",
     "status": "completed"
    },
    "tags": []
   },
   "outputs": [],
   "source": [
    "# Lines below will give you a hint or solution code\n",
    "#step_2.hint()\n",
    "#step_2.solution()"
   ]
  },
  {
   "cell_type": "markdown",
   "id": "d954d644",
   "metadata": {
    "papermill": {
     "duration": 0.006935,
     "end_time": "2022-06-19T17:33:39.430210",
     "exception": false,
     "start_time": "2022-06-19T17:33:39.423275",
     "status": "completed"
    },
    "tags": []
   },
   "source": [
    "# Step 3: Break the model\n",
    "\n",
    "In this step, you will create a model that performs worse than the original model in Step 1.  This will help you to develop your intuition for how to set parameters.  You might even find that you accidentally get better performance, which is ultimately a nice problem to have and a valuable learning experience!\n",
    "- Begin by setting `my_model_3` to an XGBoost model, using the [XGBRegressor](https://xgboost.readthedocs.io/en/latest/python/python_api.html#xgboost.XGBRegressor) class.  Use what you learned in the previous tutorial to figure out how to change the default parameters (like `n_estimators` and `learning_rate`) to design a model to get high MAE.\n",
    "- Then, fit the model to the training data in `X_train` and `y_train`.\n",
    "- Set `predictions_3` to the model's predictions for the validation data.  Recall that the validation features are stored in `X_valid`.\n",
    "- Finally, use the `mean_absolute_error()` function to calculate the mean absolute error (MAE) corresponding to the predictions on the validation set.  Recall that the labels for the validation data are stored in `y_valid`.\n",
    "\n",
    "In order for this step to be marked correct, your model in `my_model_3` must attain higher MAE than the model in `my_model_1`. "
   ]
  },
  {
   "cell_type": "code",
   "execution_count": 11,
   "id": "aa7e8e75",
   "metadata": {
    "execution": {
     "iopub.execute_input": "2022-06-19T17:33:39.447249Z",
     "iopub.status.busy": "2022-06-19T17:33:39.446868Z",
     "iopub.status.idle": "2022-06-19T17:33:39.597247Z",
     "shell.execute_reply": "2022-06-19T17:33:39.596424Z"
    },
    "papermill": {
     "duration": 0.161909,
     "end_time": "2022-06-19T17:33:39.599410",
     "exception": false,
     "start_time": "2022-06-19T17:33:39.437501",
     "status": "completed"
    },
    "tags": []
   },
   "outputs": [
    {
     "name": "stdout",
     "output_type": "stream",
     "text": [
      "Mean Absolute Error: 19076.726000642124\n"
     ]
    },
    {
     "data": {
      "application/javascript": [
       "parent.postMessage({\"jupyterEvent\": \"custom.exercise_interaction\", \"data\": {\"outcomeType\": 1, \"valueTowardsCompletion\": 0.5, \"interactionType\": 1, \"questionType\": 2, \"questionId\": \"3_Model3\", \"learnToolsVersion\": \"0.3.4\", \"failureMessage\": \"\", \"exceptionClass\": \"\", \"trace\": \"\"}}, \"*\")"
      ],
      "text/plain": [
       "<IPython.core.display.Javascript object>"
      ]
     },
     "metadata": {},
     "output_type": "display_data"
    },
    {
     "data": {
      "text/markdown": [
       "<span style=\"color:#33cc33\">Correct</span>"
      ],
      "text/plain": [
       "Correct"
      ]
     },
     "metadata": {},
     "output_type": "display_data"
    }
   ],
   "source": [
    "# Define the model\n",
    "my_model_3 = XGBRegressor(n_estimators = 10)\n",
    "# Fit the model\n",
    "my_model_3.fit(X_train, y_train) # Your code here\n",
    "\n",
    "# Get predictions\n",
    "predictions_3 = my_model_3.predict(X_valid)\n",
    "\n",
    "# Calculate MAE\n",
    "mae_3 = mean_absolute_error(y_valid, predictions_3)\n",
    "\n",
    "# Uncomment to print MAE\n",
    "print(\"Mean Absolute Error:\" , mae_3)\n",
    "\n",
    "# Check your answer\n",
    "step_3.check()"
   ]
  },
  {
   "cell_type": "code",
   "execution_count": 12,
   "id": "ce9d1d61",
   "metadata": {
    "execution": {
     "iopub.execute_input": "2022-06-19T17:33:39.618242Z",
     "iopub.status.busy": "2022-06-19T17:33:39.617826Z",
     "iopub.status.idle": "2022-06-19T17:33:39.621741Z",
     "shell.execute_reply": "2022-06-19T17:33:39.620929Z"
    },
    "papermill": {
     "duration": 0.015313,
     "end_time": "2022-06-19T17:33:39.623613",
     "exception": false,
     "start_time": "2022-06-19T17:33:39.608300",
     "status": "completed"
    },
    "tags": []
   },
   "outputs": [],
   "source": [
    "# Lines below will give you a hint or solution code\n",
    "#step_3.hint()\n",
    "#step_3.solution()"
   ]
  },
  {
   "cell_type": "markdown",
   "id": "cf2c8702",
   "metadata": {
    "papermill": {
     "duration": 0.008496,
     "end_time": "2022-06-19T17:33:39.640429",
     "exception": false,
     "start_time": "2022-06-19T17:33:39.631933",
     "status": "completed"
    },
    "tags": []
   },
   "source": [
    "# Keep going\n",
    "\n",
    "Continue to learn about **[data leakage](https://www.kaggle.com/alexisbcook/data-leakage)**.  This is an important issue for a data scientist to understand, and it has the potential to ruin your models in subtle and dangerous ways!"
   ]
  },
  {
   "cell_type": "markdown",
   "id": "d496dbf0",
   "metadata": {
    "papermill": {
     "duration": 0.007679,
     "end_time": "2022-06-19T17:33:39.656466",
     "exception": false,
     "start_time": "2022-06-19T17:33:39.648787",
     "status": "completed"
    },
    "tags": []
   },
   "source": [
    "---\n",
    "\n",
    "\n",
    "\n",
    "\n",
    "*Have questions or comments? Visit the [course discussion forum](https://www.kaggle.com/learn/intermediate-machine-learning/discussion) to chat with other learners.*"
   ]
  }
 ],
 "metadata": {
  "kernelspec": {
   "display_name": "Python 3",
   "language": "python",
   "name": "python3"
  },
  "language_info": {
   "codemirror_mode": {
    "name": "ipython",
    "version": 3
   },
   "file_extension": ".py",
   "mimetype": "text/x-python",
   "name": "python",
   "nbconvert_exporter": "python",
   "pygments_lexer": "ipython3",
   "version": "3.7.12"
  },
  "papermill": {
   "default_parameters": {},
   "duration": 18.570637,
   "end_time": "2022-06-19T17:33:40.488763",
   "environment_variables": {},
   "exception": null,
   "input_path": "__notebook__.ipynb",
   "output_path": "__notebook__.ipynb",
   "parameters": {},
   "start_time": "2022-06-19T17:33:21.918126",
   "version": "2.3.4"
  }
 },
 "nbformat": 4,
 "nbformat_minor": 5
}
