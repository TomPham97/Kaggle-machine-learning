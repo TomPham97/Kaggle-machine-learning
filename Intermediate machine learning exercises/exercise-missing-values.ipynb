{
 "cells": [
  {
   "cell_type": "markdown",
   "id": "e8f3afa6",
   "metadata": {
    "papermill": {
     "duration": 0.012168,
     "end_time": "2022-06-08T20:37:22.368269",
     "exception": false,
     "start_time": "2022-06-08T20:37:22.356101",
     "status": "completed"
    },
    "tags": []
   },
   "source": [
    "**This notebook is an exercise in the [Intermediate Machine Learning](https://www.kaggle.com/learn/intermediate-machine-learning) course.  You can reference the tutorial at [this link](https://www.kaggle.com/alexisbcook/missing-values).**\n",
    "\n",
    "---\n"
   ]
  },
  {
   "cell_type": "markdown",
   "id": "051d4ef0",
   "metadata": {
    "papermill": {
     "duration": 0.011197,
     "end_time": "2022-06-08T20:37:22.391154",
     "exception": false,
     "start_time": "2022-06-08T20:37:22.379957",
     "status": "completed"
    },
    "tags": []
   },
   "source": [
    "Now it's your turn to test your new knowledge of **missing values** handling. You'll probably find it makes a big difference.\n",
    "\n",
    "# Setup\n",
    "\n",
    "The questions will give you feedback on your work. Run the following cell to set up the feedback system."
   ]
  },
  {
   "cell_type": "code",
   "execution_count": 1,
   "id": "ebd64ab9",
   "metadata": {
    "execution": {
     "iopub.execute_input": "2022-06-08T20:37:22.415667Z",
     "iopub.status.busy": "2022-06-08T20:37:22.415290Z",
     "iopub.status.idle": "2022-06-08T20:37:22.450714Z",
     "shell.execute_reply": "2022-06-08T20:37:22.449840Z"
    },
    "papermill": {
     "duration": 0.049897,
     "end_time": "2022-06-08T20:37:22.452539",
     "exception": false,
     "start_time": "2022-06-08T20:37:22.402642",
     "status": "completed"
    },
    "tags": []
   },
   "outputs": [
    {
     "name": "stdout",
     "output_type": "stream",
     "text": [
      "Setup Complete\n"
     ]
    }
   ],
   "source": [
    "# Set up code checking\n",
    "import os\n",
    "if not os.path.exists(\"../input/train.csv\"):\n",
    "    os.symlink(\"../input/home-data-for-ml-course/train.csv\", \"../input/train.csv\")  \n",
    "    os.symlink(\"../input/home-data-for-ml-course/test.csv\", \"../input/test.csv\") \n",
    "from learntools.core import binder\n",
    "binder.bind(globals())\n",
    "from learntools.ml_intermediate.ex2 import *\n",
    "print(\"Setup Complete\")"
   ]
  },
  {
   "cell_type": "markdown",
   "id": "0f800a35",
   "metadata": {
    "papermill": {
     "duration": 0.006614,
     "end_time": "2022-06-08T20:37:22.466890",
     "exception": false,
     "start_time": "2022-06-08T20:37:22.460276",
     "status": "completed"
    },
    "tags": []
   },
   "source": [
    "In this exercise, you will work with data from the [Housing Prices Competition for Kaggle Learn Users](https://www.kaggle.com/c/home-data-for-ml-course). \n",
    "\n",
    "![Ames Housing dataset image](https://i.imgur.com/lTJVG4e.png)\n",
    "\n",
    "Run the next code cell without changes to load the training and validation sets in `X_train`, `X_valid`, `y_train`, and `y_valid`.  The test set is loaded in `X_test`."
   ]
  },
  {
   "cell_type": "code",
   "execution_count": 2,
   "id": "370a8a4b",
   "metadata": {
    "execution": {
     "iopub.execute_input": "2022-06-08T20:37:22.481773Z",
     "iopub.status.busy": "2022-06-08T20:37:22.481418Z",
     "iopub.status.idle": "2022-06-08T20:37:23.539476Z",
     "shell.execute_reply": "2022-06-08T20:37:23.538688Z"
    },
    "papermill": {
     "duration": 1.067649,
     "end_time": "2022-06-08T20:37:23.541244",
     "exception": false,
     "start_time": "2022-06-08T20:37:22.473595",
     "status": "completed"
    },
    "tags": []
   },
   "outputs": [],
   "source": [
    "import pandas as pd\n",
    "from sklearn.model_selection import train_test_split\n",
    "\n",
    "# Read the data\n",
    "X_full = pd.read_csv('../input/train.csv', index_col='Id')\n",
    "X_test_full = pd.read_csv('../input/test.csv', index_col='Id')\n",
    "\n",
    "# Remove rows with missing target, separate target from predictors\n",
    "X_full.dropna(axis=0, subset=['SalePrice'], inplace=True)\n",
    "y = X_full.SalePrice\n",
    "X_full.drop(['SalePrice'], axis=1, inplace=True)\n",
    "\n",
    "# To keep things simple, we'll use only numerical predictors\n",
    "X = X_full.select_dtypes(exclude=['object'])\n",
    "X_test = X_test_full.select_dtypes(exclude=['object'])\n",
    "\n",
    "# Break off validation set from training data\n",
    "X_train, X_valid, y_train, y_valid = train_test_split(X, y, train_size=0.8, test_size=0.2,\n",
    "                                                      random_state=0)"
   ]
  },
  {
   "cell_type": "markdown",
   "id": "c15c3d80",
   "metadata": {
    "papermill": {
     "duration": 0.007213,
     "end_time": "2022-06-08T20:37:23.556368",
     "exception": false,
     "start_time": "2022-06-08T20:37:23.549155",
     "status": "completed"
    },
    "tags": []
   },
   "source": [
    "Use the next code cell to print the first five rows of the data."
   ]
  },
  {
   "cell_type": "code",
   "execution_count": 3,
   "id": "16cc4e82",
   "metadata": {
    "execution": {
     "iopub.execute_input": "2022-06-08T20:37:23.572457Z",
     "iopub.status.busy": "2022-06-08T20:37:23.571943Z",
     "iopub.status.idle": "2022-06-08T20:37:23.595517Z",
     "shell.execute_reply": "2022-06-08T20:37:23.594496Z"
    },
    "papermill": {
     "duration": 0.034242,
     "end_time": "2022-06-08T20:37:23.597610",
     "exception": false,
     "start_time": "2022-06-08T20:37:23.563368",
     "status": "completed"
    },
    "tags": []
   },
   "outputs": [
    {
     "data": {
      "text/html": [
       "<div>\n",
       "<style scoped>\n",
       "    .dataframe tbody tr th:only-of-type {\n",
       "        vertical-align: middle;\n",
       "    }\n",
       "\n",
       "    .dataframe tbody tr th {\n",
       "        vertical-align: top;\n",
       "    }\n",
       "\n",
       "    .dataframe thead th {\n",
       "        text-align: right;\n",
       "    }\n",
       "</style>\n",
       "<table border=\"1\" class=\"dataframe\">\n",
       "  <thead>\n",
       "    <tr style=\"text-align: right;\">\n",
       "      <th></th>\n",
       "      <th>MSSubClass</th>\n",
       "      <th>LotFrontage</th>\n",
       "      <th>LotArea</th>\n",
       "      <th>OverallQual</th>\n",
       "      <th>OverallCond</th>\n",
       "      <th>YearBuilt</th>\n",
       "      <th>YearRemodAdd</th>\n",
       "      <th>MasVnrArea</th>\n",
       "      <th>BsmtFinSF1</th>\n",
       "      <th>BsmtFinSF2</th>\n",
       "      <th>...</th>\n",
       "      <th>GarageArea</th>\n",
       "      <th>WoodDeckSF</th>\n",
       "      <th>OpenPorchSF</th>\n",
       "      <th>EnclosedPorch</th>\n",
       "      <th>3SsnPorch</th>\n",
       "      <th>ScreenPorch</th>\n",
       "      <th>PoolArea</th>\n",
       "      <th>MiscVal</th>\n",
       "      <th>MoSold</th>\n",
       "      <th>YrSold</th>\n",
       "    </tr>\n",
       "    <tr>\n",
       "      <th>Id</th>\n",
       "      <th></th>\n",
       "      <th></th>\n",
       "      <th></th>\n",
       "      <th></th>\n",
       "      <th></th>\n",
       "      <th></th>\n",
       "      <th></th>\n",
       "      <th></th>\n",
       "      <th></th>\n",
       "      <th></th>\n",
       "      <th></th>\n",
       "      <th></th>\n",
       "      <th></th>\n",
       "      <th></th>\n",
       "      <th></th>\n",
       "      <th></th>\n",
       "      <th></th>\n",
       "      <th></th>\n",
       "      <th></th>\n",
       "      <th></th>\n",
       "      <th></th>\n",
       "    </tr>\n",
       "  </thead>\n",
       "  <tbody>\n",
       "    <tr>\n",
       "      <th>619</th>\n",
       "      <td>20</td>\n",
       "      <td>90.0</td>\n",
       "      <td>11694</td>\n",
       "      <td>9</td>\n",
       "      <td>5</td>\n",
       "      <td>2007</td>\n",
       "      <td>2007</td>\n",
       "      <td>452.0</td>\n",
       "      <td>48</td>\n",
       "      <td>0</td>\n",
       "      <td>...</td>\n",
       "      <td>774</td>\n",
       "      <td>0</td>\n",
       "      <td>108</td>\n",
       "      <td>0</td>\n",
       "      <td>0</td>\n",
       "      <td>260</td>\n",
       "      <td>0</td>\n",
       "      <td>0</td>\n",
       "      <td>7</td>\n",
       "      <td>2007</td>\n",
       "    </tr>\n",
       "    <tr>\n",
       "      <th>871</th>\n",
       "      <td>20</td>\n",
       "      <td>60.0</td>\n",
       "      <td>6600</td>\n",
       "      <td>5</td>\n",
       "      <td>5</td>\n",
       "      <td>1962</td>\n",
       "      <td>1962</td>\n",
       "      <td>0.0</td>\n",
       "      <td>0</td>\n",
       "      <td>0</td>\n",
       "      <td>...</td>\n",
       "      <td>308</td>\n",
       "      <td>0</td>\n",
       "      <td>0</td>\n",
       "      <td>0</td>\n",
       "      <td>0</td>\n",
       "      <td>0</td>\n",
       "      <td>0</td>\n",
       "      <td>0</td>\n",
       "      <td>8</td>\n",
       "      <td>2009</td>\n",
       "    </tr>\n",
       "    <tr>\n",
       "      <th>93</th>\n",
       "      <td>30</td>\n",
       "      <td>80.0</td>\n",
       "      <td>13360</td>\n",
       "      <td>5</td>\n",
       "      <td>7</td>\n",
       "      <td>1921</td>\n",
       "      <td>2006</td>\n",
       "      <td>0.0</td>\n",
       "      <td>713</td>\n",
       "      <td>0</td>\n",
       "      <td>...</td>\n",
       "      <td>432</td>\n",
       "      <td>0</td>\n",
       "      <td>0</td>\n",
       "      <td>44</td>\n",
       "      <td>0</td>\n",
       "      <td>0</td>\n",
       "      <td>0</td>\n",
       "      <td>0</td>\n",
       "      <td>8</td>\n",
       "      <td>2009</td>\n",
       "    </tr>\n",
       "    <tr>\n",
       "      <th>818</th>\n",
       "      <td>20</td>\n",
       "      <td>NaN</td>\n",
       "      <td>13265</td>\n",
       "      <td>8</td>\n",
       "      <td>5</td>\n",
       "      <td>2002</td>\n",
       "      <td>2002</td>\n",
       "      <td>148.0</td>\n",
       "      <td>1218</td>\n",
       "      <td>0</td>\n",
       "      <td>...</td>\n",
       "      <td>857</td>\n",
       "      <td>150</td>\n",
       "      <td>59</td>\n",
       "      <td>0</td>\n",
       "      <td>0</td>\n",
       "      <td>0</td>\n",
       "      <td>0</td>\n",
       "      <td>0</td>\n",
       "      <td>7</td>\n",
       "      <td>2008</td>\n",
       "    </tr>\n",
       "    <tr>\n",
       "      <th>303</th>\n",
       "      <td>20</td>\n",
       "      <td>118.0</td>\n",
       "      <td>13704</td>\n",
       "      <td>7</td>\n",
       "      <td>5</td>\n",
       "      <td>2001</td>\n",
       "      <td>2002</td>\n",
       "      <td>150.0</td>\n",
       "      <td>0</td>\n",
       "      <td>0</td>\n",
       "      <td>...</td>\n",
       "      <td>843</td>\n",
       "      <td>468</td>\n",
       "      <td>81</td>\n",
       "      <td>0</td>\n",
       "      <td>0</td>\n",
       "      <td>0</td>\n",
       "      <td>0</td>\n",
       "      <td>0</td>\n",
       "      <td>1</td>\n",
       "      <td>2006</td>\n",
       "    </tr>\n",
       "  </tbody>\n",
       "</table>\n",
       "<p>5 rows × 36 columns</p>\n",
       "</div>"
      ],
      "text/plain": [
       "     MSSubClass  LotFrontage  LotArea  OverallQual  OverallCond  YearBuilt  \\\n",
       "Id                                                                           \n",
       "619          20         90.0    11694            9            5       2007   \n",
       "871          20         60.0     6600            5            5       1962   \n",
       "93           30         80.0    13360            5            7       1921   \n",
       "818          20          NaN    13265            8            5       2002   \n",
       "303          20        118.0    13704            7            5       2001   \n",
       "\n",
       "     YearRemodAdd  MasVnrArea  BsmtFinSF1  BsmtFinSF2  ...  GarageArea  \\\n",
       "Id                                                     ...               \n",
       "619          2007       452.0          48           0  ...         774   \n",
       "871          1962         0.0           0           0  ...         308   \n",
       "93           2006         0.0         713           0  ...         432   \n",
       "818          2002       148.0        1218           0  ...         857   \n",
       "303          2002       150.0           0           0  ...         843   \n",
       "\n",
       "     WoodDeckSF  OpenPorchSF  EnclosedPorch  3SsnPorch  ScreenPorch  PoolArea  \\\n",
       "Id                                                                              \n",
       "619           0          108              0          0          260         0   \n",
       "871           0            0              0          0            0         0   \n",
       "93            0            0             44          0            0         0   \n",
       "818         150           59              0          0            0         0   \n",
       "303         468           81              0          0            0         0   \n",
       "\n",
       "     MiscVal  MoSold  YrSold  \n",
       "Id                            \n",
       "619        0       7    2007  \n",
       "871        0       8    2009  \n",
       "93         0       8    2009  \n",
       "818        0       7    2008  \n",
       "303        0       1    2006  \n",
       "\n",
       "[5 rows x 36 columns]"
      ]
     },
     "execution_count": 3,
     "metadata": {},
     "output_type": "execute_result"
    }
   ],
   "source": [
    "X_train.head()"
   ]
  },
  {
   "cell_type": "markdown",
   "id": "7a3638a1",
   "metadata": {
    "papermill": {
     "duration": 0.011355,
     "end_time": "2022-06-08T20:37:23.620869",
     "exception": false,
     "start_time": "2022-06-08T20:37:23.609514",
     "status": "completed"
    },
    "tags": []
   },
   "source": [
    "You can already see a few missing values in the first several rows.  In the next step, you'll obtain a more comprehensive understanding of the missing values in the dataset.\n",
    "\n",
    "# Step 1: Preliminary investigation\n",
    "\n",
    "Run the code cell below without changes."
   ]
  },
  {
   "cell_type": "code",
   "execution_count": 4,
   "id": "68b19da4",
   "metadata": {
    "execution": {
     "iopub.execute_input": "2022-06-08T20:37:23.645530Z",
     "iopub.status.busy": "2022-06-08T20:37:23.645206Z",
     "iopub.status.idle": "2022-06-08T20:37:23.653478Z",
     "shell.execute_reply": "2022-06-08T20:37:23.652373Z"
    },
    "papermill": {
     "duration": 0.024045,
     "end_time": "2022-06-08T20:37:23.656595",
     "exception": false,
     "start_time": "2022-06-08T20:37:23.632550",
     "status": "completed"
    },
    "tags": []
   },
   "outputs": [
    {
     "name": "stdout",
     "output_type": "stream",
     "text": [
      "(1168, 36)\n",
      "LotFrontage    212\n",
      "MasVnrArea       6\n",
      "GarageYrBlt     58\n",
      "dtype: int64\n"
     ]
    }
   ],
   "source": [
    "# Shape of training data (num_rows, num_columns)\n",
    "print(X_train.shape)\n",
    "\n",
    "# Number of missing values in each column of training data\n",
    "missing_val_count_by_column = (X_train.isnull().sum())\n",
    "print(missing_val_count_by_column[missing_val_count_by_column > 0])"
   ]
  },
  {
   "cell_type": "markdown",
   "id": "1d4b699c",
   "metadata": {
    "papermill": {
     "duration": 0.011748,
     "end_time": "2022-06-08T20:37:23.681539",
     "exception": false,
     "start_time": "2022-06-08T20:37:23.669791",
     "status": "completed"
    },
    "tags": []
   },
   "source": [
    "### Part A\n",
    "\n",
    "Use the above output to answer the questions below."
   ]
  },
  {
   "cell_type": "code",
   "execution_count": 5,
   "id": "d525e562",
   "metadata": {
    "execution": {
     "iopub.execute_input": "2022-06-08T20:37:23.707792Z",
     "iopub.status.busy": "2022-06-08T20:37:23.707454Z",
     "iopub.status.idle": "2022-06-08T20:37:23.715351Z",
     "shell.execute_reply": "2022-06-08T20:37:23.714645Z"
    },
    "papermill": {
     "duration": 0.023377,
     "end_time": "2022-06-08T20:37:23.717256",
     "exception": false,
     "start_time": "2022-06-08T20:37:23.693879",
     "status": "completed"
    },
    "tags": []
   },
   "outputs": [
    {
     "data": {
      "application/javascript": [
       "parent.postMessage({\"jupyterEvent\": \"custom.exercise_interaction\", \"data\": {\"outcomeType\": 1, \"valueTowardsCompletion\": 1.0, \"interactionType\": 1, \"questionType\": 1, \"questionId\": \"1.1_InvestigateEquality\", \"learnToolsVersion\": \"0.3.4\", \"failureMessage\": \"\", \"exceptionClass\": \"\", \"trace\": \"\"}}, \"*\")"
      ],
      "text/plain": [
       "<IPython.core.display.Javascript object>"
      ]
     },
     "metadata": {},
     "output_type": "display_data"
    },
    {
     "data": {
      "text/markdown": [
       "<span style=\"color:#33cc33\">Correct</span>"
      ],
      "text/plain": [
       "Correct"
      ]
     },
     "metadata": {},
     "output_type": "display_data"
    }
   ],
   "source": [
    "# Fill in the line below: How many rows are in the training data?\n",
    "num_rows = 1168\n",
    "\n",
    "# Fill in the line below: How many columns in the training data\n",
    "# have missing values?\n",
    "num_cols_with_missing = 3\n",
    "\n",
    "# Fill in the line below: How many missing entries are contained in \n",
    "# all of the training data?\n",
    "tot_missing = 212 + 6 + 58\n",
    "\n",
    "# Check your answers\n",
    "step_1.a.check()"
   ]
  },
  {
   "cell_type": "code",
   "execution_count": 6,
   "id": "cbd0e7cf",
   "metadata": {
    "execution": {
     "iopub.execute_input": "2022-06-08T20:37:23.744097Z",
     "iopub.status.busy": "2022-06-08T20:37:23.743568Z",
     "iopub.status.idle": "2022-06-08T20:37:23.747041Z",
     "shell.execute_reply": "2022-06-08T20:37:23.746475Z"
    },
    "papermill": {
     "duration": 0.018871,
     "end_time": "2022-06-08T20:37:23.748784",
     "exception": false,
     "start_time": "2022-06-08T20:37:23.729913",
     "status": "completed"
    },
    "tags": []
   },
   "outputs": [],
   "source": [
    "# Lines below will give you a hint or solution code\n",
    "#step_1.a.hint()\n",
    "#step_1.a.solution()"
   ]
  },
  {
   "cell_type": "markdown",
   "id": "ec9cc57e",
   "metadata": {
    "papermill": {
     "duration": 0.013268,
     "end_time": "2022-06-08T20:37:23.774629",
     "exception": false,
     "start_time": "2022-06-08T20:37:23.761361",
     "status": "completed"
    },
    "tags": []
   },
   "source": [
    "### Part B\n",
    "Considering your answers above, what do you think is likely the best approach to dealing with the missing values?"
   ]
  },
  {
   "cell_type": "code",
   "execution_count": 7,
   "id": "019a433b",
   "metadata": {
    "execution": {
     "iopub.execute_input": "2022-06-08T20:37:23.801605Z",
     "iopub.status.busy": "2022-06-08T20:37:23.801216Z",
     "iopub.status.idle": "2022-06-08T20:37:23.808813Z",
     "shell.execute_reply": "2022-06-08T20:37:23.807935Z"
    },
    "papermill": {
     "duration": 0.023331,
     "end_time": "2022-06-08T20:37:23.810716",
     "exception": false,
     "start_time": "2022-06-08T20:37:23.787385",
     "status": "completed"
    },
    "tags": []
   },
   "outputs": [
    {
     "data": {
      "application/javascript": [
       "parent.postMessage({\"jupyterEvent\": \"custom.exercise_interaction\", \"data\": {\"outcomeType\": 1, \"valueTowardsCompletion\": 1.0, \"interactionType\": 1, \"questionType\": 4, \"questionId\": \"1.2_InvestigateThought\", \"learnToolsVersion\": \"0.3.4\", \"failureMessage\": \"\", \"exceptionClass\": \"\", \"trace\": \"\"}}, \"*\")"
      ],
      "text/plain": [
       "<IPython.core.display.Javascript object>"
      ]
     },
     "metadata": {},
     "output_type": "display_data"
    },
    {
     "data": {
      "text/markdown": [
       "<span style=\"color:#33cc33\">Correct:</span> \n",
       "\n",
       "Since there are relatively few missing entries in the data (the column with the greatest percentage of missing values is missing less than 20% of its entries), we can expect that dropping columns is unlikely to yield good results.  This is because we'd be throwing away a lot of valuable data, and so imputation will likely perform better."
      ],
      "text/plain": [
       "Correct: \n",
       "\n",
       "Since there are relatively few missing entries in the data (the column with the greatest percentage of missing values is missing less than 20% of its entries), we can expect that dropping columns is unlikely to yield good results.  This is because we'd be throwing away a lot of valuable data, and so imputation will likely perform better."
      ]
     },
     "metadata": {},
     "output_type": "display_data"
    }
   ],
   "source": [
    "# Check your answer (Run this code cell to receive credit!)\n",
    "step_1.b.check()"
   ]
  },
  {
   "cell_type": "code",
   "execution_count": 8,
   "id": "65135f0e",
   "metadata": {
    "execution": {
     "iopub.execute_input": "2022-06-08T20:37:23.839040Z",
     "iopub.status.busy": "2022-06-08T20:37:23.838703Z",
     "iopub.status.idle": "2022-06-08T20:37:23.842227Z",
     "shell.execute_reply": "2022-06-08T20:37:23.841357Z"
    },
    "papermill": {
     "duration": 0.020275,
     "end_time": "2022-06-08T20:37:23.844220",
     "exception": false,
     "start_time": "2022-06-08T20:37:23.823945",
     "status": "completed"
    },
    "tags": []
   },
   "outputs": [],
   "source": [
    "#step_1.b.hint()"
   ]
  },
  {
   "cell_type": "markdown",
   "id": "f4834ebd",
   "metadata": {
    "papermill": {
     "duration": 0.01207,
     "end_time": "2022-06-08T20:37:23.869191",
     "exception": false,
     "start_time": "2022-06-08T20:37:23.857121",
     "status": "completed"
    },
    "tags": []
   },
   "source": [
    "To compare different approaches to dealing with missing values, you'll use the same `score_dataset()` function from the tutorial.  This function reports the [mean absolute error](https://en.wikipedia.org/wiki/Mean_absolute_error) (MAE) from a random forest model."
   ]
  },
  {
   "cell_type": "code",
   "execution_count": 9,
   "id": "5b642ad7",
   "metadata": {
    "execution": {
     "iopub.execute_input": "2022-06-08T20:37:23.895534Z",
     "iopub.status.busy": "2022-06-08T20:37:23.895213Z",
     "iopub.status.idle": "2022-06-08T20:37:24.108604Z",
     "shell.execute_reply": "2022-06-08T20:37:24.107783Z"
    },
    "papermill": {
     "duration": 0.229031,
     "end_time": "2022-06-08T20:37:24.110766",
     "exception": false,
     "start_time": "2022-06-08T20:37:23.881735",
     "status": "completed"
    },
    "tags": []
   },
   "outputs": [],
   "source": [
    "from sklearn.ensemble import RandomForestRegressor\n",
    "from sklearn.metrics import mean_absolute_error\n",
    "\n",
    "# Function for comparing different approaches\n",
    "def score_dataset(X_train, X_valid, y_train, y_valid):\n",
    "    model = RandomForestRegressor(n_estimators=100, random_state=0)\n",
    "    model.fit(X_train, y_train)\n",
    "    preds = model.predict(X_valid)\n",
    "    return mean_absolute_error(y_valid, preds)"
   ]
  },
  {
   "cell_type": "markdown",
   "id": "c3a69cbe",
   "metadata": {
    "papermill": {
     "duration": 0.012592,
     "end_time": "2022-06-08T20:37:24.136495",
     "exception": false,
     "start_time": "2022-06-08T20:37:24.123903",
     "status": "completed"
    },
    "tags": []
   },
   "source": [
    "# Step 2: Drop columns with missing values\n",
    "\n",
    "In this step, you'll preprocess the data in `X_train` and `X_valid` to remove columns with missing values.  Set the preprocessed DataFrames to `reduced_X_train` and `reduced_X_valid`, respectively.  "
   ]
  },
  {
   "cell_type": "code",
   "execution_count": 10,
   "id": "a75fb5fa",
   "metadata": {
    "execution": {
     "iopub.execute_input": "2022-06-08T20:37:24.163801Z",
     "iopub.status.busy": "2022-06-08T20:37:24.163477Z",
     "iopub.status.idle": "2022-06-08T20:37:24.190093Z",
     "shell.execute_reply": "2022-06-08T20:37:24.189443Z"
    },
    "papermill": {
     "duration": 0.042504,
     "end_time": "2022-06-08T20:37:24.192055",
     "exception": false,
     "start_time": "2022-06-08T20:37:24.149551",
     "status": "completed"
    },
    "tags": []
   },
   "outputs": [
    {
     "data": {
      "application/javascript": [
       "parent.postMessage({\"jupyterEvent\": \"custom.exercise_interaction\", \"data\": {\"outcomeType\": 1, \"valueTowardsCompletion\": 1.0, \"interactionType\": 1, \"questionType\": 2, \"questionId\": \"2_DropMissing\", \"learnToolsVersion\": \"0.3.4\", \"failureMessage\": \"\", \"exceptionClass\": \"\", \"trace\": \"\"}}, \"*\")"
      ],
      "text/plain": [
       "<IPython.core.display.Javascript object>"
      ]
     },
     "metadata": {},
     "output_type": "display_data"
    },
    {
     "data": {
      "text/markdown": [
       "<span style=\"color:#33cc33\">Correct</span>"
      ],
      "text/plain": [
       "Correct"
      ]
     },
     "metadata": {},
     "output_type": "display_data"
    }
   ],
   "source": [
    "# Fill in the line below: get names of columns with missing values\n",
    "missing_col = [col for col in X_train.columns\n",
    "              if X_train[col].isnull().any()] # Your code here\n",
    "\n",
    "# Fill in the lines below: drop columns in training and validation data\n",
    "reduced_X_train = X_train.drop(missing_col, axis = 1)\n",
    "reduced_X_valid = X_valid.drop(missing_col, axis = 1)\n",
    "\n",
    "# Check your answers\n",
    "step_2.check()"
   ]
  },
  {
   "cell_type": "code",
   "execution_count": 11,
   "id": "30bba28f",
   "metadata": {
    "execution": {
     "iopub.execute_input": "2022-06-08T20:37:24.219872Z",
     "iopub.status.busy": "2022-06-08T20:37:24.219570Z",
     "iopub.status.idle": "2022-06-08T20:37:24.222766Z",
     "shell.execute_reply": "2022-06-08T20:37:24.222105Z"
    },
    "papermill": {
     "duration": 0.01879,
     "end_time": "2022-06-08T20:37:24.224377",
     "exception": false,
     "start_time": "2022-06-08T20:37:24.205587",
     "status": "completed"
    },
    "tags": []
   },
   "outputs": [],
   "source": [
    "# Lines below will give you a hint or solution code\n",
    "#step_2.hint()\n",
    "#step_2.solution()"
   ]
  },
  {
   "cell_type": "markdown",
   "id": "8b1f8010",
   "metadata": {
    "papermill": {
     "duration": 0.012522,
     "end_time": "2022-06-08T20:37:24.250089",
     "exception": false,
     "start_time": "2022-06-08T20:37:24.237567",
     "status": "completed"
    },
    "tags": []
   },
   "source": [
    "Run the next code cell without changes to obtain the MAE for this approach."
   ]
  },
  {
   "cell_type": "code",
   "execution_count": 12,
   "id": "a892f206",
   "metadata": {
    "execution": {
     "iopub.execute_input": "2022-06-08T20:37:24.277614Z",
     "iopub.status.busy": "2022-06-08T20:37:24.277288Z",
     "iopub.status.idle": "2022-06-08T20:37:25.276587Z",
     "shell.execute_reply": "2022-06-08T20:37:25.275542Z"
    },
    "papermill": {
     "duration": 1.015065,
     "end_time": "2022-06-08T20:37:25.278302",
     "exception": false,
     "start_time": "2022-06-08T20:37:24.263237",
     "status": "completed"
    },
    "tags": []
   },
   "outputs": [
    {
     "name": "stdout",
     "output_type": "stream",
     "text": [
      "MAE (Drop columns with missing values):\n",
      "17837.82570776256\n"
     ]
    }
   ],
   "source": [
    "print(\"MAE (Drop columns with missing values):\")\n",
    "print(score_dataset(reduced_X_train, reduced_X_valid, y_train, y_valid))"
   ]
  },
  {
   "cell_type": "markdown",
   "id": "8ccaa686",
   "metadata": {
    "papermill": {
     "duration": 0.007646,
     "end_time": "2022-06-08T20:37:25.294181",
     "exception": false,
     "start_time": "2022-06-08T20:37:25.286535",
     "status": "completed"
    },
    "tags": []
   },
   "source": [
    "# Step 3: Imputation\n",
    "\n",
    "### Part A\n",
    "\n",
    "Use the next code cell to impute missing values with the mean value along each column.  Set the preprocessed DataFrames to `imputed_X_train` and `imputed_X_valid`.  Make sure that the column names match those in `X_train` and `X_valid`."
   ]
  },
  {
   "cell_type": "code",
   "execution_count": 13,
   "id": "97456b8d",
   "metadata": {
    "execution": {
     "iopub.execute_input": "2022-06-08T20:37:25.312386Z",
     "iopub.status.busy": "2022-06-08T20:37:25.311847Z",
     "iopub.status.idle": "2022-06-08T20:37:25.340755Z",
     "shell.execute_reply": "2022-06-08T20:37:25.340270Z"
    },
    "papermill": {
     "duration": 0.040867,
     "end_time": "2022-06-08T20:37:25.343153",
     "exception": false,
     "start_time": "2022-06-08T20:37:25.302286",
     "status": "completed"
    },
    "tags": []
   },
   "outputs": [
    {
     "data": {
      "application/javascript": [
       "parent.postMessage({\"jupyterEvent\": \"custom.exercise_interaction\", \"data\": {\"outcomeType\": 1, \"valueTowardsCompletion\": 1.0, \"interactionType\": 1, \"questionType\": 2, \"questionId\": \"3.1_ImputeCode\", \"learnToolsVersion\": \"0.3.4\", \"failureMessage\": \"\", \"exceptionClass\": \"\", \"trace\": \"\"}}, \"*\")"
      ],
      "text/plain": [
       "<IPython.core.display.Javascript object>"
      ]
     },
     "metadata": {},
     "output_type": "display_data"
    },
    {
     "data": {
      "text/markdown": [
       "<span style=\"color:#33cc33\">Correct</span>"
      ],
      "text/plain": [
       "Correct"
      ]
     },
     "metadata": {},
     "output_type": "display_data"
    }
   ],
   "source": [
    "from sklearn.impute import SimpleImputer\n",
    "\n",
    "# Fill in the lines below: imputation\n",
    "imputer = SimpleImputer() # Your code here\n",
    "imputed_X_train = pd.DataFrame(imputer.fit_transform(X_train))\n",
    "imputed_X_valid = pd.DataFrame(imputer.transform(X_valid))\n",
    "\n",
    "# Fill in the lines below: imputation removed column names; put them back\n",
    "imputed_X_train.columns = X_train.columns\n",
    "imputed_X_valid.columns = X_valid.columns\n",
    "\n",
    "# Check your answers\n",
    "step_3.a.check()"
   ]
  },
  {
   "cell_type": "code",
   "execution_count": 14,
   "id": "7ae99b22",
   "metadata": {
    "execution": {
     "iopub.execute_input": "2022-06-08T20:37:25.371160Z",
     "iopub.status.busy": "2022-06-08T20:37:25.370840Z",
     "iopub.status.idle": "2022-06-08T20:37:25.375196Z",
     "shell.execute_reply": "2022-06-08T20:37:25.374379Z"
    },
    "papermill": {
     "duration": 0.020262,
     "end_time": "2022-06-08T20:37:25.376967",
     "exception": false,
     "start_time": "2022-06-08T20:37:25.356705",
     "status": "completed"
    },
    "tags": []
   },
   "outputs": [],
   "source": [
    "# Lines below will give you a hint or solution code\n",
    "#step_3.a.hint()\n",
    "#step_3.a.solution()"
   ]
  },
  {
   "cell_type": "markdown",
   "id": "1eab5cbd",
   "metadata": {
    "papermill": {
     "duration": 0.012832,
     "end_time": "2022-06-08T20:37:25.403280",
     "exception": false,
     "start_time": "2022-06-08T20:37:25.390448",
     "status": "completed"
    },
    "tags": []
   },
   "source": [
    "Run the next code cell without changes to obtain the MAE for this approach."
   ]
  },
  {
   "cell_type": "code",
   "execution_count": 15,
   "id": "a1a4f97c",
   "metadata": {
    "execution": {
     "iopub.execute_input": "2022-06-08T20:37:25.431135Z",
     "iopub.status.busy": "2022-06-08T20:37:25.430827Z",
     "iopub.status.idle": "2022-06-08T20:37:26.521700Z",
     "shell.execute_reply": "2022-06-08T20:37:26.520318Z"
    },
    "papermill": {
     "duration": 1.107256,
     "end_time": "2022-06-08T20:37:26.523621",
     "exception": false,
     "start_time": "2022-06-08T20:37:25.416365",
     "status": "completed"
    },
    "tags": []
   },
   "outputs": [
    {
     "name": "stdout",
     "output_type": "stream",
     "text": [
      "MAE (Imputation):\n",
      "18062.894611872147\n"
     ]
    }
   ],
   "source": [
    "print(\"MAE (Imputation):\")\n",
    "print(score_dataset(imputed_X_train, imputed_X_valid, y_train, y_valid))"
   ]
  },
  {
   "cell_type": "markdown",
   "id": "2ecd9450",
   "metadata": {
    "papermill": {
     "duration": 0.008078,
     "end_time": "2022-06-08T20:37:26.540402",
     "exception": false,
     "start_time": "2022-06-08T20:37:26.532324",
     "status": "completed"
    },
    "tags": []
   },
   "source": [
    "### Part B\n",
    "\n",
    "Compare the MAE from each approach.  Does anything surprise you about the results?  Why do you think one approach performed better than the other?"
   ]
  },
  {
   "cell_type": "code",
   "execution_count": 16,
   "id": "81a48d87",
   "metadata": {
    "execution": {
     "iopub.execute_input": "2022-06-08T20:37:26.558625Z",
     "iopub.status.busy": "2022-06-08T20:37:26.558049Z",
     "iopub.status.idle": "2022-06-08T20:37:26.566167Z",
     "shell.execute_reply": "2022-06-08T20:37:26.565262Z"
    },
    "papermill": {
     "duration": 0.019263,
     "end_time": "2022-06-08T20:37:26.567954",
     "exception": false,
     "start_time": "2022-06-08T20:37:26.548691",
     "status": "completed"
    },
    "tags": []
   },
   "outputs": [
    {
     "data": {
      "application/javascript": [
       "parent.postMessage({\"jupyterEvent\": \"custom.exercise_interaction\", \"data\": {\"outcomeType\": 1, \"valueTowardsCompletion\": 1.0, \"interactionType\": 1, \"questionType\": 4, \"questionId\": \"3.2_ImputeThought\", \"learnToolsVersion\": \"0.3.4\", \"failureMessage\": \"\", \"exceptionClass\": \"\", \"trace\": \"\"}}, \"*\")"
      ],
      "text/plain": [
       "<IPython.core.display.Javascript object>"
      ]
     },
     "metadata": {},
     "output_type": "display_data"
    },
    {
     "data": {
      "text/markdown": [
       "<span style=\"color:#33cc33\">Correct:</span> \n",
       "\n",
       "Given that thre are so few missing values in the dataset, we'd expect imputation to perform better than dropping columns entirely.  However, we see that dropping columns performs slightly better!  While this can probably partially be attributed to noise in the dataset, another potential explanation is that the imputation method is not a great match to this dataset.  That is, maybe instead of filling in the mean value, it makes more sense to set every missing value to a value of 0, to fill in the most frequently encountered value, or to use some other method.  For instance, consider the `GarageYrBlt` column (which indicates the year that the garage was built).  It's likely that in some cases, a missing value could indicate a house that does not have a garage.  Does it make more sense to fill in the median value along each column in this case?  Or could we get better results by filling in the minimum value along each column?  It's not quite clear what's best in this case, but perhaps we can rule out some options immediately - for instance, setting missing values in this column to 0 is likely to yield horrible results!"
      ],
      "text/plain": [
       "Correct: \n",
       "\n",
       "Given that thre are so few missing values in the dataset, we'd expect imputation to perform better than dropping columns entirely.  However, we see that dropping columns performs slightly better!  While this can probably partially be attributed to noise in the dataset, another potential explanation is that the imputation method is not a great match to this dataset.  That is, maybe instead of filling in the mean value, it makes more sense to set every missing value to a value of 0, to fill in the most frequently encountered value, or to use some other method.  For instance, consider the `GarageYrBlt` column (which indicates the year that the garage was built).  It's likely that in some cases, a missing value could indicate a house that does not have a garage.  Does it make more sense to fill in the median value along each column in this case?  Or could we get better results by filling in the minimum value along each column?  It's not quite clear what's best in this case, but perhaps we can rule out some options immediately - for instance, setting missing values in this column to 0 is likely to yield horrible results!"
      ]
     },
     "metadata": {},
     "output_type": "display_data"
    }
   ],
   "source": [
    "# Check your answer (Run this code cell to receive credit!)\n",
    "step_3.b.check()"
   ]
  },
  {
   "cell_type": "code",
   "execution_count": 17,
   "id": "a2b57ef4",
   "metadata": {
    "execution": {
     "iopub.execute_input": "2022-06-08T20:37:26.598076Z",
     "iopub.status.busy": "2022-06-08T20:37:26.597747Z",
     "iopub.status.idle": "2022-06-08T20:37:26.601142Z",
     "shell.execute_reply": "2022-06-08T20:37:26.600486Z"
    },
    "papermill": {
     "duration": 0.020009,
     "end_time": "2022-06-08T20:37:26.602580",
     "exception": false,
     "start_time": "2022-06-08T20:37:26.582571",
     "status": "completed"
    },
    "tags": []
   },
   "outputs": [],
   "source": [
    "#step_3.b.hint()"
   ]
  },
  {
   "cell_type": "markdown",
   "id": "1dab0694",
   "metadata": {
    "papermill": {
     "duration": 0.0086,
     "end_time": "2022-06-08T20:37:26.620214",
     "exception": false,
     "start_time": "2022-06-08T20:37:26.611614",
     "status": "completed"
    },
    "tags": []
   },
   "source": [
    "# Step 4: Generate test predictions\n",
    "\n",
    "In this final step, you'll use any approach of your choosing to deal with missing values.  Once you've preprocessed the training and validation features, you'll train and evaluate a random forest model.  Then, you'll preprocess the test data before generating predictions that can be submitted to the competition!\n",
    "\n",
    "### Part A\n",
    "\n",
    "Use the next code cell to preprocess the training and validation data.  Set the preprocessed DataFrames to `final_X_train` and `final_X_valid`.  **You can use any approach of your choosing here!**  in order for this step to be marked as correct, you need only ensure:\n",
    "- the preprocessed DataFrames have the same number of columns,\n",
    "- the preprocessed DataFrames have no missing values, \n",
    "- `final_X_train` and `y_train` have the same number of rows, and\n",
    "- `final_X_valid` and `y_valid` have the same number of rows."
   ]
  },
  {
   "cell_type": "code",
   "execution_count": 18,
   "id": "6743f5a2",
   "metadata": {
    "execution": {
     "iopub.execute_input": "2022-06-08T20:37:26.639157Z",
     "iopub.status.busy": "2022-06-08T20:37:26.638639Z",
     "iopub.status.idle": "2022-06-08T20:37:26.667822Z",
     "shell.execute_reply": "2022-06-08T20:37:26.666988Z"
    },
    "papermill": {
     "duration": 0.040247,
     "end_time": "2022-06-08T20:37:26.669197",
     "exception": false,
     "start_time": "2022-06-08T20:37:26.628950",
     "status": "completed"
    },
    "tags": []
   },
   "outputs": [
    {
     "data": {
      "application/javascript": [
       "parent.postMessage({\"jupyterEvent\": \"custom.exercise_interaction\", \"data\": {\"outcomeType\": 1, \"valueTowardsCompletion\": 1.0, \"interactionType\": 1, \"questionType\": 2, \"questionId\": \"4.1_PredsCodeA\", \"learnToolsVersion\": \"0.3.4\", \"failureMessage\": \"\", \"exceptionClass\": \"\", \"trace\": \"\"}}, \"*\")"
      ],
      "text/plain": [
       "<IPython.core.display.Javascript object>"
      ]
     },
     "metadata": {},
     "output_type": "display_data"
    },
    {
     "data": {
      "text/markdown": [
       "<span style=\"color:#33cc33\">Correct</span>"
      ],
      "text/plain": [
       "Correct"
      ]
     },
     "metadata": {},
     "output_type": "display_data"
    }
   ],
   "source": [
    "# Preprocessed training and validation features\n",
    "final_X_train = pd.DataFrame(imputer.fit_transform(X_train))\n",
    "final_X_valid = pd.DataFrame(imputer.fit_transform(X_valid))\n",
    "\n",
    "# Check your answers\n",
    "step_4.a.check()"
   ]
  },
  {
   "cell_type": "code",
   "execution_count": 19,
   "id": "e4c94aa1",
   "metadata": {
    "execution": {
     "iopub.execute_input": "2022-06-08T20:37:26.688067Z",
     "iopub.status.busy": "2022-06-08T20:37:26.687711Z",
     "iopub.status.idle": "2022-06-08T20:37:26.694098Z",
     "shell.execute_reply": "2022-06-08T20:37:26.693341Z"
    },
    "papermill": {
     "duration": 0.017928,
     "end_time": "2022-06-08T20:37:26.695971",
     "exception": false,
     "start_time": "2022-06-08T20:37:26.678043",
     "status": "completed"
    },
    "tags": []
   },
   "outputs": [
    {
     "data": {
      "application/javascript": [
       "parent.postMessage({\"jupyterEvent\": \"custom.exercise_interaction\", \"data\": {\"interactionType\": 2, \"questionType\": 2, \"questionId\": \"4.1_PredsCodeA\", \"learnToolsVersion\": \"0.3.4\", \"valueTowardsCompletion\": 0.0, \"failureMessage\": \"\", \"exceptionClass\": \"\", \"trace\": \"\", \"outcomeType\": 4}}, \"*\")"
      ],
      "text/plain": [
       "<IPython.core.display.Javascript object>"
      ]
     },
     "metadata": {},
     "output_type": "display_data"
    },
    {
     "data": {
      "text/markdown": [
       "<span style=\"color:#3366cc\">Hint:</span> Use any approach of your choosing to deal with missing values in the data.  For inspiration, check out the code from the tutorial!"
      ],
      "text/plain": [
       "Hint: Use any approach of your choosing to deal with missing values in the data.  For inspiration, check out the code from the tutorial!"
      ]
     },
     "metadata": {},
     "output_type": "display_data"
    }
   ],
   "source": [
    "# Lines below will give you a hint or solution code\n",
    "step_4.a.hint()\n",
    "#step_4.a.solution()"
   ]
  },
  {
   "cell_type": "markdown",
   "id": "149c4762",
   "metadata": {
    "papermill": {
     "duration": 0.008967,
     "end_time": "2022-06-08T20:37:26.714707",
     "exception": false,
     "start_time": "2022-06-08T20:37:26.705740",
     "status": "completed"
    },
    "tags": []
   },
   "source": [
    "Run the next code cell to train and evaluate a random forest model.  (*Note that we don't use the `score_dataset()` function above, because we will soon use the trained model to generate test predictions!*)"
   ]
  },
  {
   "cell_type": "code",
   "execution_count": 20,
   "id": "32509abd",
   "metadata": {
    "execution": {
     "iopub.execute_input": "2022-06-08T20:37:26.734352Z",
     "iopub.status.busy": "2022-06-08T20:37:26.733850Z",
     "iopub.status.idle": "2022-06-08T20:37:28.195155Z",
     "shell.execute_reply": "2022-06-08T20:37:28.194458Z"
    },
    "papermill": {
     "duration": 1.472979,
     "end_time": "2022-06-08T20:37:28.196950",
     "exception": false,
     "start_time": "2022-06-08T20:37:26.723971",
     "status": "completed"
    },
    "tags": []
   },
   "outputs": [
    {
     "name": "stdout",
     "output_type": "stream",
     "text": [
      "MAE (Your approach):\n",
      "18056.85163242009\n"
     ]
    }
   ],
   "source": [
    "# Define and fit model\n",
    "model = RandomForestRegressor(n_estimators=100, random_state=0)\n",
    "model.fit(final_X_train, y_train)\n",
    "\n",
    "# Get validation predictions and MAE\n",
    "preds_valid = model.predict(final_X_valid)\n",
    "print(\"MAE (Your approach):\")\n",
    "print(mean_absolute_error(y_valid, preds_valid))"
   ]
  },
  {
   "cell_type": "markdown",
   "id": "8040da61",
   "metadata": {
    "papermill": {
     "duration": 0.013632,
     "end_time": "2022-06-08T20:37:28.224511",
     "exception": false,
     "start_time": "2022-06-08T20:37:28.210879",
     "status": "completed"
    },
    "tags": []
   },
   "source": [
    "### Part B\n",
    "\n",
    "Use the next code cell to preprocess your test data.  Make sure that you use a method that agrees with how you preprocessed the training and validation data, and set the preprocessed test features to `final_X_test`.\n",
    "\n",
    "Then, use the preprocessed test features and the trained model to generate test predictions in `preds_test`.\n",
    "\n",
    "In order for this step to be marked correct, you need only ensure:\n",
    "- the preprocessed test DataFrame has no missing values, and\n",
    "- `final_X_test` has the same number of rows as `X_test`."
   ]
  },
  {
   "cell_type": "code",
   "execution_count": 21,
   "id": "e54a15b1",
   "metadata": {
    "execution": {
     "iopub.execute_input": "2022-06-08T20:37:28.256245Z",
     "iopub.status.busy": "2022-06-08T20:37:28.255306Z",
     "iopub.status.idle": "2022-06-08T20:37:28.307695Z",
     "shell.execute_reply": "2022-06-08T20:37:28.306857Z"
    },
    "papermill": {
     "duration": 0.07036,
     "end_time": "2022-06-08T20:37:28.309662",
     "exception": false,
     "start_time": "2022-06-08T20:37:28.239302",
     "status": "completed"
    },
    "tags": []
   },
   "outputs": [
    {
     "data": {
      "application/javascript": [
       "parent.postMessage({\"jupyterEvent\": \"custom.exercise_interaction\", \"data\": {\"outcomeType\": 1, \"valueTowardsCompletion\": 1.0, \"interactionType\": 1, \"questionType\": 2, \"questionId\": \"4.2_PredsCodeB\", \"learnToolsVersion\": \"0.3.4\", \"failureMessage\": \"\", \"exceptionClass\": \"\", \"trace\": \"\"}}, \"*\")"
      ],
      "text/plain": [
       "<IPython.core.display.Javascript object>"
      ]
     },
     "metadata": {},
     "output_type": "display_data"
    },
    {
     "data": {
      "text/markdown": [
       "<span style=\"color:#33cc33\">Correct</span>"
      ],
      "text/plain": [
       "Correct"
      ]
     },
     "metadata": {},
     "output_type": "display_data"
    }
   ],
   "source": [
    "# Fill in the line below: preprocess test data\n",
    "final_X_test = pd.DataFrame(imputer.fit_transform(X_test))\n",
    "\n",
    "# Fill in the line below: get test predictions\n",
    "preds_test = model.predict(final_X_test)\n",
    "\n",
    "# Check your answers\n",
    "step_4.b.check()"
   ]
  },
  {
   "cell_type": "code",
   "execution_count": 22,
   "id": "e025f61f",
   "metadata": {
    "execution": {
     "iopub.execute_input": "2022-06-08T20:37:28.330012Z",
     "iopub.status.busy": "2022-06-08T20:37:28.329638Z",
     "iopub.status.idle": "2022-06-08T20:37:28.334077Z",
     "shell.execute_reply": "2022-06-08T20:37:28.333152Z"
    },
    "papermill": {
     "duration": 0.016247,
     "end_time": "2022-06-08T20:37:28.335540",
     "exception": false,
     "start_time": "2022-06-08T20:37:28.319293",
     "status": "completed"
    },
    "tags": []
   },
   "outputs": [],
   "source": [
    "# Lines below will give you a hint or solution code\n",
    "#step_4.b.hint()\n",
    "#step_4.b.solution()"
   ]
  },
  {
   "cell_type": "markdown",
   "id": "b03bd674",
   "metadata": {
    "papermill": {
     "duration": 0.009041,
     "end_time": "2022-06-08T20:37:28.353953",
     "exception": false,
     "start_time": "2022-06-08T20:37:28.344912",
     "status": "completed"
    },
    "tags": []
   },
   "source": [
    "Run the next code cell without changes to save your results to a CSV file that can be submitted directly to the competition."
   ]
  },
  {
   "cell_type": "code",
   "execution_count": 23,
   "id": "db9fd6b7",
   "metadata": {
    "execution": {
     "iopub.execute_input": "2022-06-08T20:37:28.373686Z",
     "iopub.status.busy": "2022-06-08T20:37:28.373354Z",
     "iopub.status.idle": "2022-06-08T20:37:28.383870Z",
     "shell.execute_reply": "2022-06-08T20:37:28.383131Z"
    },
    "papermill": {
     "duration": 0.022469,
     "end_time": "2022-06-08T20:37:28.385784",
     "exception": false,
     "start_time": "2022-06-08T20:37:28.363315",
     "status": "completed"
    },
    "tags": []
   },
   "outputs": [],
   "source": [
    "# Save test predictions to file\n",
    "output = pd.DataFrame({'Id': X_test.index,\n",
    "                       'SalePrice': preds_test})\n",
    "output.to_csv('submission.csv', index=False)"
   ]
  },
  {
   "cell_type": "markdown",
   "id": "5af0ffa3",
   "metadata": {
    "papermill": {
     "duration": 0.015538,
     "end_time": "2022-06-08T20:37:28.417535",
     "exception": false,
     "start_time": "2022-06-08T20:37:28.401997",
     "status": "completed"
    },
    "tags": []
   },
   "source": [
    "# Submit your results\n",
    "\n",
    "Once you have successfully completed Step 4, you're ready to submit your results to the leaderboard!  (_You also learned how to do this in the previous exercise.  If you need a reminder of how to do this, please use the instructions below._)  \n",
    "\n",
    "First, you'll need to join the competition if you haven't already.  So open a new window by clicking on [this link](https://www.kaggle.com/c/home-data-for-ml-course).  Then click on the **Join Competition** button.\n",
    "\n",
    "![join competition image](https://i.imgur.com/wLmFtH3.png)\n",
    "\n",
    "Next, follow the instructions below:\n",
    "1. Begin by clicking on the **Save Version** button in the top right corner of the window.  This will generate a pop-up window.  \n",
    "2. Ensure that the **Save and Run All** option is selected, and then click on the **Save** button.\n",
    "3. This generates a window in the bottom left corner of the notebook.  After it has finished running, click on the number to the right of the **Save Version** button.  This pulls up a list of versions on the right of the screen.  Click on the ellipsis **(...)** to the right of the most recent version, and select **Open in Viewer**.  This brings you into view mode of the same page. You will need to scroll down to get back to these instructions.\n",
    "4. Click on the **Output** tab on the right of the screen.  Then, click on the file you would like to submit, and click on the **Submit** button to submit your results to the leaderboard.\n",
    "\n",
    "You have now successfully submitted to the competition!\n",
    "\n",
    "If you want to keep working to improve your performance, select the **Edit** button in the top right of the screen. Then you can change your code and repeat the process. There's a lot of room to improve, and you will climb up the leaderboard as you work.\n",
    "\n",
    "\n",
    "# Keep going\n",
    "\n",
    "Move on to learn what **[categorical variables](https://www.kaggle.com/alexisbcook/categorical-variables)** are, along with how to incorporate them into your machine learning models.  Categorical variables are very common in real-world data, but you'll get an error if you try to plug them into your models without processing them first!"
   ]
  },
  {
   "cell_type": "markdown",
   "id": "d0c55940",
   "metadata": {
    "papermill": {
     "duration": 0.014664,
     "end_time": "2022-06-08T20:37:28.447568",
     "exception": false,
     "start_time": "2022-06-08T20:37:28.432904",
     "status": "completed"
    },
    "tags": []
   },
   "source": [
    "---\n",
    "\n",
    "\n",
    "\n",
    "\n",
    "*Have questions or comments? Visit the [course discussion forum](https://www.kaggle.com/learn/intermediate-machine-learning/discussion) to chat with other learners.*"
   ]
  }
 ],
 "metadata": {
  "kernelspec": {
   "display_name": "Python 3",
   "language": "python",
   "name": "python3"
  },
  "language_info": {
   "codemirror_mode": {
    "name": "ipython",
    "version": 3
   },
   "file_extension": ".py",
   "mimetype": "text/x-python",
   "name": "python",
   "nbconvert_exporter": "python",
   "pygments_lexer": "ipython3",
   "version": "3.7.12"
  },
  "papermill": {
   "default_parameters": {},
   "duration": 14.481489,
   "end_time": "2022-06-08T20:37:29.284738",
   "environment_variables": {},
   "exception": null,
   "input_path": "__notebook__.ipynb",
   "output_path": "__notebook__.ipynb",
   "parameters": {},
   "start_time": "2022-06-08T20:37:14.803249",
   "version": "2.3.4"
  }
 },
 "nbformat": 4,
 "nbformat_minor": 5
}
