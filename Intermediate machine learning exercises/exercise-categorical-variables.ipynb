{
 "cells": [
  {
   "cell_type": "markdown",
   "id": "c281dbeb",
   "metadata": {
    "papermill": {
     "duration": 0.010033,
     "end_time": "2022-06-16T21:30:07.021506",
     "exception": false,
     "start_time": "2022-06-16T21:30:07.011473",
     "status": "completed"
    },
    "tags": []
   },
   "source": [
    "**This notebook is an exercise in the [Intermediate Machine Learning](https://www.kaggle.com/learn/intermediate-machine-learning) course.  You can reference the tutorial at [this link](https://www.kaggle.com/alexisbcook/categorical-variables).**\n",
    "\n",
    "---\n"
   ]
  },
  {
   "cell_type": "markdown",
   "id": "1674e4b8",
   "metadata": {
    "papermill": {
     "duration": 0.008007,
     "end_time": "2022-06-16T21:30:07.037855",
     "exception": false,
     "start_time": "2022-06-16T21:30:07.029848",
     "status": "completed"
    },
    "tags": []
   },
   "source": [
    "By encoding **categorical variables**, you'll obtain your best results thus far!\n",
    "\n",
    "# Setup\n",
    "\n",
    "The questions below will give you feedback on your work. Run the following cell to set up the feedback system."
   ]
  },
  {
   "cell_type": "code",
   "execution_count": 1,
   "id": "a5ee42e3",
   "metadata": {
    "execution": {
     "iopub.execute_input": "2022-06-16T21:30:07.056916Z",
     "iopub.status.busy": "2022-06-16T21:30:07.055669Z",
     "iopub.status.idle": "2022-06-16T21:30:07.107913Z",
     "shell.execute_reply": "2022-06-16T21:30:07.106556Z"
    },
    "papermill": {
     "duration": 0.064527,
     "end_time": "2022-06-16T21:30:07.110602",
     "exception": false,
     "start_time": "2022-06-16T21:30:07.046075",
     "status": "completed"
    },
    "tags": []
   },
   "outputs": [
    {
     "name": "stdout",
     "output_type": "stream",
     "text": [
      "Setup Complete\n"
     ]
    }
   ],
   "source": [
    "# Set up code checking\n",
    "import os\n",
    "if not os.path.exists(\"../input/train.csv\"):\n",
    "    os.symlink(\"../input/home-data-for-ml-course/train.csv\", \"../input/train.csv\")  \n",
    "    os.symlink(\"../input/home-data-for-ml-course/test.csv\", \"../input/test.csv\") \n",
    "from learntools.core import binder\n",
    "binder.bind(globals())\n",
    "from learntools.ml_intermediate.ex3 import *\n",
    "print(\"Setup Complete\")"
   ]
  },
  {
   "cell_type": "markdown",
   "id": "032ad73a",
   "metadata": {
    "papermill": {
     "duration": 0.008775,
     "end_time": "2022-06-16T21:30:07.127706",
     "exception": false,
     "start_time": "2022-06-16T21:30:07.118931",
     "status": "completed"
    },
    "tags": []
   },
   "source": [
    "In this exercise, you will work with data from the [Housing Prices Competition for Kaggle Learn Users](https://www.kaggle.com/c/home-data-for-ml-course). \n",
    "\n",
    "![Ames Housing dataset image](https://i.imgur.com/lTJVG4e.png)\n",
    "\n",
    "Run the next code cell without changes to load the training and validation sets in `X_train`, `X_valid`, `y_train`, and `y_valid`.  The test set is loaded in `X_test`."
   ]
  },
  {
   "cell_type": "code",
   "execution_count": 2,
   "id": "aa39ba87",
   "metadata": {
    "execution": {
     "iopub.execute_input": "2022-06-16T21:30:07.146720Z",
     "iopub.status.busy": "2022-06-16T21:30:07.146329Z",
     "iopub.status.idle": "2022-06-16T21:30:08.461270Z",
     "shell.execute_reply": "2022-06-16T21:30:08.460234Z"
    },
    "papermill": {
     "duration": 1.327921,
     "end_time": "2022-06-16T21:30:08.463873",
     "exception": false,
     "start_time": "2022-06-16T21:30:07.135952",
     "status": "completed"
    },
    "tags": []
   },
   "outputs": [],
   "source": [
    "import pandas as pd\n",
    "from sklearn.model_selection import train_test_split\n",
    "\n",
    "# Read the data\n",
    "X = pd.read_csv('../input/train.csv', index_col='Id') \n",
    "X_test = pd.read_csv('../input/test.csv', index_col='Id')\n",
    "\n",
    "# Remove rows with missing target, separate target from predictors\n",
    "X.dropna(axis=0, subset=['SalePrice'], inplace=True)\n",
    "y = X.SalePrice\n",
    "X.drop(['SalePrice'], axis=1, inplace=True)\n",
    "\n",
    "# To keep things simple, we'll drop columns with missing values\n",
    "cols_with_missing = [col for col in X.columns if X[col].isnull().any()] \n",
    "X.drop(cols_with_missing, axis=1, inplace=True)\n",
    "X_test.drop(cols_with_missing, axis=1, inplace=True)\n",
    "\n",
    "# Break off validation set from training data\n",
    "X_train, X_valid, y_train, y_valid = train_test_split(X, y,\n",
    "                                                      train_size=0.8, test_size=0.2,\n",
    "                                                      random_state=0)"
   ]
  },
  {
   "cell_type": "markdown",
   "id": "84eb6e5a",
   "metadata": {
    "papermill": {
     "duration": 0.008675,
     "end_time": "2022-06-16T21:30:08.481478",
     "exception": false,
     "start_time": "2022-06-16T21:30:08.472803",
     "status": "completed"
    },
    "tags": []
   },
   "source": [
    "Use the next code cell to print the first five rows of the data."
   ]
  },
  {
   "cell_type": "code",
   "execution_count": 3,
   "id": "c9ee9dfa",
   "metadata": {
    "execution": {
     "iopub.execute_input": "2022-06-16T21:30:08.499945Z",
     "iopub.status.busy": "2022-06-16T21:30:08.499534Z",
     "iopub.status.idle": "2022-06-16T21:30:08.527147Z",
     "shell.execute_reply": "2022-06-16T21:30:08.526201Z"
    },
    "papermill": {
     "duration": 0.039113,
     "end_time": "2022-06-16T21:30:08.528949",
     "exception": false,
     "start_time": "2022-06-16T21:30:08.489836",
     "status": "completed"
    },
    "tags": []
   },
   "outputs": [
    {
     "data": {
      "text/html": [
       "<div>\n",
       "<style scoped>\n",
       "    .dataframe tbody tr th:only-of-type {\n",
       "        vertical-align: middle;\n",
       "    }\n",
       "\n",
       "    .dataframe tbody tr th {\n",
       "        vertical-align: top;\n",
       "    }\n",
       "\n",
       "    .dataframe thead th {\n",
       "        text-align: right;\n",
       "    }\n",
       "</style>\n",
       "<table border=\"1\" class=\"dataframe\">\n",
       "  <thead>\n",
       "    <tr style=\"text-align: right;\">\n",
       "      <th></th>\n",
       "      <th>MSSubClass</th>\n",
       "      <th>MSZoning</th>\n",
       "      <th>LotArea</th>\n",
       "      <th>Street</th>\n",
       "      <th>LotShape</th>\n",
       "      <th>LandContour</th>\n",
       "      <th>Utilities</th>\n",
       "      <th>LotConfig</th>\n",
       "      <th>LandSlope</th>\n",
       "      <th>Neighborhood</th>\n",
       "      <th>...</th>\n",
       "      <th>OpenPorchSF</th>\n",
       "      <th>EnclosedPorch</th>\n",
       "      <th>3SsnPorch</th>\n",
       "      <th>ScreenPorch</th>\n",
       "      <th>PoolArea</th>\n",
       "      <th>MiscVal</th>\n",
       "      <th>MoSold</th>\n",
       "      <th>YrSold</th>\n",
       "      <th>SaleType</th>\n",
       "      <th>SaleCondition</th>\n",
       "    </tr>\n",
       "    <tr>\n",
       "      <th>Id</th>\n",
       "      <th></th>\n",
       "      <th></th>\n",
       "      <th></th>\n",
       "      <th></th>\n",
       "      <th></th>\n",
       "      <th></th>\n",
       "      <th></th>\n",
       "      <th></th>\n",
       "      <th></th>\n",
       "      <th></th>\n",
       "      <th></th>\n",
       "      <th></th>\n",
       "      <th></th>\n",
       "      <th></th>\n",
       "      <th></th>\n",
       "      <th></th>\n",
       "      <th></th>\n",
       "      <th></th>\n",
       "      <th></th>\n",
       "      <th></th>\n",
       "      <th></th>\n",
       "    </tr>\n",
       "  </thead>\n",
       "  <tbody>\n",
       "    <tr>\n",
       "      <th>619</th>\n",
       "      <td>20</td>\n",
       "      <td>RL</td>\n",
       "      <td>11694</td>\n",
       "      <td>Pave</td>\n",
       "      <td>Reg</td>\n",
       "      <td>Lvl</td>\n",
       "      <td>AllPub</td>\n",
       "      <td>Inside</td>\n",
       "      <td>Gtl</td>\n",
       "      <td>NridgHt</td>\n",
       "      <td>...</td>\n",
       "      <td>108</td>\n",
       "      <td>0</td>\n",
       "      <td>0</td>\n",
       "      <td>260</td>\n",
       "      <td>0</td>\n",
       "      <td>0</td>\n",
       "      <td>7</td>\n",
       "      <td>2007</td>\n",
       "      <td>New</td>\n",
       "      <td>Partial</td>\n",
       "    </tr>\n",
       "    <tr>\n",
       "      <th>871</th>\n",
       "      <td>20</td>\n",
       "      <td>RL</td>\n",
       "      <td>6600</td>\n",
       "      <td>Pave</td>\n",
       "      <td>Reg</td>\n",
       "      <td>Lvl</td>\n",
       "      <td>AllPub</td>\n",
       "      <td>Inside</td>\n",
       "      <td>Gtl</td>\n",
       "      <td>NAmes</td>\n",
       "      <td>...</td>\n",
       "      <td>0</td>\n",
       "      <td>0</td>\n",
       "      <td>0</td>\n",
       "      <td>0</td>\n",
       "      <td>0</td>\n",
       "      <td>0</td>\n",
       "      <td>8</td>\n",
       "      <td>2009</td>\n",
       "      <td>WD</td>\n",
       "      <td>Normal</td>\n",
       "    </tr>\n",
       "    <tr>\n",
       "      <th>93</th>\n",
       "      <td>30</td>\n",
       "      <td>RL</td>\n",
       "      <td>13360</td>\n",
       "      <td>Pave</td>\n",
       "      <td>IR1</td>\n",
       "      <td>HLS</td>\n",
       "      <td>AllPub</td>\n",
       "      <td>Inside</td>\n",
       "      <td>Gtl</td>\n",
       "      <td>Crawfor</td>\n",
       "      <td>...</td>\n",
       "      <td>0</td>\n",
       "      <td>44</td>\n",
       "      <td>0</td>\n",
       "      <td>0</td>\n",
       "      <td>0</td>\n",
       "      <td>0</td>\n",
       "      <td>8</td>\n",
       "      <td>2009</td>\n",
       "      <td>WD</td>\n",
       "      <td>Normal</td>\n",
       "    </tr>\n",
       "    <tr>\n",
       "      <th>818</th>\n",
       "      <td>20</td>\n",
       "      <td>RL</td>\n",
       "      <td>13265</td>\n",
       "      <td>Pave</td>\n",
       "      <td>IR1</td>\n",
       "      <td>Lvl</td>\n",
       "      <td>AllPub</td>\n",
       "      <td>CulDSac</td>\n",
       "      <td>Gtl</td>\n",
       "      <td>Mitchel</td>\n",
       "      <td>...</td>\n",
       "      <td>59</td>\n",
       "      <td>0</td>\n",
       "      <td>0</td>\n",
       "      <td>0</td>\n",
       "      <td>0</td>\n",
       "      <td>0</td>\n",
       "      <td>7</td>\n",
       "      <td>2008</td>\n",
       "      <td>WD</td>\n",
       "      <td>Normal</td>\n",
       "    </tr>\n",
       "    <tr>\n",
       "      <th>303</th>\n",
       "      <td>20</td>\n",
       "      <td>RL</td>\n",
       "      <td>13704</td>\n",
       "      <td>Pave</td>\n",
       "      <td>IR1</td>\n",
       "      <td>Lvl</td>\n",
       "      <td>AllPub</td>\n",
       "      <td>Corner</td>\n",
       "      <td>Gtl</td>\n",
       "      <td>CollgCr</td>\n",
       "      <td>...</td>\n",
       "      <td>81</td>\n",
       "      <td>0</td>\n",
       "      <td>0</td>\n",
       "      <td>0</td>\n",
       "      <td>0</td>\n",
       "      <td>0</td>\n",
       "      <td>1</td>\n",
       "      <td>2006</td>\n",
       "      <td>WD</td>\n",
       "      <td>Normal</td>\n",
       "    </tr>\n",
       "  </tbody>\n",
       "</table>\n",
       "<p>5 rows × 60 columns</p>\n",
       "</div>"
      ],
      "text/plain": [
       "     MSSubClass MSZoning  LotArea Street LotShape LandContour Utilities  \\\n",
       "Id                                                                        \n",
       "619          20       RL    11694   Pave      Reg         Lvl    AllPub   \n",
       "871          20       RL     6600   Pave      Reg         Lvl    AllPub   \n",
       "93           30       RL    13360   Pave      IR1         HLS    AllPub   \n",
       "818          20       RL    13265   Pave      IR1         Lvl    AllPub   \n",
       "303          20       RL    13704   Pave      IR1         Lvl    AllPub   \n",
       "\n",
       "    LotConfig LandSlope Neighborhood  ... OpenPorchSF EnclosedPorch 3SsnPorch  \\\n",
       "Id                                    ...                                       \n",
       "619    Inside       Gtl      NridgHt  ...         108             0         0   \n",
       "871    Inside       Gtl        NAmes  ...           0             0         0   \n",
       "93     Inside       Gtl      Crawfor  ...           0            44         0   \n",
       "818   CulDSac       Gtl      Mitchel  ...          59             0         0   \n",
       "303    Corner       Gtl      CollgCr  ...          81             0         0   \n",
       "\n",
       "    ScreenPorch  PoolArea  MiscVal  MoSold  YrSold SaleType SaleCondition  \n",
       "Id                                                                         \n",
       "619         260         0        0       7    2007      New       Partial  \n",
       "871           0         0        0       8    2009       WD        Normal  \n",
       "93            0         0        0       8    2009       WD        Normal  \n",
       "818           0         0        0       7    2008       WD        Normal  \n",
       "303           0         0        0       1    2006       WD        Normal  \n",
       "\n",
       "[5 rows x 60 columns]"
      ]
     },
     "execution_count": 3,
     "metadata": {},
     "output_type": "execute_result"
    }
   ],
   "source": [
    "X_train.head()"
   ]
  },
  {
   "cell_type": "markdown",
   "id": "ed9ff848",
   "metadata": {
    "papermill": {
     "duration": 0.009144,
     "end_time": "2022-06-16T21:30:08.546772",
     "exception": false,
     "start_time": "2022-06-16T21:30:08.537628",
     "status": "completed"
    },
    "tags": []
   },
   "source": [
    "Notice that the dataset contains both numerical and categorical variables.  You'll need to encode the categorical data before training a model.\n",
    "\n",
    "To compare different models, you'll use the same `score_dataset()` function from the tutorial.  This function reports the [mean absolute error](https://en.wikipedia.org/wiki/Mean_absolute_error) (MAE) from a random forest model."
   ]
  },
  {
   "cell_type": "code",
   "execution_count": 4,
   "id": "a60e1fd9",
   "metadata": {
    "execution": {
     "iopub.execute_input": "2022-06-16T21:30:08.565648Z",
     "iopub.status.busy": "2022-06-16T21:30:08.565198Z",
     "iopub.status.idle": "2022-06-16T21:30:08.803532Z",
     "shell.execute_reply": "2022-06-16T21:30:08.802713Z"
    },
    "papermill": {
     "duration": 0.250477,
     "end_time": "2022-06-16T21:30:08.805709",
     "exception": false,
     "start_time": "2022-06-16T21:30:08.555232",
     "status": "completed"
    },
    "tags": []
   },
   "outputs": [],
   "source": [
    "from sklearn.ensemble import RandomForestRegressor\n",
    "from sklearn.metrics import mean_absolute_error\n",
    "\n",
    "# function for comparing different approaches\n",
    "def score_dataset(X_train, X_valid, y_train, y_valid):\n",
    "    model = RandomForestRegressor(n_estimators=100, random_state=0)\n",
    "    model.fit(X_train, y_train)\n",
    "    preds = model.predict(X_valid)\n",
    "    return mean_absolute_error(y_valid, preds)"
   ]
  },
  {
   "cell_type": "markdown",
   "id": "4f129a12",
   "metadata": {
    "papermill": {
     "duration": 0.008587,
     "end_time": "2022-06-16T21:30:08.822798",
     "exception": false,
     "start_time": "2022-06-16T21:30:08.814211",
     "status": "completed"
    },
    "tags": []
   },
   "source": [
    "# Step 1: Drop columns with categorical data\n",
    "\n",
    "You'll get started with the most straightforward approach.  Use the code cell below to preprocess the data in `X_train` and `X_valid` to remove columns with categorical data.  Set the preprocessed DataFrames to `drop_X_train` and `drop_X_valid`, respectively.  "
   ]
  },
  {
   "cell_type": "code",
   "execution_count": 5,
   "id": "2ab7834f",
   "metadata": {
    "execution": {
     "iopub.execute_input": "2022-06-16T21:30:08.842327Z",
     "iopub.status.busy": "2022-06-16T21:30:08.841702Z",
     "iopub.status.idle": "2022-06-16T21:30:08.853359Z",
     "shell.execute_reply": "2022-06-16T21:30:08.852456Z"
    },
    "papermill": {
     "duration": 0.023802,
     "end_time": "2022-06-16T21:30:08.855431",
     "exception": false,
     "start_time": "2022-06-16T21:30:08.831629",
     "status": "completed"
    },
    "tags": []
   },
   "outputs": [
    {
     "data": {
      "application/javascript": [
       "parent.postMessage({\"jupyterEvent\": \"custom.exercise_interaction\", \"data\": {\"outcomeType\": 1, \"valueTowardsCompletion\": 0.5, \"interactionType\": 1, \"questionType\": 2, \"questionId\": \"1_Drop\", \"learnToolsVersion\": \"0.3.4\", \"failureMessage\": \"\", \"exceptionClass\": \"\", \"trace\": \"\"}}, \"*\")"
      ],
      "text/plain": [
       "<IPython.core.display.Javascript object>"
      ]
     },
     "metadata": {},
     "output_type": "display_data"
    },
    {
     "data": {
      "text/markdown": [
       "<span style=\"color:#33cc33\">Correct</span>"
      ],
      "text/plain": [
       "Correct"
      ]
     },
     "metadata": {},
     "output_type": "display_data"
    }
   ],
   "source": [
    "# Fill in the lines below: drop columns in training and validation data\n",
    "drop_X_train = X_train.select_dtypes(exclude = ['object'])\n",
    "drop_X_valid = X_valid.select_dtypes(exclude = ['object'])\n",
    "\n",
    "# Check your answers\n",
    "step_1.check()"
   ]
  },
  {
   "cell_type": "code",
   "execution_count": 6,
   "id": "e48a0d73",
   "metadata": {
    "execution": {
     "iopub.execute_input": "2022-06-16T21:30:08.875111Z",
     "iopub.status.busy": "2022-06-16T21:30:08.874712Z",
     "iopub.status.idle": "2022-06-16T21:30:08.878876Z",
     "shell.execute_reply": "2022-06-16T21:30:08.877821Z"
    },
    "papermill": {
     "duration": 0.016478,
     "end_time": "2022-06-16T21:30:08.881155",
     "exception": false,
     "start_time": "2022-06-16T21:30:08.864677",
     "status": "completed"
    },
    "tags": []
   },
   "outputs": [],
   "source": [
    "# Lines below will give you a hint or solution code\n",
    "#step_1.hint()\n",
    "#step_1.solution()"
   ]
  },
  {
   "cell_type": "markdown",
   "id": "51b0b2d3",
   "metadata": {
    "papermill": {
     "duration": 0.008525,
     "end_time": "2022-06-16T21:30:08.898932",
     "exception": false,
     "start_time": "2022-06-16T21:30:08.890407",
     "status": "completed"
    },
    "tags": []
   },
   "source": [
    "Run the next code cell to get the MAE for this approach."
   ]
  },
  {
   "cell_type": "code",
   "execution_count": 7,
   "id": "ab7ada9c",
   "metadata": {
    "execution": {
     "iopub.execute_input": "2022-06-16T21:30:08.918390Z",
     "iopub.status.busy": "2022-06-16T21:30:08.917963Z",
     "iopub.status.idle": "2022-06-16T21:30:10.008417Z",
     "shell.execute_reply": "2022-06-16T21:30:10.007382Z"
    },
    "papermill": {
     "duration": 1.102941,
     "end_time": "2022-06-16T21:30:10.010511",
     "exception": false,
     "start_time": "2022-06-16T21:30:08.907570",
     "status": "completed"
    },
    "tags": []
   },
   "outputs": [
    {
     "name": "stdout",
     "output_type": "stream",
     "text": [
      "MAE from Approach 1 (Drop categorical variables):\n",
      "17837.82570776256\n"
     ]
    }
   ],
   "source": [
    "print(\"MAE from Approach 1 (Drop categorical variables):\")\n",
    "print(score_dataset(drop_X_train, drop_X_valid, y_train, y_valid))"
   ]
  },
  {
   "cell_type": "markdown",
   "id": "ff6998be",
   "metadata": {
    "papermill": {
     "duration": 0.008725,
     "end_time": "2022-06-16T21:30:10.030521",
     "exception": false,
     "start_time": "2022-06-16T21:30:10.021796",
     "status": "completed"
    },
    "tags": []
   },
   "source": [
    "Before jumping into ordinal encoding, we'll investigate the dataset.  Specifically, we'll look at the `'Condition2'` column.  The code cell below prints the unique entries in both the training and validation sets."
   ]
  },
  {
   "cell_type": "code",
   "execution_count": 8,
   "id": "23115691",
   "metadata": {
    "execution": {
     "iopub.execute_input": "2022-06-16T21:30:10.050117Z",
     "iopub.status.busy": "2022-06-16T21:30:10.049176Z",
     "iopub.status.idle": "2022-06-16T21:30:10.055029Z",
     "shell.execute_reply": "2022-06-16T21:30:10.054291Z"
    },
    "papermill": {
     "duration": 0.017711,
     "end_time": "2022-06-16T21:30:10.056907",
     "exception": false,
     "start_time": "2022-06-16T21:30:10.039196",
     "status": "completed"
    },
    "tags": []
   },
   "outputs": [
    {
     "name": "stdout",
     "output_type": "stream",
     "text": [
      "Unique values in 'Condition2' column in training data: ['Norm' 'PosA' 'Feedr' 'PosN' 'Artery' 'RRAe']\n",
      "\n",
      "Unique values in 'Condition2' column in validation data: ['Norm' 'RRAn' 'RRNn' 'Artery' 'Feedr' 'PosN']\n"
     ]
    }
   ],
   "source": [
    "print(\"Unique values in 'Condition2' column in training data:\", X_train['Condition2'].unique())\n",
    "print(\"\\nUnique values in 'Condition2' column in validation data:\", X_valid['Condition2'].unique())"
   ]
  },
  {
   "cell_type": "markdown",
   "id": "02c811da",
   "metadata": {
    "papermill": {
     "duration": 0.009542,
     "end_time": "2022-06-16T21:30:10.075391",
     "exception": false,
     "start_time": "2022-06-16T21:30:10.065849",
     "status": "completed"
    },
    "tags": []
   },
   "source": [
    "# Step 2: Ordinal encoding\n",
    "\n",
    "### Part A\n",
    "\n",
    "If you now write code to: \n",
    "- fit an ordinal encoder to the training data, and then \n",
    "- use it to transform both the training and validation data, \n",
    "\n",
    "you'll get an error.  Can you see why this is the case?  (_You'll need  to use the above output to answer this question._)"
   ]
  },
  {
   "cell_type": "markdown",
   "id": "25e9b058",
   "metadata": {
    "papermill": {
     "duration": 0.008485,
     "end_time": "2022-06-16T21:30:10.092865",
     "exception": false,
     "start_time": "2022-06-16T21:30:10.084380",
     "status": "completed"
    },
    "tags": []
   },
   "source": [
    "Answer: the validation dataset contains 'RRAn' which does not exist in the training dataset."
   ]
  },
  {
   "cell_type": "code",
   "execution_count": 9,
   "id": "345a200b",
   "metadata": {
    "execution": {
     "iopub.execute_input": "2022-06-16T21:30:10.113334Z",
     "iopub.status.busy": "2022-06-16T21:30:10.112787Z",
     "iopub.status.idle": "2022-06-16T21:30:10.120384Z",
     "shell.execute_reply": "2022-06-16T21:30:10.119455Z"
    },
    "papermill": {
     "duration": 0.020322,
     "end_time": "2022-06-16T21:30:10.122258",
     "exception": false,
     "start_time": "2022-06-16T21:30:10.101936",
     "status": "completed"
    },
    "tags": []
   },
   "outputs": [
    {
     "data": {
      "application/javascript": [
       "parent.postMessage({\"jupyterEvent\": \"custom.exercise_interaction\", \"data\": {\"outcomeType\": 1, \"valueTowardsCompletion\": 0.5, \"interactionType\": 1, \"questionType\": 4, \"questionId\": \"2.1_LabelA\", \"learnToolsVersion\": \"0.3.4\", \"failureMessage\": \"\", \"exceptionClass\": \"\", \"trace\": \"\"}}, \"*\")"
      ],
      "text/plain": [
       "<IPython.core.display.Javascript object>"
      ]
     },
     "metadata": {},
     "output_type": "display_data"
    },
    {
     "data": {
      "text/markdown": [
       "<span style=\"color:#33cc33\">Correct:</span> \n",
       "\n",
       "Fitting an ordinal encoder to a column in the training data creates a corresponding integer-valued label for each unique value **that appears in the training data**. In the case that the validation data contains values that don't also appear in the training data, the encoder will throw an error, because these values won't have an integer assigned to them.  Notice that the `'Condition2'` column in the validation data contains the values `'RRAn'` and `'RRNn'`, but these don't appear in the training data -- thus, if we try to use an ordinal encoder with scikit-learn, the code will throw an error."
      ],
      "text/plain": [
       "Correct: \n",
       "\n",
       "Fitting an ordinal encoder to a column in the training data creates a corresponding integer-valued label for each unique value **that appears in the training data**. In the case that the validation data contains values that don't also appear in the training data, the encoder will throw an error, because these values won't have an integer assigned to them.  Notice that the `'Condition2'` column in the validation data contains the values `'RRAn'` and `'RRNn'`, but these don't appear in the training data -- thus, if we try to use an ordinal encoder with scikit-learn, the code will throw an error."
      ]
     },
     "metadata": {},
     "output_type": "display_data"
    }
   ],
   "source": [
    "# Check your answer (Run this code cell to receive credit!)\n",
    "step_2.a.check()"
   ]
  },
  {
   "cell_type": "code",
   "execution_count": 10,
   "id": "497e8718",
   "metadata": {
    "execution": {
     "iopub.execute_input": "2022-06-16T21:30:10.142322Z",
     "iopub.status.busy": "2022-06-16T21:30:10.141600Z",
     "iopub.status.idle": "2022-06-16T21:30:10.145846Z",
     "shell.execute_reply": "2022-06-16T21:30:10.145153Z"
    },
    "papermill": {
     "duration": 0.016428,
     "end_time": "2022-06-16T21:30:10.147714",
     "exception": false,
     "start_time": "2022-06-16T21:30:10.131286",
     "status": "completed"
    },
    "tags": []
   },
   "outputs": [],
   "source": [
    "#step_2.a.hint()"
   ]
  },
  {
   "cell_type": "markdown",
   "id": "04307eed",
   "metadata": {
    "papermill": {
     "duration": 0.009157,
     "end_time": "2022-06-16T21:30:10.166053",
     "exception": false,
     "start_time": "2022-06-16T21:30:10.156896",
     "status": "completed"
    },
    "tags": []
   },
   "source": [
    "This is a common problem that you'll encounter with real-world data, and there are many approaches to fixing this issue.  For instance, you can write a custom ordinal encoder to deal with new categories.  The simplest approach, however, is to drop the problematic categorical columns.  \n",
    "\n",
    "Run the code cell below to save the problematic columns to a Python list `bad_label_cols`.  Likewise, columns that can be safely ordinal encoded are stored in `good_label_cols`."
   ]
  },
  {
   "cell_type": "code",
   "execution_count": 11,
   "id": "f6f562a9",
   "metadata": {
    "execution": {
     "iopub.execute_input": "2022-06-16T21:30:10.186369Z",
     "iopub.status.busy": "2022-06-16T21:30:10.185647Z",
     "iopub.status.idle": "2022-06-16T21:30:10.199653Z",
     "shell.execute_reply": "2022-06-16T21:30:10.198477Z"
    },
    "papermill": {
     "duration": 0.026629,
     "end_time": "2022-06-16T21:30:10.201810",
     "exception": false,
     "start_time": "2022-06-16T21:30:10.175181",
     "status": "completed"
    },
    "tags": []
   },
   "outputs": [
    {
     "name": "stdout",
     "output_type": "stream",
     "text": [
      "Categorical columns that will be ordinal encoded: ['MSZoning', 'Street', 'LotShape', 'LandContour', 'Utilities', 'LotConfig', 'LandSlope', 'Neighborhood', 'Condition1', 'BldgType', 'HouseStyle', 'RoofStyle', 'Exterior1st', 'Exterior2nd', 'ExterQual', 'ExterCond', 'Foundation', 'Heating', 'HeatingQC', 'CentralAir', 'KitchenQual', 'PavedDrive', 'SaleType', 'SaleCondition']\n",
      "\n",
      "Categorical columns that will be dropped from the dataset: ['Functional', 'Condition2', 'RoofMatl']\n"
     ]
    }
   ],
   "source": [
    "# Categorical columns in the training data\n",
    "object_cols = [col for col in X_train.columns if X_train[col].dtype == \"object\"]\n",
    "\n",
    "# Columns that can be safely ordinal encoded\n",
    "good_label_cols = [col for col in object_cols if \n",
    "                   set(X_valid[col]).issubset(set(X_train[col]))]\n",
    "        \n",
    "# Problematic columns that will be dropped from the dataset\n",
    "bad_label_cols = list(set(object_cols)-set(good_label_cols))\n",
    "        \n",
    "print('Categorical columns that will be ordinal encoded:', good_label_cols)\n",
    "print('\\nCategorical columns that will be dropped from the dataset:', bad_label_cols)"
   ]
  },
  {
   "cell_type": "markdown",
   "id": "0c4d8012",
   "metadata": {
    "papermill": {
     "duration": 0.008721,
     "end_time": "2022-06-16T21:30:10.220238",
     "exception": false,
     "start_time": "2022-06-16T21:30:10.211517",
     "status": "completed"
    },
    "tags": []
   },
   "source": [
    "### Part B\n",
    "\n",
    "Use the next code cell to ordinal encode the data in `X_train` and `X_valid`.  Set the preprocessed DataFrames to `label_X_train` and `label_X_valid`, respectively.  \n",
    "- We have provided code below to drop the categorical columns in `bad_label_cols` from the dataset. \n",
    "- You should ordinal encode the categorical columns in `good_label_cols`.  "
   ]
  },
  {
   "cell_type": "code",
   "execution_count": 12,
   "id": "b3841b7a",
   "metadata": {
    "execution": {
     "iopub.execute_input": "2022-06-16T21:30:10.239973Z",
     "iopub.status.busy": "2022-06-16T21:30:10.239578Z",
     "iopub.status.idle": "2022-06-16T21:30:10.278848Z",
     "shell.execute_reply": "2022-06-16T21:30:10.278095Z"
    },
    "papermill": {
     "duration": 0.051286,
     "end_time": "2022-06-16T21:30:10.280478",
     "exception": false,
     "start_time": "2022-06-16T21:30:10.229192",
     "status": "completed"
    },
    "tags": []
   },
   "outputs": [
    {
     "data": {
      "application/javascript": [
       "parent.postMessage({\"jupyterEvent\": \"custom.exercise_interaction\", \"data\": {\"outcomeType\": 1, \"valueTowardsCompletion\": 0.5, \"interactionType\": 1, \"questionType\": 2, \"questionId\": \"2.2_LabelB\", \"learnToolsVersion\": \"0.3.4\", \"failureMessage\": \"\", \"exceptionClass\": \"\", \"trace\": \"\"}}, \"*\")"
      ],
      "text/plain": [
       "<IPython.core.display.Javascript object>"
      ]
     },
     "metadata": {},
     "output_type": "display_data"
    },
    {
     "data": {
      "text/markdown": [
       "<span style=\"color:#33cc33\">Correct</span>"
      ],
      "text/plain": [
       "Correct"
      ]
     },
     "metadata": {},
     "output_type": "display_data"
    }
   ],
   "source": [
    "from sklearn.preprocessing import OrdinalEncoder\n",
    "\n",
    "# Drop categorical columns that will not be encoded\n",
    "label_X_train = X_train.drop(bad_label_cols, axis=1)\n",
    "label_X_valid = X_valid.drop(bad_label_cols, axis=1)\n",
    "\n",
    "# Apply ordinal encoder \n",
    "ordinal = OrdinalEncoder()\n",
    "label_X_train[good_label_cols] = ordinal.fit_transform(X_train[good_label_cols])\n",
    "label_X_valid[good_label_cols] = ordinal.transform(X_valid[good_label_cols])# Your code here\n",
    "    \n",
    "# Check your answer\n",
    "step_2.b.check()"
   ]
  },
  {
   "cell_type": "code",
   "execution_count": 13,
   "id": "313f331b",
   "metadata": {
    "execution": {
     "iopub.execute_input": "2022-06-16T21:30:10.300795Z",
     "iopub.status.busy": "2022-06-16T21:30:10.300222Z",
     "iopub.status.idle": "2022-06-16T21:30:10.303362Z",
     "shell.execute_reply": "2022-06-16T21:30:10.302694Z"
    },
    "papermill": {
     "duration": 0.015299,
     "end_time": "2022-06-16T21:30:10.305006",
     "exception": false,
     "start_time": "2022-06-16T21:30:10.289707",
     "status": "completed"
    },
    "tags": []
   },
   "outputs": [],
   "source": [
    "# Lines below will give you a hint or solution code\n",
    "#step_2.b.hint()\n",
    "#step_2.b.solution()"
   ]
  },
  {
   "cell_type": "markdown",
   "id": "4b32f9a8",
   "metadata": {
    "papermill": {
     "duration": 0.008805,
     "end_time": "2022-06-16T21:30:10.322964",
     "exception": false,
     "start_time": "2022-06-16T21:30:10.314159",
     "status": "completed"
    },
    "tags": []
   },
   "source": [
    "Run the next code cell to get the MAE for this approach."
   ]
  },
  {
   "cell_type": "code",
   "execution_count": 14,
   "id": "4830a0b7",
   "metadata": {
    "execution": {
     "iopub.execute_input": "2022-06-16T21:30:10.342805Z",
     "iopub.status.busy": "2022-06-16T21:30:10.342396Z",
     "iopub.status.idle": "2022-06-16T21:30:11.733139Z",
     "shell.execute_reply": "2022-06-16T21:30:11.732050Z"
    },
    "papermill": {
     "duration": 1.403738,
     "end_time": "2022-06-16T21:30:11.735812",
     "exception": false,
     "start_time": "2022-06-16T21:30:10.332074",
     "status": "completed"
    },
    "tags": []
   },
   "outputs": [
    {
     "name": "stdout",
     "output_type": "stream",
     "text": [
      "MAE from Approach 2 (Ordinal Encoding):\n",
      "17098.01649543379\n"
     ]
    }
   ],
   "source": [
    "print(\"MAE from Approach 2 (Ordinal Encoding):\") \n",
    "print(score_dataset(label_X_train, label_X_valid, y_train, y_valid))"
   ]
  },
  {
   "cell_type": "markdown",
   "id": "f1ededd8",
   "metadata": {
    "papermill": {
     "duration": 0.009117,
     "end_time": "2022-06-16T21:30:11.754871",
     "exception": false,
     "start_time": "2022-06-16T21:30:11.745754",
     "status": "completed"
    },
    "tags": []
   },
   "source": [
    "So far, you've tried two different approaches to dealing with categorical variables.  And, you've seen that encoding categorical data yields better results than removing columns from the dataset.\n",
    "\n",
    "Soon, you'll try one-hot encoding.  Before then, there's one additional topic we need to cover.  Begin by running the next code cell without changes.  "
   ]
  },
  {
   "cell_type": "code",
   "execution_count": 15,
   "id": "b0d33d69",
   "metadata": {
    "execution": {
     "iopub.execute_input": "2022-06-16T21:30:11.775735Z",
     "iopub.status.busy": "2022-06-16T21:30:11.774668Z",
     "iopub.status.idle": "2022-06-16T21:30:11.787115Z",
     "shell.execute_reply": "2022-06-16T21:30:11.786005Z"
    },
    "papermill": {
     "duration": 0.024976,
     "end_time": "2022-06-16T21:30:11.789228",
     "exception": false,
     "start_time": "2022-06-16T21:30:11.764252",
     "status": "completed"
    },
    "tags": []
   },
   "outputs": [
    {
     "data": {
      "text/plain": [
       "[('Street', 2),\n",
       " ('Utilities', 2),\n",
       " ('CentralAir', 2),\n",
       " ('LandSlope', 3),\n",
       " ('PavedDrive', 3),\n",
       " ('LotShape', 4),\n",
       " ('LandContour', 4),\n",
       " ('ExterQual', 4),\n",
       " ('KitchenQual', 4),\n",
       " ('MSZoning', 5),\n",
       " ('LotConfig', 5),\n",
       " ('BldgType', 5),\n",
       " ('ExterCond', 5),\n",
       " ('HeatingQC', 5),\n",
       " ('Condition2', 6),\n",
       " ('RoofStyle', 6),\n",
       " ('Foundation', 6),\n",
       " ('Heating', 6),\n",
       " ('Functional', 6),\n",
       " ('SaleCondition', 6),\n",
       " ('RoofMatl', 7),\n",
       " ('HouseStyle', 8),\n",
       " ('Condition1', 9),\n",
       " ('SaleType', 9),\n",
       " ('Exterior1st', 15),\n",
       " ('Exterior2nd', 16),\n",
       " ('Neighborhood', 25)]"
      ]
     },
     "execution_count": 15,
     "metadata": {},
     "output_type": "execute_result"
    }
   ],
   "source": [
    "# Get number of unique entries in each column with categorical data\n",
    "object_nunique = list(map(lambda col: X_train[col].nunique(), object_cols))\n",
    "d = dict(zip(object_cols, object_nunique))\n",
    "\n",
    "# Print number of unique entries by column, in ascending order\n",
    "sorted(d.items(), key=lambda x: x[1])"
   ]
  },
  {
   "cell_type": "markdown",
   "id": "9e078edb",
   "metadata": {
    "papermill": {
     "duration": 0.009117,
     "end_time": "2022-06-16T21:30:11.807820",
     "exception": false,
     "start_time": "2022-06-16T21:30:11.798703",
     "status": "completed"
    },
    "tags": []
   },
   "source": [
    "# Step 3: Investigating cardinality\n",
    "\n",
    "### Part A\n",
    "\n",
    "The output above shows, for each column with categorical data, the number of unique values in the column.  For instance, the `'Street'` column in the training data has two unique values: `'Grvl'` and `'Pave'`, corresponding to a gravel road and a paved road, respectively.\n",
    "\n",
    "We refer to the number of unique entries of a categorical variable as the **cardinality** of that categorical variable.  For instance, the `'Street'` variable has cardinality 2.\n",
    "\n",
    "Use the output above to answer the questions below."
   ]
  },
  {
   "cell_type": "code",
   "execution_count": 16,
   "id": "fd3ba94e",
   "metadata": {
    "execution": {
     "iopub.execute_input": "2022-06-16T21:30:11.829433Z",
     "iopub.status.busy": "2022-06-16T21:30:11.828658Z",
     "iopub.status.idle": "2022-06-16T21:30:11.836235Z",
     "shell.execute_reply": "2022-06-16T21:30:11.835582Z"
    },
    "papermill": {
     "duration": 0.020042,
     "end_time": "2022-06-16T21:30:11.837924",
     "exception": false,
     "start_time": "2022-06-16T21:30:11.817882",
     "status": "completed"
    },
    "tags": []
   },
   "outputs": [
    {
     "data": {
      "application/javascript": [
       "parent.postMessage({\"jupyterEvent\": \"custom.exercise_interaction\", \"data\": {\"outcomeType\": 1, \"valueTowardsCompletion\": 0.5, \"interactionType\": 1, \"questionType\": 1, \"questionId\": \"3.1_CardinalityA\", \"learnToolsVersion\": \"0.3.4\", \"failureMessage\": \"\", \"exceptionClass\": \"\", \"trace\": \"\"}}, \"*\")"
      ],
      "text/plain": [
       "<IPython.core.display.Javascript object>"
      ]
     },
     "metadata": {},
     "output_type": "display_data"
    },
    {
     "data": {
      "text/markdown": [
       "<span style=\"color:#33cc33\">Correct</span>"
      ],
      "text/plain": [
       "Correct"
      ]
     },
     "metadata": {},
     "output_type": "display_data"
    }
   ],
   "source": [
    "# Fill in the line below: How many categorical variables in the training data\n",
    "# have cardinality greater than 10?\n",
    "high_cardinality_numcols = 3\n",
    "\n",
    "# Fill in the line below: How many columns are needed to one-hot encode the \n",
    "# 'Neighborhood' variable in the training data?\n",
    "num_cols_neighborhood = 25\n",
    "\n",
    "# Check your answers\n",
    "step_3.a.check()"
   ]
  },
  {
   "cell_type": "code",
   "execution_count": 17,
   "id": "93b3cbb3",
   "metadata": {
    "execution": {
     "iopub.execute_input": "2022-06-16T21:30:11.859142Z",
     "iopub.status.busy": "2022-06-16T21:30:11.858388Z",
     "iopub.status.idle": "2022-06-16T21:30:11.862464Z",
     "shell.execute_reply": "2022-06-16T21:30:11.861471Z"
    },
    "papermill": {
     "duration": 0.016924,
     "end_time": "2022-06-16T21:30:11.864486",
     "exception": false,
     "start_time": "2022-06-16T21:30:11.847562",
     "status": "completed"
    },
    "tags": []
   },
   "outputs": [],
   "source": [
    "# Lines below will give you a hint or solution code\n",
    "#step_3.a.hint()\n",
    "#step_3.a.solution()"
   ]
  },
  {
   "cell_type": "markdown",
   "id": "87ce67d9",
   "metadata": {
    "papermill": {
     "duration": 0.009212,
     "end_time": "2022-06-16T21:30:11.883363",
     "exception": false,
     "start_time": "2022-06-16T21:30:11.874151",
     "status": "completed"
    },
    "tags": []
   },
   "source": [
    "### Part B\n",
    "\n",
    "For large datasets with many rows, one-hot encoding can greatly expand the size of the dataset.  For this reason, we typically will only one-hot encode columns with relatively low cardinality.  Then, high cardinality columns can either be dropped from the dataset, or we can use ordinal encoding.\n",
    "\n",
    "As an example, consider a dataset with 10,000 rows, and containing one categorical column with 100 unique entries.  \n",
    "- If this column is replaced with the corresponding one-hot encoding, how many entries are added to the dataset?  \n",
    "- If we instead replace the column with the ordinal encoding, how many entries are added?  \n",
    "\n",
    "Use your answers to fill in the lines below."
   ]
  },
  {
   "cell_type": "code",
   "execution_count": 18,
   "id": "5843d343",
   "metadata": {
    "execution": {
     "iopub.execute_input": "2022-06-16T21:30:11.903982Z",
     "iopub.status.busy": "2022-06-16T21:30:11.903583Z",
     "iopub.status.idle": "2022-06-16T21:30:11.911248Z",
     "shell.execute_reply": "2022-06-16T21:30:11.910288Z"
    },
    "papermill": {
     "duration": 0.020359,
     "end_time": "2022-06-16T21:30:11.913161",
     "exception": false,
     "start_time": "2022-06-16T21:30:11.892802",
     "status": "completed"
    },
    "tags": []
   },
   "outputs": [
    {
     "data": {
      "application/javascript": [
       "parent.postMessage({\"jupyterEvent\": \"custom.exercise_interaction\", \"data\": {\"outcomeType\": 1, \"valueTowardsCompletion\": 0.5, \"interactionType\": 1, \"questionType\": 1, \"questionId\": \"3.2_CardinalityB\", \"learnToolsVersion\": \"0.3.4\", \"failureMessage\": \"\", \"exceptionClass\": \"\", \"trace\": \"\"}}, \"*\")"
      ],
      "text/plain": [
       "<IPython.core.display.Javascript object>"
      ]
     },
     "metadata": {},
     "output_type": "display_data"
    },
    {
     "data": {
      "text/markdown": [
       "<span style=\"color:#33cc33\">Correct</span>"
      ],
      "text/plain": [
       "Correct"
      ]
     },
     "metadata": {},
     "output_type": "display_data"
    }
   ],
   "source": [
    "# Fill in the line below: How many entries are added to the dataset by \n",
    "# replacing the column with a one-hot encoding?\n",
    "OH_entries_added = 10000 * 99\n",
    "\n",
    "# Fill in the line below: How many entries are added to the dataset by\n",
    "# replacing the column with an ordinal encoding?\n",
    "label_entries_added = 0\n",
    "\n",
    "# Check your answers\n",
    "step_3.b.check()"
   ]
  },
  {
   "cell_type": "code",
   "execution_count": 19,
   "id": "45daf686",
   "metadata": {
    "execution": {
     "iopub.execute_input": "2022-06-16T21:30:11.934202Z",
     "iopub.status.busy": "2022-06-16T21:30:11.933780Z",
     "iopub.status.idle": "2022-06-16T21:30:11.938173Z",
     "shell.execute_reply": "2022-06-16T21:30:11.937244Z"
    },
    "papermill": {
     "duration": 0.017263,
     "end_time": "2022-06-16T21:30:11.940189",
     "exception": false,
     "start_time": "2022-06-16T21:30:11.922926",
     "status": "completed"
    },
    "tags": []
   },
   "outputs": [],
   "source": [
    "# Lines below will give you a hint or solution code\n",
    "#step_3.b.hint()\n",
    "#step_3.b.solution()"
   ]
  },
  {
   "cell_type": "markdown",
   "id": "f8b7d092",
   "metadata": {
    "papermill": {
     "duration": 0.010144,
     "end_time": "2022-06-16T21:30:11.960829",
     "exception": false,
     "start_time": "2022-06-16T21:30:11.950685",
     "status": "completed"
    },
    "tags": []
   },
   "source": [
    "Next, you'll experiment with one-hot encoding.  But, instead of encoding all of the categorical variables in the dataset, you'll only create a one-hot encoding for columns with cardinality less than 10.\n",
    "\n",
    "Run the code cell below without changes to set `low_cardinality_cols` to a Python list containing the columns that will be one-hot encoded.  Likewise, `high_cardinality_cols` contains a list of categorical columns that will be dropped from the dataset."
   ]
  },
  {
   "cell_type": "code",
   "execution_count": 20,
   "id": "fbd35035",
   "metadata": {
    "execution": {
     "iopub.execute_input": "2022-06-16T21:30:11.982653Z",
     "iopub.status.busy": "2022-06-16T21:30:11.982224Z",
     "iopub.status.idle": "2022-06-16T21:30:11.992087Z",
     "shell.execute_reply": "2022-06-16T21:30:11.991415Z"
    },
    "papermill": {
     "duration": 0.023686,
     "end_time": "2022-06-16T21:30:11.994237",
     "exception": false,
     "start_time": "2022-06-16T21:30:11.970551",
     "status": "completed"
    },
    "tags": []
   },
   "outputs": [
    {
     "name": "stdout",
     "output_type": "stream",
     "text": [
      "Categorical columns that will be one-hot encoded: ['MSZoning', 'Street', 'LotShape', 'LandContour', 'Utilities', 'LotConfig', 'LandSlope', 'Condition1', 'Condition2', 'BldgType', 'HouseStyle', 'RoofStyle', 'RoofMatl', 'ExterQual', 'ExterCond', 'Foundation', 'Heating', 'HeatingQC', 'CentralAir', 'KitchenQual', 'Functional', 'PavedDrive', 'SaleType', 'SaleCondition']\n",
      "\n",
      "Categorical columns that will be dropped from the dataset: ['Neighborhood', 'Exterior1st', 'Exterior2nd']\n"
     ]
    }
   ],
   "source": [
    "# Columns that will be one-hot encoded\n",
    "low_cardinality_cols = [col for col in object_cols if X_train[col].nunique() < 10]\n",
    "\n",
    "# Columns that will be dropped from the dataset\n",
    "high_cardinality_cols = list(set(object_cols)-set(low_cardinality_cols))\n",
    "\n",
    "print('Categorical columns that will be one-hot encoded:', low_cardinality_cols)\n",
    "print('\\nCategorical columns that will be dropped from the dataset:', high_cardinality_cols)"
   ]
  },
  {
   "cell_type": "markdown",
   "id": "378e5020",
   "metadata": {
    "papermill": {
     "duration": 0.009574,
     "end_time": "2022-06-16T21:30:12.014195",
     "exception": false,
     "start_time": "2022-06-16T21:30:12.004621",
     "status": "completed"
    },
    "tags": []
   },
   "source": [
    "# Step 4: One-hot encoding\n",
    "\n",
    "Use the next code cell to one-hot encode the data in `X_train` and `X_valid`.  Set the preprocessed DataFrames to `OH_X_train` and `OH_X_valid`, respectively.  \n",
    "- The full list of categorical columns in the dataset can be found in the Python list `object_cols`.\n",
    "- You should only one-hot encode the categorical columns in `low_cardinality_cols`.  All other categorical columns should be dropped from the dataset. "
   ]
  },
  {
   "cell_type": "code",
   "execution_count": 21,
   "id": "7b5b81e8",
   "metadata": {
    "execution": {
     "iopub.execute_input": "2022-06-16T21:30:12.040390Z",
     "iopub.status.busy": "2022-06-16T21:30:12.039888Z",
     "iopub.status.idle": "2022-06-16T21:30:12.075336Z",
     "shell.execute_reply": "2022-06-16T21:30:12.074327Z"
    },
    "papermill": {
     "duration": 0.053198,
     "end_time": "2022-06-16T21:30:12.077271",
     "exception": false,
     "start_time": "2022-06-16T21:30:12.024073",
     "status": "completed"
    },
    "tags": []
   },
   "outputs": [
    {
     "data": {
      "application/javascript": [
       "parent.postMessage({\"jupyterEvent\": \"custom.exercise_interaction\", \"data\": {\"outcomeType\": 1, \"valueTowardsCompletion\": 0.5, \"interactionType\": 1, \"questionType\": 2, \"questionId\": \"4_OneHot\", \"learnToolsVersion\": \"0.3.4\", \"failureMessage\": \"\", \"exceptionClass\": \"\", \"trace\": \"\"}}, \"*\")"
      ],
      "text/plain": [
       "<IPython.core.display.Javascript object>"
      ]
     },
     "metadata": {},
     "output_type": "display_data"
    },
    {
     "data": {
      "text/markdown": [
       "<span style=\"color:#33cc33\">Correct</span>"
      ],
      "text/plain": [
       "Correct"
      ]
     },
     "metadata": {},
     "output_type": "display_data"
    }
   ],
   "source": [
    "from sklearn.preprocessing import OneHotEncoder\n",
    "\n",
    "\n",
    "# Apply one-hot encoder to each column with categorical data\n",
    "OH_encoder = OneHotEncoder(handle_unknown = 'ignore', sparse = False)\n",
    "OH_cols_train = pd.DataFrame(OH_encoder.fit_transform(X_train[low_cardinality_cols]))\n",
    "OH_cols_valid = pd.DataFrame(OH_encoder.transform(X_valid[low_cardinality_cols]))\n",
    "\n",
    "# One-hot encoding removed index; put it back\n",
    "OH_cols_train.index = X_train.index\n",
    "OH_cols_valid.index = X_valid.index\n",
    "\n",
    "# Remove all categorical columns to be replaced with one-hot encoding\n",
    "num_X_train = X_train.drop(object_cols, axis = 1)\n",
    "num_X_valid = X_valid.drop(object_cols, axis = 1)\n",
    "\n",
    "# Add one-hot encoded columns to numerical features\n",
    "OH_X_train = pd.concat([num_X_train, OH_cols_train], axis = 1)\n",
    "OH_X_valid = pd.concat([num_X_valid, OH_cols_valid], axis = 1)\n",
    "\n",
    "# Check your answer\n",
    "step_4.check()"
   ]
  },
  {
   "cell_type": "code",
   "execution_count": 22,
   "id": "383dea86",
   "metadata": {
    "execution": {
     "iopub.execute_input": "2022-06-16T21:30:12.099410Z",
     "iopub.status.busy": "2022-06-16T21:30:12.099003Z",
     "iopub.status.idle": "2022-06-16T21:30:12.109006Z",
     "shell.execute_reply": "2022-06-16T21:30:12.108040Z"
    },
    "papermill": {
     "duration": 0.023228,
     "end_time": "2022-06-16T21:30:12.110749",
     "exception": false,
     "start_time": "2022-06-16T21:30:12.087521",
     "status": "completed"
    },
    "tags": []
   },
   "outputs": [
    {
     "data": {
      "application/javascript": [
       "parent.postMessage({\"jupyterEvent\": \"custom.exercise_interaction\", \"data\": {\"interactionType\": 2, \"questionType\": 2, \"questionId\": \"4_OneHot\", \"learnToolsVersion\": \"0.3.4\", \"valueTowardsCompletion\": 0.0, \"failureMessage\": \"\", \"exceptionClass\": \"\", \"trace\": \"\", \"outcomeType\": 4}}, \"*\")"
      ],
      "text/plain": [
       "<IPython.core.display.Javascript object>"
      ]
     },
     "metadata": {},
     "output_type": "display_data"
    },
    {
     "data": {
      "text/markdown": [
       "<span style=\"color:#3366cc\">Hint:</span> Begin by applying the one-hot encoder to the low cardinality columns in the training and validation data in `X_train[low_cardinality_cols]` and `X_valid[low_cardinality_cols]`, respectively."
      ],
      "text/plain": [
       "Hint: Begin by applying the one-hot encoder to the low cardinality columns in the training and validation data in `X_train[low_cardinality_cols]` and `X_valid[low_cardinality_cols]`, respectively."
      ]
     },
     "metadata": {},
     "output_type": "display_data"
    },
    {
     "data": {
      "application/javascript": [
       "parent.postMessage({\"jupyterEvent\": \"custom.exercise_interaction\", \"data\": {\"interactionType\": 3, \"questionType\": 2, \"questionId\": \"4_OneHot\", \"learnToolsVersion\": \"0.3.4\", \"valueTowardsCompletion\": 0.0, \"failureMessage\": \"\", \"exceptionClass\": \"\", \"trace\": \"\", \"outcomeType\": 4}}, \"*\")"
      ],
      "text/plain": [
       "<IPython.core.display.Javascript object>"
      ]
     },
     "metadata": {},
     "output_type": "display_data"
    },
    {
     "data": {
      "text/markdown": [
       "<span style=\"color:#33cc99\">Solution:</span> \n",
       "```python\n",
       "# Apply one-hot encoder to each column with categorical data\n",
       "OH_encoder = OneHotEncoder(handle_unknown='ignore', sparse=False)\n",
       "OH_cols_train = pd.DataFrame(OH_encoder.fit_transform(X_train[low_cardinality_cols]))\n",
       "OH_cols_valid = pd.DataFrame(OH_encoder.transform(X_valid[low_cardinality_cols]))\n",
       "\n",
       "# One-hot encoding removed index; put it back\n",
       "OH_cols_train.index = X_train.index\n",
       "OH_cols_valid.index = X_valid.index\n",
       "\n",
       "# Remove categorical columns (will replace with one-hot encoding)\n",
       "num_X_train = X_train.drop(object_cols, axis=1)\n",
       "num_X_valid = X_valid.drop(object_cols, axis=1)\n",
       "\n",
       "# Add one-hot encoded columns to numerical features\n",
       "OH_X_train = pd.concat([num_X_train, OH_cols_train], axis=1)\n",
       "OH_X_valid = pd.concat([num_X_valid, OH_cols_valid], axis=1)\n",
       "\n",
       "\n",
       "```"
      ],
      "text/plain": [
       "Solution: \n",
       "```python\n",
       "# Apply one-hot encoder to each column with categorical data\n",
       "OH_encoder = OneHotEncoder(handle_unknown='ignore', sparse=False)\n",
       "OH_cols_train = pd.DataFrame(OH_encoder.fit_transform(X_train[low_cardinality_cols]))\n",
       "OH_cols_valid = pd.DataFrame(OH_encoder.transform(X_valid[low_cardinality_cols]))\n",
       "\n",
       "# One-hot encoding removed index; put it back\n",
       "OH_cols_train.index = X_train.index\n",
       "OH_cols_valid.index = X_valid.index\n",
       "\n",
       "# Remove categorical columns (will replace with one-hot encoding)\n",
       "num_X_train = X_train.drop(object_cols, axis=1)\n",
       "num_X_valid = X_valid.drop(object_cols, axis=1)\n",
       "\n",
       "# Add one-hot encoded columns to numerical features\n",
       "OH_X_train = pd.concat([num_X_train, OH_cols_train], axis=1)\n",
       "OH_X_valid = pd.concat([num_X_valid, OH_cols_valid], axis=1)\n",
       "\n",
       "\n",
       "```"
      ]
     },
     "metadata": {},
     "output_type": "display_data"
    }
   ],
   "source": [
    "# Lines below will give you a hint or solution code\n",
    "step_4.hint()\n",
    "step_4.solution()"
   ]
  },
  {
   "cell_type": "markdown",
   "id": "5df53e6b",
   "metadata": {
    "papermill": {
     "duration": 0.010064,
     "end_time": "2022-06-16T21:30:12.131404",
     "exception": false,
     "start_time": "2022-06-16T21:30:12.121340",
     "status": "completed"
    },
    "tags": []
   },
   "source": [
    "Run the next code cell to get the MAE for this approach."
   ]
  },
  {
   "cell_type": "code",
   "execution_count": 23,
   "id": "281bb7f6",
   "metadata": {
    "execution": {
     "iopub.execute_input": "2022-06-16T21:30:12.154497Z",
     "iopub.status.busy": "2022-06-16T21:30:12.153949Z",
     "iopub.status.idle": "2022-06-16T21:30:13.883710Z",
     "shell.execute_reply": "2022-06-16T21:30:13.882284Z"
    },
    "papermill": {
     "duration": 1.744335,
     "end_time": "2022-06-16T21:30:13.886196",
     "exception": false,
     "start_time": "2022-06-16T21:30:12.141861",
     "status": "completed"
    },
    "tags": []
   },
   "outputs": [
    {
     "name": "stdout",
     "output_type": "stream",
     "text": [
      "MAE from Approach 3 (One-Hot Encoding):\n"
     ]
    },
    {
     "name": "stderr",
     "output_type": "stream",
     "text": [
      "/opt/conda/lib/python3.7/site-packages/sklearn/utils/validation.py:1692: FutureWarning: Feature names only support names that are all strings. Got feature names with dtypes: ['int', 'str']. An error will be raised in 1.2.\n",
      "  FutureWarning,\n"
     ]
    },
    {
     "name": "stdout",
     "output_type": "stream",
     "text": [
      "17525.345719178084\n"
     ]
    },
    {
     "name": "stderr",
     "output_type": "stream",
     "text": [
      "/opt/conda/lib/python3.7/site-packages/sklearn/utils/validation.py:1692: FutureWarning: Feature names only support names that are all strings. Got feature names with dtypes: ['int', 'str']. An error will be raised in 1.2.\n",
      "  FutureWarning,\n"
     ]
    }
   ],
   "source": [
    "print(\"MAE from Approach 3 (One-Hot Encoding):\") \n",
    "print(score_dataset(OH_X_train, OH_X_valid, y_train, y_valid))"
   ]
  },
  {
   "cell_type": "markdown",
   "id": "0594a708",
   "metadata": {
    "papermill": {
     "duration": 0.0102,
     "end_time": "2022-06-16T21:30:13.906880",
     "exception": false,
     "start_time": "2022-06-16T21:30:13.896680",
     "status": "completed"
    },
    "tags": []
   },
   "source": [
    "# Generate test predictions and submit your results\n",
    "\n",
    "After you complete Step 4, if you'd like to use what you've learned to submit your results to the leaderboard, you'll need to preprocess the test data before generating predictions.\n",
    "\n",
    "**This step is completely optional, and you do not need to submit results to the leaderboard to successfully complete the exercise.**\n",
    "\n",
    "Check out the previous exercise if you need help with remembering how to [join the competition](https://www.kaggle.com/c/home-data-for-ml-course) or save your results to CSV.  Once you have generated a file with your results, follow the instructions below:\n",
    "1. Begin by clicking on the **Save Version** button in the top right corner of the window.  This will generate a pop-up window.  \n",
    "2. Ensure that the **Save and Run All** option is selected, and then click on the **Save** button.\n",
    "3. This generates a window in the bottom left corner of the notebook.  After it has finished running, click on the number to the right of the **Save Version** button.  This pulls up a list of versions on the right of the screen.  Click on the ellipsis **(...)** to the right of the most recent version, and select **Open in Viewer**.  This brings you into view mode of the same page. You will need to scroll down to get back to these instructions.\n",
    "4. Click on the **Output** tab on the right of the screen.  Then, click on the file you would like to submit, and click on the **Submit** button to submit your results to the leaderboard.\n",
    "\n",
    "You have now successfully submitted to the competition!\n",
    "\n",
    "If you want to keep working to improve your performance, select the **Edit** button in the top right of the screen. Then you can change your code and repeat the process. There's a lot of room to improve, and you will climb up the leaderboard as you work.\n"
   ]
  },
  {
   "cell_type": "markdown",
   "id": "abca5651",
   "metadata": {
    "papermill": {
     "duration": 0.011105,
     "end_time": "2022-06-16T21:30:13.929692",
     "exception": false,
     "start_time": "2022-06-16T21:30:13.918587",
     "status": "completed"
    },
    "tags": []
   },
   "source": []
  },
  {
   "cell_type": "code",
   "execution_count": 24,
   "id": "38f9ba2d",
   "metadata": {
    "execution": {
     "iopub.execute_input": "2022-06-16T21:30:13.952885Z",
     "iopub.status.busy": "2022-06-16T21:30:13.952463Z",
     "iopub.status.idle": "2022-06-16T21:30:13.969988Z",
     "shell.execute_reply": "2022-06-16T21:30:13.968532Z"
    },
    "papermill": {
     "duration": 0.031502,
     "end_time": "2022-06-16T21:30:13.972002",
     "exception": false,
     "start_time": "2022-06-16T21:30:13.940500",
     "status": "completed"
    },
    "tags": []
   },
   "outputs": [
    {
     "name": "stdout",
     "output_type": "stream",
     "text": [
      "['Street', 'LotShape', 'LandContour', 'LotConfig', 'LandSlope', 'Neighborhood', 'Condition1', 'Condition2', 'BldgType', 'HouseStyle', 'RoofStyle', 'RoofMatl', 'ExterQual', 'ExterCond', 'Foundation', 'Heating', 'HeatingQC', 'CentralAir', 'PavedDrive', 'SaleCondition']\n",
      "['MSZoning', 'Exterior1st', 'Functional', 'Exterior2nd', 'KitchenQual', 'SaleType', 'Utilities']\n"
     ]
    }
   ],
   "source": [
    "# Categorical columns in the training data\n",
    "object_cols_submit = [col for col in X_test.columns if X_test[col].dtype == \"object\"]\n",
    "\n",
    "# Columns that can be safely ordinal encoded\n",
    "good_label_cols_submit = [col for col in object_cols if \n",
    "                   set(X_test[col]).issubset(set(X[col]))]\n",
    "        \n",
    "# Problematic columns that will be dropped from the dataset\n",
    "bad_label_cols_submit = list(set(object_cols_submit)-set(good_label_cols_submit))\n",
    "\n",
    "print(good_label_cols_submit)\n",
    "print(bad_label_cols_submit)"
   ]
  },
  {
   "cell_type": "code",
   "execution_count": 25,
   "id": "b0d1d2ec",
   "metadata": {
    "execution": {
     "iopub.execute_input": "2022-06-16T21:30:13.995530Z",
     "iopub.status.busy": "2022-06-16T21:30:13.994825Z",
     "iopub.status.idle": "2022-06-16T21:30:15.389405Z",
     "shell.execute_reply": "2022-06-16T21:30:15.388046Z"
    },
    "papermill": {
     "duration": 1.409,
     "end_time": "2022-06-16T21:30:15.391820",
     "exception": false,
     "start_time": "2022-06-16T21:30:13.982820",
     "status": "completed"
    },
    "tags": []
   },
   "outputs": [],
   "source": [
    "# (Optional) Your code here\n",
    "\n",
    "# To keep things simple, we'll drop columns with missing values\n",
    "cols_with_missing_X_test = [col for col in X_test.columns if X_test[col].isnull().any()] \n",
    "X.drop(cols_with_missing_X_test, axis=1, inplace=True)\n",
    "X_test.drop(cols_with_missing_X_test, axis=1, inplace=True)\n",
    "\n",
    "# Categorical columns in the training data\n",
    "object_cols_submit = [col for col in X.columns if X[col].dtype == \"object\"]\n",
    "\n",
    "# Columns that can be safely ordinal encoded\n",
    "good_label_cols_submit = [col for col in object_cols_submit if set(X_test[col]).issubset(set(X[col]))]\n",
    "        \n",
    "# Problematic columns that will be dropped from the dataset\n",
    "bad_label_cols_submit = list(set(object_cols_submit)-set(good_label_cols_submit))\n",
    "\n",
    "from sklearn.preprocessing import OrdinalEncoder\n",
    "\n",
    "# Drop categorical columns that will not be encoded\n",
    "label_X = X.drop(bad_label_cols_submit, axis=1)\n",
    "label_X_test = X_test.drop(bad_label_cols_submit, axis=1)\n",
    "\n",
    "# Apply ordinal encoder \n",
    "ordinal = OrdinalEncoder()\n",
    "label_X[good_label_cols_submit] = ordinal.fit_transform(X[good_label_cols_submit])\n",
    "label_X_test[good_label_cols_submit] = ordinal.transform(X_test[good_label_cols_submit])\n",
    "\n",
    "# Train random forest regressor model with formatted data\n",
    "from sklearn.ensemble import RandomForestRegressor\n",
    "model = RandomForestRegressor(n_estimators = 100, random_state = 0)\n",
    "model.fit(label_X, y)\n",
    "pred_submit = model.predict(label_X_test)\n",
    "\n",
    "# Save test prediction to file\n",
    "output = pd.DataFrame({'Id': X_test.index,\n",
    "                      'SalePrice': pred_submit})\n",
    "output.to_csv('submission.csv', index = False)\n"
   ]
  },
  {
   "cell_type": "markdown",
   "id": "55e76ecd",
   "metadata": {
    "papermill": {
     "duration": 0.010305,
     "end_time": "2022-06-16T21:30:15.413586",
     "exception": false,
     "start_time": "2022-06-16T21:30:15.403281",
     "status": "completed"
    },
    "tags": []
   },
   "source": [
    "# Keep going\n",
    "\n",
    "With missing value handling and categorical encoding, your modeling process is getting complex. This complexity gets worse when you want to save your model to use in the future. The key to managing this complexity is something called **pipelines**. \n",
    "\n",
    "**[Learn to use pipelines](https://www.kaggle.com/alexisbcook/pipelines)** to preprocess datasets with categorical variables, missing values and any other messiness your data throws at you."
   ]
  },
  {
   "cell_type": "markdown",
   "id": "7566e13f",
   "metadata": {
    "papermill": {
     "duration": 0.010295,
     "end_time": "2022-06-16T21:30:15.434566",
     "exception": false,
     "start_time": "2022-06-16T21:30:15.424271",
     "status": "completed"
    },
    "tags": []
   },
   "source": [
    "---\n",
    "\n",
    "\n",
    "\n",
    "\n",
    "*Have questions or comments? Visit the [course discussion forum](https://www.kaggle.com/learn/intermediate-machine-learning/discussion) to chat with other learners.*"
   ]
  }
 ],
 "metadata": {
  "kernelspec": {
   "display_name": "Python 3",
   "language": "python",
   "name": "python3"
  },
  "language_info": {
   "codemirror_mode": {
    "name": "ipython",
    "version": 3
   },
   "file_extension": ".py",
   "mimetype": "text/x-python",
   "name": "python",
   "nbconvert_exporter": "python",
   "pygments_lexer": "ipython3",
   "version": "3.7.12"
  },
  "papermill": {
   "default_parameters": {},
   "duration": 18.63176,
   "end_time": "2022-06-16T21:30:16.166629",
   "environment_variables": {},
   "exception": null,
   "input_path": "__notebook__.ipynb",
   "output_path": "__notebook__.ipynb",
   "parameters": {},
   "start_time": "2022-06-16T21:29:57.534869",
   "version": "2.3.4"
  }
 },
 "nbformat": 4,
 "nbformat_minor": 5
}
