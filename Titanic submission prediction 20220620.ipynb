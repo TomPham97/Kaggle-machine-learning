{
 "cells": [
  {
   "cell_type": "code",
   "execution_count": 1,
   "id": "453a0592",
   "metadata": {
    "execution": {
     "iopub.execute_input": "2022-06-19T23:45:09.784492Z",
     "iopub.status.busy": "2022-06-19T23:45:09.784047Z",
     "iopub.status.idle": "2022-06-19T23:45:11.227870Z",
     "shell.execute_reply": "2022-06-19T23:45:11.226879Z"
    },
    "papermill": {
     "duration": 1.457205,
     "end_time": "2022-06-19T23:45:11.230467",
     "exception": false,
     "start_time": "2022-06-19T23:45:09.773262",
     "status": "completed"
    },
    "tags": []
   },
   "outputs": [],
   "source": [
    "import pandas as pd\n",
    "from sklearn.model_selection import train_test_split\n",
    "from sklearn.compose import ColumnTransformer\n",
    "from sklearn.pipeline import Pipeline\n",
    "from sklearn.impute import SimpleImputer\n",
    "from sklearn.preprocessing import OneHotEncoder\n",
    "from xgboost import XGBRegressor"
   ]
  },
  {
   "cell_type": "code",
   "execution_count": 2,
   "id": "2b77361a",
   "metadata": {
    "execution": {
     "iopub.execute_input": "2022-06-19T23:45:11.247690Z",
     "iopub.status.busy": "2022-06-19T23:45:11.247263Z",
     "iopub.status.idle": "2022-06-19T23:45:11.287646Z",
     "shell.execute_reply": "2022-06-19T23:45:11.286987Z"
    },
    "papermill": {
     "duration": 0.051073,
     "end_time": "2022-06-19T23:45:11.289621",
     "exception": false,
     "start_time": "2022-06-19T23:45:11.238548",
     "status": "completed"
    },
    "tags": []
   },
   "outputs": [
    {
     "data": {
      "text/plain": [
       "<bound method NDFrame.head of      PassengerId  Survived  Pclass  \\\n",
       "0              1         0       3   \n",
       "1              2         1       1   \n",
       "2              3         1       3   \n",
       "3              4         1       1   \n",
       "4              5         0       3   \n",
       "..           ...       ...     ...   \n",
       "886          887         0       2   \n",
       "887          888         1       1   \n",
       "888          889         0       3   \n",
       "889          890         1       1   \n",
       "890          891         0       3   \n",
       "\n",
       "                                                  Name     Sex   Age  SibSp  \\\n",
       "0                              Braund, Mr. Owen Harris    male  22.0      1   \n",
       "1    Cumings, Mrs. John Bradley (Florence Briggs Th...  female  38.0      1   \n",
       "2                               Heikkinen, Miss. Laina  female  26.0      0   \n",
       "3         Futrelle, Mrs. Jacques Heath (Lily May Peel)  female  35.0      1   \n",
       "4                             Allen, Mr. William Henry    male  35.0      0   \n",
       "..                                                 ...     ...   ...    ...   \n",
       "886                              Montvila, Rev. Juozas    male  27.0      0   \n",
       "887                       Graham, Miss. Margaret Edith  female  19.0      0   \n",
       "888           Johnston, Miss. Catherine Helen \"Carrie\"  female   NaN      1   \n",
       "889                              Behr, Mr. Karl Howell    male  26.0      0   \n",
       "890                                Dooley, Mr. Patrick    male  32.0      0   \n",
       "\n",
       "     Parch            Ticket     Fare Cabin Embarked  \n",
       "0        0         A/5 21171   7.2500   NaN        S  \n",
       "1        0          PC 17599  71.2833   C85        C  \n",
       "2        0  STON/O2. 3101282   7.9250   NaN        S  \n",
       "3        0            113803  53.1000  C123        S  \n",
       "4        0            373450   8.0500   NaN        S  \n",
       "..     ...               ...      ...   ...      ...  \n",
       "886      0            211536  13.0000   NaN        S  \n",
       "887      0            112053  30.0000   B42        S  \n",
       "888      2        W./C. 6607  23.4500   NaN        S  \n",
       "889      0            111369  30.0000  C148        C  \n",
       "890      0            370376   7.7500   NaN        Q  \n",
       "\n",
       "[891 rows x 12 columns]>"
      ]
     },
     "execution_count": 2,
     "metadata": {},
     "output_type": "execute_result"
    }
   ],
   "source": [
    "import os\n",
    "train_data = pd.read_csv(\"/kaggle/input/titanic/train.csv\")\n",
    "train_data.head"
   ]
  },
  {
   "cell_type": "code",
   "execution_count": 3,
   "id": "27e14c48",
   "metadata": {
    "execution": {
     "iopub.execute_input": "2022-06-19T23:45:11.309286Z",
     "iopub.status.busy": "2022-06-19T23:45:11.308429Z",
     "iopub.status.idle": "2022-06-19T23:45:11.334648Z",
     "shell.execute_reply": "2022-06-19T23:45:11.333835Z"
    },
    "papermill": {
     "duration": 0.03903,
     "end_time": "2022-06-19T23:45:11.337382",
     "exception": false,
     "start_time": "2022-06-19T23:45:11.298352",
     "status": "completed"
    },
    "tags": []
   },
   "outputs": [
    {
     "data": {
      "text/html": [
       "<div>\n",
       "<style scoped>\n",
       "    .dataframe tbody tr th:only-of-type {\n",
       "        vertical-align: middle;\n",
       "    }\n",
       "\n",
       "    .dataframe tbody tr th {\n",
       "        vertical-align: top;\n",
       "    }\n",
       "\n",
       "    .dataframe thead th {\n",
       "        text-align: right;\n",
       "    }\n",
       "</style>\n",
       "<table border=\"1\" class=\"dataframe\">\n",
       "  <thead>\n",
       "    <tr style=\"text-align: right;\">\n",
       "      <th></th>\n",
       "      <th>PassengerId</th>\n",
       "      <th>Pclass</th>\n",
       "      <th>Name</th>\n",
       "      <th>Sex</th>\n",
       "      <th>Age</th>\n",
       "      <th>SibSp</th>\n",
       "      <th>Parch</th>\n",
       "      <th>Ticket</th>\n",
       "      <th>Fare</th>\n",
       "      <th>Cabin</th>\n",
       "      <th>Embarked</th>\n",
       "    </tr>\n",
       "  </thead>\n",
       "  <tbody>\n",
       "    <tr>\n",
       "      <th>0</th>\n",
       "      <td>892</td>\n",
       "      <td>3</td>\n",
       "      <td>Kelly, Mr. James</td>\n",
       "      <td>male</td>\n",
       "      <td>34.5</td>\n",
       "      <td>0</td>\n",
       "      <td>0</td>\n",
       "      <td>330911</td>\n",
       "      <td>7.8292</td>\n",
       "      <td>NaN</td>\n",
       "      <td>Q</td>\n",
       "    </tr>\n",
       "    <tr>\n",
       "      <th>1</th>\n",
       "      <td>893</td>\n",
       "      <td>3</td>\n",
       "      <td>Wilkes, Mrs. James (Ellen Needs)</td>\n",
       "      <td>female</td>\n",
       "      <td>47.0</td>\n",
       "      <td>1</td>\n",
       "      <td>0</td>\n",
       "      <td>363272</td>\n",
       "      <td>7.0000</td>\n",
       "      <td>NaN</td>\n",
       "      <td>S</td>\n",
       "    </tr>\n",
       "    <tr>\n",
       "      <th>2</th>\n",
       "      <td>894</td>\n",
       "      <td>2</td>\n",
       "      <td>Myles, Mr. Thomas Francis</td>\n",
       "      <td>male</td>\n",
       "      <td>62.0</td>\n",
       "      <td>0</td>\n",
       "      <td>0</td>\n",
       "      <td>240276</td>\n",
       "      <td>9.6875</td>\n",
       "      <td>NaN</td>\n",
       "      <td>Q</td>\n",
       "    </tr>\n",
       "    <tr>\n",
       "      <th>3</th>\n",
       "      <td>895</td>\n",
       "      <td>3</td>\n",
       "      <td>Wirz, Mr. Albert</td>\n",
       "      <td>male</td>\n",
       "      <td>27.0</td>\n",
       "      <td>0</td>\n",
       "      <td>0</td>\n",
       "      <td>315154</td>\n",
       "      <td>8.6625</td>\n",
       "      <td>NaN</td>\n",
       "      <td>S</td>\n",
       "    </tr>\n",
       "    <tr>\n",
       "      <th>4</th>\n",
       "      <td>896</td>\n",
       "      <td>3</td>\n",
       "      <td>Hirvonen, Mrs. Alexander (Helga E Lindqvist)</td>\n",
       "      <td>female</td>\n",
       "      <td>22.0</td>\n",
       "      <td>1</td>\n",
       "      <td>1</td>\n",
       "      <td>3101298</td>\n",
       "      <td>12.2875</td>\n",
       "      <td>NaN</td>\n",
       "      <td>S</td>\n",
       "    </tr>\n",
       "  </tbody>\n",
       "</table>\n",
       "</div>"
      ],
      "text/plain": [
       "   PassengerId  Pclass                                          Name     Sex  \\\n",
       "0          892       3                              Kelly, Mr. James    male   \n",
       "1          893       3              Wilkes, Mrs. James (Ellen Needs)  female   \n",
       "2          894       2                     Myles, Mr. Thomas Francis    male   \n",
       "3          895       3                              Wirz, Mr. Albert    male   \n",
       "4          896       3  Hirvonen, Mrs. Alexander (Helga E Lindqvist)  female   \n",
       "\n",
       "    Age  SibSp  Parch   Ticket     Fare Cabin Embarked  \n",
       "0  34.5      0      0   330911   7.8292   NaN        Q  \n",
       "1  47.0      1      0   363272   7.0000   NaN        S  \n",
       "2  62.0      0      0   240276   9.6875   NaN        Q  \n",
       "3  27.0      0      0   315154   8.6625   NaN        S  \n",
       "4  22.0      1      1  3101298  12.2875   NaN        S  "
      ]
     },
     "execution_count": 3,
     "metadata": {},
     "output_type": "execute_result"
    }
   ],
   "source": [
    "test_data = pd.read_csv(\"/kaggle/input/titanic/test.csv\")\n",
    "test_data.head()"
   ]
  },
  {
   "cell_type": "code",
   "execution_count": 4,
   "id": "3821e481",
   "metadata": {
    "execution": {
     "iopub.execute_input": "2022-06-19T23:45:11.358297Z",
     "iopub.status.busy": "2022-06-19T23:45:11.358015Z",
     "iopub.status.idle": "2022-06-19T23:45:11.384397Z",
     "shell.execute_reply": "2022-06-19T23:45:11.383676Z"
    },
    "papermill": {
     "duration": 0.039609,
     "end_time": "2022-06-19T23:45:11.386641",
     "exception": false,
     "start_time": "2022-06-19T23:45:11.347032",
     "status": "completed"
    },
    "tags": []
   },
   "outputs": [],
   "source": [
    "# Remove rows with missing target, separate target from predictors\n",
    "train_data.dropna(axis=0, subset=[\"Survived\"], inplace=True)\n",
    "y = train_data.Survived\n",
    "train_data.drop([\"Survived\"], axis=1, inplace=True)\n",
    "\n",
    "# Break off validation set from training data\n",
    "X_train, X_valid, y_train, y_valid = train_test_split(train_data, y,\n",
    "                                                        train_size=0.8, test_size=0.2,\n",
    "                                                        random_state=0)\n",
    "\n",
    "# Select categorical columns with relatively low cardinality\n",
    "categorical_cols = [cname for cname in X_train.columns if\n",
    "                     X_train[cname].nunique() < 10 and\n",
    "                     X_train[cname].dtype == \"object\"]\n",
    "\n",
    "# Select numerical columns\n",
    "numerical_cols = [cname for cname in X_train.columns if\n",
    "                  X_train[cname].dtype in [\"int64\", \"float64\"]]\n",
    "\n",
    "# Keep selected columns only\n",
    "my_cols = categorical_cols + numerical_cols\n",
    "X_train = X_train[my_cols].copy()\n",
    "X_valid = X_valid[my_cols].copy()\n",
    "X_test = test_data[my_cols].copy()"
   ]
  },
  {
   "cell_type": "code",
   "execution_count": 5,
   "id": "14739d88",
   "metadata": {
    "execution": {
     "iopub.execute_input": "2022-06-19T23:45:11.406016Z",
     "iopub.status.busy": "2022-06-19T23:45:11.405434Z",
     "iopub.status.idle": "2022-06-19T23:45:12.102909Z",
     "shell.execute_reply": "2022-06-19T23:45:12.102219Z"
    },
    "papermill": {
     "duration": 0.7098,
     "end_time": "2022-06-19T23:45:12.105263",
     "exception": false,
     "start_time": "2022-06-19T23:45:11.395463",
     "status": "completed"
    },
    "tags": []
   },
   "outputs": [],
   "source": [
    "# Preprocessing for numerical data\n",
    "numerical_transformer = SimpleImputer(strategy=\"mean\")\n",
    "\n",
    "# Preprocessing for categorical data\n",
    "categorical_transformer = Pipeline(steps=[\n",
    "    (\"imputer\", SimpleImputer(strategy=\"most_frequent\")),\n",
    "    (\"onehot\", OneHotEncoder(handle_unknown=\"ignore\"))\n",
    "])\n",
    "\n",
    "# Bundle preprocessing for numerical and categorical data\n",
    "preprocessor = ColumnTransformer(\n",
    "    transformers=[\n",
    "        (\"num\", numerical_transformer, numerical_cols),\n",
    "        (\"cat\", categorical_transformer, categorical_cols)\n",
    "    ])\n",
    "\n",
    "\n",
    "# Make a copy to avoid changing original data\n",
    "X_train_eval = X_train.copy()\n",
    "X_valid_eval=X_valid.copy()\n",
    "X_test_eval = X_test.copy()\n",
    "# Bundle preprocessing only in a temp pipeline\n",
    "eval_set_pipe = Pipeline(steps = [('preprocessor', preprocessor)])\n",
    "# fit transform X_valid.copy()\n",
    "X_train_eval = eval_set_pipe.fit(X_train).transform (X_train_eval)\n",
    "X_valid_eval = eval_set_pipe.fit(X_train).transform (X_valid_eval)\n",
    "X_test_eval = eval_set_pipe.fit(X_train).transform (X_test_eval)\n",
    "\n",
    "# Define model\n",
    "model = XGBRegressor(n_estimators = 1000,\n",
    "                     learning_rate = 0.05,\n",
    "                     early_stopping_rounds = 10)\n",
    "\n",
    "\n",
    "# Preprocessing of training data, fit model\n",
    "model.fit(X_train_eval, y_train,\n",
    "                eval_set=[(X_valid_eval, y_valid)],\n",
    "                verbose = False)\n",
    "\n",
    "predictions = model.predict(X_test_eval)"
   ]
  },
  {
   "cell_type": "code",
   "execution_count": 6,
   "id": "c450dcf9",
   "metadata": {
    "execution": {
     "iopub.execute_input": "2022-06-19T23:45:12.126343Z",
     "iopub.status.busy": "2022-06-19T23:45:12.126059Z",
     "iopub.status.idle": "2022-06-19T23:45:12.136752Z",
     "shell.execute_reply": "2022-06-19T23:45:12.135833Z"
    },
    "papermill": {
     "duration": 0.023976,
     "end_time": "2022-06-19T23:45:12.139700",
     "exception": false,
     "start_time": "2022-06-19T23:45:12.115724",
     "status": "completed"
    },
    "tags": []
   },
   "outputs": [
    {
     "name": "stdout",
     "output_type": "stream",
     "text": [
      "Your submission was successfully saved!\n"
     ]
    }
   ],
   "source": [
    "output = pd.DataFrame({'PassengerId': test_data.PassengerId, 'Survived': predictions})\n",
    "output.to_csv('submission.csv', index=False)\n",
    "print(\"Your submission was successfully saved!\")"
   ]
  }
 ],
 "metadata": {
  "kernelspec": {
   "display_name": "Python 3",
   "language": "python",
   "name": "python3"
  },
  "language_info": {
   "codemirror_mode": {
    "name": "ipython",
    "version": 3
   },
   "file_extension": ".py",
   "mimetype": "text/x-python",
   "name": "python",
   "nbconvert_exporter": "python",
   "pygments_lexer": "ipython3",
   "version": "3.7.12"
  },
  "papermill": {
   "default_parameters": {},
   "duration": 13.699851,
   "end_time": "2022-06-19T23:45:12.871164",
   "environment_variables": {},
   "exception": null,
   "input_path": "__notebook__.ipynb",
   "output_path": "__notebook__.ipynb",
   "parameters": {},
   "start_time": "2022-06-19T23:44:59.171313",
   "version": "2.3.4"
  }
 },
 "nbformat": 4,
 "nbformat_minor": 5
}
