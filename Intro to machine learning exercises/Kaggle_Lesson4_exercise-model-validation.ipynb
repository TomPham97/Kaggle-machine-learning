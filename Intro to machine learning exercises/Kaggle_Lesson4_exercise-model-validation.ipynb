{
 "cells": [
  {
   "cell_type": "markdown",
   "id": "4ae9ed76",
   "metadata": {
    "papermill": {
     "duration": 0.02201,
     "end_time": "2022-05-11T18:21:58.478056",
     "exception": false,
     "start_time": "2022-05-11T18:21:58.456046",
     "status": "completed"
    },
    "tags": []
   },
   "source": [
    "**This notebook is an exercise in the [Introduction to Machine Learning](https://www.kaggle.com/learn/intro-to-machine-learning) course.  You can reference the tutorial at [this link](https://www.kaggle.com/dansbecker/model-validation).**\n",
    "\n",
    "---\n"
   ]
  },
  {
   "cell_type": "markdown",
   "id": "12b5850d",
   "metadata": {
    "papermill": {
     "duration": 0.022311,
     "end_time": "2022-05-11T18:21:58.522860",
     "exception": false,
     "start_time": "2022-05-11T18:21:58.500549",
     "status": "completed"
    },
    "tags": []
   },
   "source": [
    "## Recap\n",
    "You've built a model. In this exercise you will test how good your model is.\n",
    "\n",
    "Run the cell below to set up your coding environment where the previous exercise left off."
   ]
  },
  {
   "cell_type": "code",
   "execution_count": 1,
   "id": "1e3ed029",
   "metadata": {
    "execution": {
     "iopub.execute_input": "2022-05-11T18:21:58.567751Z",
     "iopub.status.busy": "2022-05-11T18:21:58.566763Z",
     "iopub.status.idle": "2022-05-11T18:22:00.359989Z",
     "shell.execute_reply": "2022-05-11T18:22:00.358095Z"
    },
    "papermill": {
     "duration": 1.821579,
     "end_time": "2022-05-11T18:22:00.365047",
     "exception": false,
     "start_time": "2022-05-11T18:21:58.543468",
     "status": "completed"
    },
    "tags": []
   },
   "outputs": [
    {
     "name": "stdout",
     "output_type": "stream",
     "text": [
      "First in-sample predictions: [208500. 181500. 223500. 140000. 250000.]\n",
      "Actual target values for those homes: [208500, 181500, 223500, 140000, 250000]\n",
      "Setup Complete\n"
     ]
    }
   ],
   "source": [
    "# Code you have previously used to load data\n",
    "import pandas as pd\n",
    "from sklearn.tree import DecisionTreeRegressor\n",
    "\n",
    "# Path of the file to read\n",
    "iowa_file_path = '../input/home-data-for-ml-course/train.csv'\n",
    "\n",
    "home_data = pd.read_csv(iowa_file_path)\n",
    "y = home_data.SalePrice\n",
    "feature_columns = ['LotArea', 'YearBuilt', '1stFlrSF', '2ndFlrSF', 'FullBath', 'BedroomAbvGr', 'TotRmsAbvGrd']\n",
    "X = home_data[feature_columns]\n",
    "\n",
    "# Specify Model\n",
    "iowa_model = DecisionTreeRegressor()\n",
    "# Fit Model\n",
    "iowa_model.fit(X, y)\n",
    "\n",
    "print(\"First in-sample predictions:\", iowa_model.predict(X.head()))\n",
    "print(\"Actual target values for those homes:\", y.head().tolist())\n",
    "\n",
    "# Set up code checking\n",
    "from learntools.core import binder\n",
    "binder.bind(globals())\n",
    "from learntools.machine_learning.ex4 import *\n",
    "print(\"Setup Complete\")"
   ]
  },
  {
   "cell_type": "markdown",
   "id": "9ad27283",
   "metadata": {
    "papermill": {
     "duration": 0.021587,
     "end_time": "2022-05-11T18:22:00.409826",
     "exception": false,
     "start_time": "2022-05-11T18:22:00.388239",
     "status": "completed"
    },
    "tags": []
   },
   "source": [
    "# Exercises\n",
    "\n",
    "## Step 1: Split Your Data\n",
    "Use the `train_test_split` function to split up your data.\n",
    "\n",
    "Give it the argument `random_state=1` so the `check` functions know what to expect when verifying your code.\n",
    "\n",
    "Recall, your features are loaded in the DataFrame **X** and your target is loaded in **y**.\n"
   ]
  },
  {
   "cell_type": "code",
   "execution_count": 2,
   "id": "6460baf7",
   "metadata": {
    "execution": {
     "iopub.execute_input": "2022-05-11T18:22:00.455892Z",
     "iopub.status.busy": "2022-05-11T18:22:00.455554Z",
     "iopub.status.idle": "2022-05-11T18:22:00.462530Z",
     "shell.execute_reply": "2022-05-11T18:22:00.461024Z"
    },
    "papermill": {
     "duration": 0.034565,
     "end_time": "2022-05-11T18:22:00.467068",
     "exception": false,
     "start_time": "2022-05-11T18:22:00.432503",
     "status": "completed"
    },
    "tags": []
   },
   "outputs": [
    {
     "name": "stdout",
     "output_type": "stream",
     "text": [
      "Help on function train_test_split in module sklearn.model_selection._split:\n",
      "\n",
      "train_test_split(*arrays, test_size=None, train_size=None, random_state=None, shuffle=True, stratify=None)\n",
      "    Split arrays or matrices into random train and test subsets.\n",
      "    \n",
      "    Quick utility that wraps input validation and\n",
      "    ``next(ShuffleSplit().split(X, y))`` and application to input data\n",
      "    into a single call for splitting (and optionally subsampling) data in a\n",
      "    oneliner.\n",
      "    \n",
      "    Read more in the :ref:`User Guide <cross_validation>`.\n",
      "    \n",
      "    Parameters\n",
      "    ----------\n",
      "    *arrays : sequence of indexables with same length / shape[0]\n",
      "        Allowed inputs are lists, numpy arrays, scipy-sparse\n",
      "        matrices or pandas dataframes.\n",
      "    \n",
      "    test_size : float or int, default=None\n",
      "        If float, should be between 0.0 and 1.0 and represent the proportion\n",
      "        of the dataset to include in the test split. If int, represents the\n",
      "        absolute number of test samples. If None, the value is set to the\n",
      "        complement of the train size. If ``train_size`` is also None, it will\n",
      "        be set to 0.25.\n",
      "    \n",
      "    train_size : float or int, default=None\n",
      "        If float, should be between 0.0 and 1.0 and represent the\n",
      "        proportion of the dataset to include in the train split. If\n",
      "        int, represents the absolute number of train samples. If None,\n",
      "        the value is automatically set to the complement of the test size.\n",
      "    \n",
      "    random_state : int, RandomState instance or None, default=None\n",
      "        Controls the shuffling applied to the data before applying the split.\n",
      "        Pass an int for reproducible output across multiple function calls.\n",
      "        See :term:`Glossary <random_state>`.\n",
      "    \n",
      "    shuffle : bool, default=True\n",
      "        Whether or not to shuffle the data before splitting. If shuffle=False\n",
      "        then stratify must be None.\n",
      "    \n",
      "    stratify : array-like, default=None\n",
      "        If not None, data is split in a stratified fashion, using this as\n",
      "        the class labels.\n",
      "        Read more in the :ref:`User Guide <stratification>`.\n",
      "    \n",
      "    Returns\n",
      "    -------\n",
      "    splitting : list, length=2 * len(arrays)\n",
      "        List containing train-test split of inputs.\n",
      "    \n",
      "        .. versionadded:: 0.16\n",
      "            If the input is sparse, the output will be a\n",
      "            ``scipy.sparse.csr_matrix``. Else, output type is the same as the\n",
      "            input type.\n",
      "    \n",
      "    Examples\n",
      "    --------\n",
      "    >>> import numpy as np\n",
      "    >>> from sklearn.model_selection import train_test_split\n",
      "    >>> X, y = np.arange(10).reshape((5, 2)), range(5)\n",
      "    >>> X\n",
      "    array([[0, 1],\n",
      "           [2, 3],\n",
      "           [4, 5],\n",
      "           [6, 7],\n",
      "           [8, 9]])\n",
      "    >>> list(y)\n",
      "    [0, 1, 2, 3, 4]\n",
      "    \n",
      "    >>> X_train, X_test, y_train, y_test = train_test_split(\n",
      "    ...     X, y, test_size=0.33, random_state=42)\n",
      "    ...\n",
      "    >>> X_train\n",
      "    array([[4, 5],\n",
      "           [0, 1],\n",
      "           [6, 7]])\n",
      "    >>> y_train\n",
      "    [2, 0, 3]\n",
      "    >>> X_test\n",
      "    array([[2, 3],\n",
      "           [8, 9]])\n",
      "    >>> y_test\n",
      "    [1, 4]\n",
      "    \n",
      "    >>> train_test_split(y, shuffle=False)\n",
      "    [[0, 1, 2], [3, 4]]\n",
      "\n"
     ]
    }
   ],
   "source": [
    "from sklearn.model_selection import train_test_split\n",
    "help(train_test_split)"
   ]
  },
  {
   "cell_type": "code",
   "execution_count": 3,
   "id": "41043467",
   "metadata": {
    "execution": {
     "iopub.execute_input": "2022-05-11T18:22:00.515030Z",
     "iopub.status.busy": "2022-05-11T18:22:00.514192Z",
     "iopub.status.idle": "2022-05-11T18:22:00.530194Z",
     "shell.execute_reply": "2022-05-11T18:22:00.529176Z"
    },
    "papermill": {
     "duration": 0.042682,
     "end_time": "2022-05-11T18:22:00.532946",
     "exception": false,
     "start_time": "2022-05-11T18:22:00.490264",
     "status": "completed"
    },
    "tags": []
   },
   "outputs": [
    {
     "data": {
      "application/javascript": [
       "parent.postMessage({\"jupyterEvent\": \"custom.exercise_interaction\", \"data\": {\"outcomeType\": 1, \"valueTowardsCompletion\": 0.25, \"interactionType\": 1, \"questionType\": 2, \"questionId\": \"1_SplitData\", \"learnToolsVersion\": \"0.3.4\", \"failureMessage\": \"\", \"exceptionClass\": \"\", \"trace\": \"\"}}, \"*\")"
      ],
      "text/plain": [
       "<IPython.core.display.Javascript object>"
      ]
     },
     "metadata": {},
     "output_type": "display_data"
    },
    {
     "data": {
      "text/markdown": [
       "<span style=\"color:#33cc33\">Correct</span>"
      ],
      "text/plain": [
       "Correct"
      ]
     },
     "metadata": {},
     "output_type": "display_data"
    }
   ],
   "source": [
    "# Import the train_test_split function and uncomment\n",
    "from sklearn.model_selection import train_test_split\n",
    "\n",
    "# fill in and uncomment\n",
    "train_X, val_X, train_y, val_y = train_test_split(X, y, random_state = 1)\n",
    "\n",
    "# Check your answer\n",
    "step_1.check()"
   ]
  },
  {
   "cell_type": "code",
   "execution_count": 4,
   "id": "6f3f90da",
   "metadata": {
    "execution": {
     "iopub.execute_input": "2022-05-11T18:22:00.583452Z",
     "iopub.status.busy": "2022-05-11T18:22:00.582723Z",
     "iopub.status.idle": "2022-05-11T18:22:00.587532Z",
     "shell.execute_reply": "2022-05-11T18:22:00.586273Z"
    },
    "papermill": {
     "duration": 0.032548,
     "end_time": "2022-05-11T18:22:00.590088",
     "exception": false,
     "start_time": "2022-05-11T18:22:00.557540",
     "status": "completed"
    },
    "tags": []
   },
   "outputs": [],
   "source": [
    "# The lines below will show you a hint or the solution.\n",
    "# step_1.hint() \n",
    "# step_1.solution()\n"
   ]
  },
  {
   "cell_type": "markdown",
   "id": "d5c74c40",
   "metadata": {
    "papermill": {
     "duration": 0.023434,
     "end_time": "2022-05-11T18:22:00.638000",
     "exception": false,
     "start_time": "2022-05-11T18:22:00.614566",
     "status": "completed"
    },
    "tags": []
   },
   "source": [
    "## Step 2: Specify and Fit the Model\n",
    "\n",
    "Create a `DecisionTreeRegressor` model and fit it to the relevant data.\n",
    "Set `random_state` to 1 again when creating the model."
   ]
  },
  {
   "cell_type": "code",
   "execution_count": 5,
   "id": "d22adb8a",
   "metadata": {
    "execution": {
     "iopub.execute_input": "2022-05-11T18:22:00.692397Z",
     "iopub.status.busy": "2022-05-11T18:22:00.692033Z",
     "iopub.status.idle": "2022-05-11T18:22:00.723733Z",
     "shell.execute_reply": "2022-05-11T18:22:00.722605Z"
    },
    "papermill": {
     "duration": 0.065252,
     "end_time": "2022-05-11T18:22:00.726511",
     "exception": false,
     "start_time": "2022-05-11T18:22:00.661259",
     "status": "completed"
    },
    "tags": []
   },
   "outputs": [
    {
     "name": "stdout",
     "output_type": "stream",
     "text": [
      "[186500. 184000. 130000.  92000. 164500. 220000. 335000. 144152. 215000.\n",
      " 262000.]\n",
      "[186500. 184000. 130000.  92000. 164500. 220000. 335000. 144152. 215000.\n",
      " 262000.]\n"
     ]
    },
    {
     "data": {
      "application/javascript": [
       "parent.postMessage({\"jupyterEvent\": \"custom.exercise_interaction\", \"data\": {\"outcomeType\": 1, \"valueTowardsCompletion\": 0.25, \"interactionType\": 1, \"questionType\": 2, \"questionId\": \"2_FitModelWithTrain\", \"learnToolsVersion\": \"0.3.4\", \"failureMessage\": \"\", \"exceptionClass\": \"\", \"trace\": \"\"}}, \"*\")"
      ],
      "text/plain": [
       "<IPython.core.display.Javascript object>"
      ]
     },
     "metadata": {},
     "output_type": "display_data"
    },
    {
     "data": {
      "text/markdown": [
       "<span style=\"color:#33cc33\">Correct</span>"
      ],
      "text/plain": [
       "Correct"
      ]
     },
     "metadata": {},
     "output_type": "display_data"
    }
   ],
   "source": [
    "# You imported DecisionTreeRegressor in your last exercise\n",
    "# and that code has been copied to the setup code above. So, no need to\n",
    "# import it again\n",
    "\n",
    "# Specify the model\n",
    "iowa_model = DecisionTreeRegressor(random_state = 1)\n",
    "\n",
    "# Fit iowa_model with the training data.\n",
    "iowa_model.fit(train_X, train_y)\n",
    "\n",
    "# Check your answer\n",
    "step_2.check()"
   ]
  },
  {
   "cell_type": "code",
   "execution_count": 6,
   "id": "5d07ef7d",
   "metadata": {
    "execution": {
     "iopub.execute_input": "2022-05-11T18:22:00.781918Z",
     "iopub.status.busy": "2022-05-11T18:22:00.781311Z",
     "iopub.status.idle": "2022-05-11T18:22:00.784656Z",
     "shell.execute_reply": "2022-05-11T18:22:00.783994Z"
    },
    "papermill": {
     "duration": 0.03372,
     "end_time": "2022-05-11T18:22:00.786804",
     "exception": false,
     "start_time": "2022-05-11T18:22:00.753084",
     "status": "completed"
    },
    "tags": []
   },
   "outputs": [],
   "source": [
    "# step_2.hint()\n",
    "# step_2.solution()"
   ]
  },
  {
   "cell_type": "markdown",
   "id": "46d37973",
   "metadata": {
    "papermill": {
     "duration": 0.026727,
     "end_time": "2022-05-11T18:22:00.839851",
     "exception": false,
     "start_time": "2022-05-11T18:22:00.813124",
     "status": "completed"
    },
    "tags": []
   },
   "source": [
    "## Step 3: Make Predictions with Validation data\n"
   ]
  },
  {
   "cell_type": "code",
   "execution_count": 7,
   "id": "01dd1ec7",
   "metadata": {
    "execution": {
     "iopub.execute_input": "2022-05-11T18:22:00.897806Z",
     "iopub.status.busy": "2022-05-11T18:22:00.897077Z",
     "iopub.status.idle": "2022-05-11T18:22:00.910714Z",
     "shell.execute_reply": "2022-05-11T18:22:00.909771Z"
    },
    "papermill": {
     "duration": 0.046853,
     "end_time": "2022-05-11T18:22:00.913087",
     "exception": false,
     "start_time": "2022-05-11T18:22:00.866234",
     "status": "completed"
    },
    "tags": []
   },
   "outputs": [
    {
     "data": {
      "application/javascript": [
       "parent.postMessage({\"jupyterEvent\": \"custom.exercise_interaction\", \"data\": {\"outcomeType\": 1, \"valueTowardsCompletion\": 0.25, \"interactionType\": 1, \"questionType\": 2, \"questionId\": \"3_ValPreds\", \"learnToolsVersion\": \"0.3.4\", \"failureMessage\": \"\", \"exceptionClass\": \"\", \"trace\": \"\"}}, \"*\")"
      ],
      "text/plain": [
       "<IPython.core.display.Javascript object>"
      ]
     },
     "metadata": {},
     "output_type": "display_data"
    },
    {
     "data": {
      "text/markdown": [
       "<span style=\"color:#33cc33\">Correct</span>"
      ],
      "text/plain": [
       "Correct"
      ]
     },
     "metadata": {},
     "output_type": "display_data"
    }
   ],
   "source": [
    "# Predict with all validation observations\n",
    "val_predictions = iowa_model.predict(val_X)\n",
    "\n",
    "# Check your answer\n",
    "step_3.check()"
   ]
  },
  {
   "cell_type": "code",
   "execution_count": 8,
   "id": "f151da63",
   "metadata": {
    "execution": {
     "iopub.execute_input": "2022-05-11T18:22:00.969566Z",
     "iopub.status.busy": "2022-05-11T18:22:00.968477Z",
     "iopub.status.idle": "2022-05-11T18:22:00.972751Z",
     "shell.execute_reply": "2022-05-11T18:22:00.971876Z"
    },
    "papermill": {
     "duration": 0.036146,
     "end_time": "2022-05-11T18:22:00.975541",
     "exception": false,
     "start_time": "2022-05-11T18:22:00.939395",
     "status": "completed"
    },
    "tags": []
   },
   "outputs": [],
   "source": [
    "# step_3.hint()\n",
    "# step_3.solution()"
   ]
  },
  {
   "cell_type": "markdown",
   "id": "500d4c55",
   "metadata": {
    "papermill": {
     "duration": 0.027813,
     "end_time": "2022-05-11T18:22:01.030908",
     "exception": false,
     "start_time": "2022-05-11T18:22:01.003095",
     "status": "completed"
    },
    "tags": []
   },
   "source": [
    "Inspect your predictions and actual values from validation data."
   ]
  },
  {
   "cell_type": "code",
   "execution_count": 9,
   "id": "542346b6",
   "metadata": {
    "execution": {
     "iopub.execute_input": "2022-05-11T18:22:01.089642Z",
     "iopub.status.busy": "2022-05-11T18:22:01.088961Z",
     "iopub.status.idle": "2022-05-11T18:22:01.094626Z",
     "shell.execute_reply": "2022-05-11T18:22:01.093990Z"
    },
    "papermill": {
     "duration": 0.036408,
     "end_time": "2022-05-11T18:22:01.097040",
     "exception": false,
     "start_time": "2022-05-11T18:22:01.060632",
     "status": "completed"
    },
    "tags": []
   },
   "outputs": [
    {
     "data": {
      "text/plain": [
       "numpy.ndarray"
      ]
     },
     "execution_count": 9,
     "metadata": {},
     "output_type": "execute_result"
    }
   ],
   "source": [
    "type(val_predictions)"
   ]
  },
  {
   "cell_type": "code",
   "execution_count": 10,
   "id": "1898604d",
   "metadata": {
    "execution": {
     "iopub.execute_input": "2022-05-11T18:22:01.158234Z",
     "iopub.status.busy": "2022-05-11T18:22:01.157380Z",
     "iopub.status.idle": "2022-05-11T18:22:01.162861Z",
     "shell.execute_reply": "2022-05-11T18:22:01.162116Z"
    },
    "papermill": {
     "duration": 0.040316,
     "end_time": "2022-05-11T18:22:01.165469",
     "exception": false,
     "start_time": "2022-05-11T18:22:01.125153",
     "status": "completed"
    },
    "tags": []
   },
   "outputs": [
    {
     "data": {
      "text/plain": [
       "pandas.core.series.Series"
      ]
     },
     "execution_count": 10,
     "metadata": {},
     "output_type": "execute_result"
    }
   ],
   "source": [
    "type(val_y)"
   ]
  },
  {
   "cell_type": "code",
   "execution_count": 11,
   "id": "9103c9c0",
   "metadata": {
    "execution": {
     "iopub.execute_input": "2022-05-11T18:22:01.230939Z",
     "iopub.status.busy": "2022-05-11T18:22:01.229964Z",
     "iopub.status.idle": "2022-05-11T18:22:01.239659Z",
     "shell.execute_reply": "2022-05-11T18:22:01.237449Z"
    },
    "papermill": {
     "duration": 0.044314,
     "end_time": "2022-05-11T18:22:01.242403",
     "exception": false,
     "start_time": "2022-05-11T18:22:01.198089",
     "status": "completed"
    },
    "tags": []
   },
   "outputs": [
    {
     "name": "stdout",
     "output_type": "stream",
     "text": [
      "[186500. 184000. 130000.  92000. 164500. 220000. 335000. 144152. 215000.]\n",
      "258     231500\n",
      "267     179500\n",
      "288     122000\n",
      "649      84500\n",
      "1233    142000\n",
      "167     325624\n",
      "926     285000\n",
      "831     151000\n",
      "1237    195000\n",
      "Name: SalePrice, dtype: int64\n"
     ]
    }
   ],
   "source": [
    "# print the top few validation predictions\n",
    "print(val_predictions[:9])\n",
    "# print the top few actual prices from validation data\n",
    "print(val_y[:9])"
   ]
  },
  {
   "cell_type": "markdown",
   "id": "f0a9b0f0",
   "metadata": {
    "papermill": {
     "duration": 0.034051,
     "end_time": "2022-05-11T18:22:01.304975",
     "exception": false,
     "start_time": "2022-05-11T18:22:01.270924",
     "status": "completed"
    },
    "tags": []
   },
   "source": [
    "What do you notice that is different from what you saw with in-sample predictions (which are printed after the top code cell in this page).\n",
    "\n",
    "Do you remember why validation predictions differ from in-sample (or training) predictions? This is an important idea from the last lesson.\n",
    "\n",
    "## Step 4: Calculate the Mean Absolute Error in Validation Data\n"
   ]
  },
  {
   "cell_type": "code",
   "execution_count": 12,
   "id": "0a3223ef",
   "metadata": {
    "execution": {
     "iopub.execute_input": "2022-05-11T18:22:01.362077Z",
     "iopub.status.busy": "2022-05-11T18:22:01.361684Z",
     "iopub.status.idle": "2022-05-11T18:22:01.369701Z",
     "shell.execute_reply": "2022-05-11T18:22:01.367528Z"
    },
    "papermill": {
     "duration": 0.039953,
     "end_time": "2022-05-11T18:22:01.372634",
     "exception": false,
     "start_time": "2022-05-11T18:22:01.332681",
     "status": "completed"
    },
    "tags": []
   },
   "outputs": [
    {
     "name": "stdout",
     "output_type": "stream",
     "text": [
      "Help on function mean_absolute_error in module sklearn.metrics._regression:\n",
      "\n",
      "mean_absolute_error(y_true, y_pred, *, sample_weight=None, multioutput='uniform_average')\n",
      "    Mean absolute error regression loss.\n",
      "    \n",
      "    Read more in the :ref:`User Guide <mean_absolute_error>`.\n",
      "    \n",
      "    Parameters\n",
      "    ----------\n",
      "    y_true : array-like of shape (n_samples,) or (n_samples, n_outputs)\n",
      "        Ground truth (correct) target values.\n",
      "    \n",
      "    y_pred : array-like of shape (n_samples,) or (n_samples, n_outputs)\n",
      "        Estimated target values.\n",
      "    \n",
      "    sample_weight : array-like of shape (n_samples,), default=None\n",
      "        Sample weights.\n",
      "    \n",
      "    multioutput : {'raw_values', 'uniform_average'}  or array-like of shape             (n_outputs,), default='uniform_average'\n",
      "        Defines aggregating of multiple output values.\n",
      "        Array-like value defines weights used to average errors.\n",
      "    \n",
      "        'raw_values' :\n",
      "            Returns a full set of errors in case of multioutput input.\n",
      "    \n",
      "        'uniform_average' :\n",
      "            Errors of all outputs are averaged with uniform weight.\n",
      "    \n",
      "    \n",
      "    Returns\n",
      "    -------\n",
      "    loss : float or ndarray of floats\n",
      "        If multioutput is 'raw_values', then mean absolute error is returned\n",
      "        for each output separately.\n",
      "        If multioutput is 'uniform_average' or an ndarray of weights, then the\n",
      "        weighted average of all output errors is returned.\n",
      "    \n",
      "        MAE output is non-negative floating point. The best value is 0.0.\n",
      "    \n",
      "    Examples\n",
      "    --------\n",
      "    >>> from sklearn.metrics import mean_absolute_error\n",
      "    >>> y_true = [3, -0.5, 2, 7]\n",
      "    >>> y_pred = [2.5, 0.0, 2, 8]\n",
      "    >>> mean_absolute_error(y_true, y_pred)\n",
      "    0.5\n",
      "    >>> y_true = [[0.5, 1], [-1, 1], [7, -6]]\n",
      "    >>> y_pred = [[0, 2], [-1, 2], [8, -5]]\n",
      "    >>> mean_absolute_error(y_true, y_pred)\n",
      "    0.75\n",
      "    >>> mean_absolute_error(y_true, y_pred, multioutput='raw_values')\n",
      "    array([0.5, 1. ])\n",
      "    >>> mean_absolute_error(y_true, y_pred, multioutput=[0.3, 0.7])\n",
      "    0.85...\n",
      "\n"
     ]
    }
   ],
   "source": [
    "from sklearn.metrics import mean_absolute_error\n",
    "help(mean_absolute_error)"
   ]
  },
  {
   "cell_type": "code",
   "execution_count": 13,
   "id": "e6117836",
   "metadata": {
    "execution": {
     "iopub.execute_input": "2022-05-11T18:22:01.436289Z",
     "iopub.status.busy": "2022-05-11T18:22:01.435968Z",
     "iopub.status.idle": "2022-05-11T18:22:01.449327Z",
     "shell.execute_reply": "2022-05-11T18:22:01.448323Z"
    },
    "papermill": {
     "duration": 0.046779,
     "end_time": "2022-05-11T18:22:01.451664",
     "exception": false,
     "start_time": "2022-05-11T18:22:01.404885",
     "status": "completed"
    },
    "tags": []
   },
   "outputs": [
    {
     "name": "stdout",
     "output_type": "stream",
     "text": [
      "29652.931506849316\n"
     ]
    },
    {
     "data": {
      "application/javascript": [
       "parent.postMessage({\"jupyterEvent\": \"custom.exercise_interaction\", \"data\": {\"outcomeType\": 1, \"valueTowardsCompletion\": 0.25, \"interactionType\": 1, \"questionType\": 1, \"questionId\": \"4_MAE\", \"learnToolsVersion\": \"0.3.4\", \"failureMessage\": \"\", \"exceptionClass\": \"\", \"trace\": \"\"}}, \"*\")"
      ],
      "text/plain": [
       "<IPython.core.display.Javascript object>"
      ]
     },
     "metadata": {},
     "output_type": "display_data"
    },
    {
     "data": {
      "text/markdown": [
       "<span style=\"color:#33cc33\">Correct</span>"
      ],
      "text/plain": [
       "Correct"
      ]
     },
     "metadata": {},
     "output_type": "display_data"
    }
   ],
   "source": [
    "from sklearn.metrics import mean_absolute_error\n",
    "val_mae = mean_absolute_error(val_y, val_predictions)\n",
    "\n",
    "# uncomment following line to see the validation_mae\n",
    "print(val_mae)\n",
    "\n",
    "# Check your answer\n",
    "step_4.check()"
   ]
  },
  {
   "cell_type": "code",
   "execution_count": 14,
   "id": "7fa9ead1",
   "metadata": {
    "execution": {
     "iopub.execute_input": "2022-05-11T18:22:01.520018Z",
     "iopub.status.busy": "2022-05-11T18:22:01.519198Z",
     "iopub.status.idle": "2022-05-11T18:22:01.523665Z",
     "shell.execute_reply": "2022-05-11T18:22:01.522732Z"
    },
    "papermill": {
     "duration": 0.044384,
     "end_time": "2022-05-11T18:22:01.526312",
     "exception": false,
     "start_time": "2022-05-11T18:22:01.481928",
     "status": "completed"
    },
    "tags": []
   },
   "outputs": [],
   "source": [
    "# step_4.hint()\n",
    "# step_4.solution()"
   ]
  },
  {
   "cell_type": "markdown",
   "id": "578125a0",
   "metadata": {
    "papermill": {
     "duration": 0.029605,
     "end_time": "2022-05-11T18:22:01.586159",
     "exception": false,
     "start_time": "2022-05-11T18:22:01.556554",
     "status": "completed"
    },
    "tags": []
   },
   "source": [
    "Is that MAE good?  There isn't a general rule for what values are good that applies across applications. But you'll see how to use (and improve) this number in the next step.\n",
    "\n",
    "# Keep Going\n",
    "\n",
    "You are ready for **[Underfitting and Overfitting](https://www.kaggle.com/dansbecker/underfitting-and-overfitting).**\n"
   ]
  },
  {
   "cell_type": "markdown",
   "id": "a3227e8e",
   "metadata": {
    "papermill": {
     "duration": 0.033584,
     "end_time": "2022-05-11T18:22:01.652997",
     "exception": false,
     "start_time": "2022-05-11T18:22:01.619413",
     "status": "completed"
    },
    "tags": []
   },
   "source": [
    "---\n",
    "\n",
    "\n",
    "\n",
    "\n",
    "*Have questions or comments? Visit the [course discussion forum](https://www.kaggle.com/learn/intro-to-machine-learning/discussion) to chat with other learners.*"
   ]
  }
 ],
 "metadata": {
  "kernelspec": {
   "display_name": "Python 3",
   "language": "python",
   "name": "python3"
  },
  "language_info": {
   "codemirror_mode": {
    "name": "ipython",
    "version": 3
   },
   "file_extension": ".py",
   "mimetype": "text/x-python",
   "name": "python",
   "nbconvert_exporter": "python",
   "pygments_lexer": "ipython3",
   "version": "3.7.12"
  },
  "papermill": {
   "default_parameters": {},
   "duration": 17.523389,
   "end_time": "2022-05-11T18:22:02.612255",
   "environment_variables": {},
   "exception": null,
   "input_path": "__notebook__.ipynb",
   "output_path": "__notebook__.ipynb",
   "parameters": {},
   "start_time": "2022-05-11T18:21:45.088866",
   "version": "2.3.4"
  }
 },
 "nbformat": 4,
 "nbformat_minor": 5
}
