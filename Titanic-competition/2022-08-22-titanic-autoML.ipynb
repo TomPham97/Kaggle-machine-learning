{
 "cells": [
  {
   "cell_type": "code",
   "execution_count": 3,
   "id": "0e612bd7-3aa4-43c2-b5f1-1b8e6b30671d",
   "metadata": {},
   "outputs": [],
   "source": [
    "%%capture\n",
    "try: import fastkaggle\n",
    "except ModuleNotFoundError:\n",
    "    !pip install -Uq fastkaggle\n",
    "\n",
    "from fastkaggle import *"
   ]
  },
  {
   "cell_type": "code",
   "execution_count": 4,
   "id": "ee41729f-5e3a-401b-a259-eee96f83851e",
   "metadata": {},
   "outputs": [],
   "source": [
    "comp = 'titanic'\n",
    "path = setup_comp(comp, install = 'fastai \"timm >= 0.6.2.dev0\"')"
   ]
  },
  {
   "cell_type": "code",
   "execution_count": 5,
   "id": "f45642a5-b30b-407a-9b65-245d030fed5a",
   "metadata": {},
   "outputs": [],
   "source": [
    "%%capture\n",
    "try: import fastai\n",
    "except ModuleNotFoundError:\n",
    "    !pip install -Uq fastai\n",
    "\n",
    "from fastai.imports import *"
   ]
  },
  {
   "cell_type": "code",
   "execution_count": 6,
   "id": "a0ad8d90-8594-4271-b63a-5ce32dd2d17a",
   "metadata": {},
   "outputs": [
    {
     "name": "stdout",
     "output_type": "stream",
     "text": [
      "gender_submission.csv  test.csv  train.csv\n"
     ]
    }
   ],
   "source": [
    "!ls {path}"
   ]
  },
  {
   "cell_type": "code",
   "execution_count": 7,
   "id": "a58fab94-a22e-471d-aedf-a64e44dc7a9d",
   "metadata": {},
   "outputs": [
    {
     "data": {
      "text/html": [
       "<div>\n",
       "<style scoped>\n",
       "    .dataframe tbody tr th:only-of-type {\n",
       "        vertical-align: middle;\n",
       "    }\n",
       "\n",
       "    .dataframe tbody tr th {\n",
       "        vertical-align: top;\n",
       "    }\n",
       "\n",
       "    .dataframe thead th {\n",
       "        text-align: right;\n",
       "    }\n",
       "</style>\n",
       "<table border=\"1\" class=\"dataframe\">\n",
       "  <thead>\n",
       "    <tr style=\"text-align: right;\">\n",
       "      <th></th>\n",
       "      <th>Survived</th>\n",
       "      <th>Pclass</th>\n",
       "      <th>Name</th>\n",
       "      <th>Sex</th>\n",
       "      <th>Age</th>\n",
       "      <th>SibSp</th>\n",
       "      <th>Parch</th>\n",
       "      <th>Ticket</th>\n",
       "      <th>Fare</th>\n",
       "      <th>Cabin</th>\n",
       "      <th>Embarked</th>\n",
       "    </tr>\n",
       "    <tr>\n",
       "      <th>PassengerId</th>\n",
       "      <th></th>\n",
       "      <th></th>\n",
       "      <th></th>\n",
       "      <th></th>\n",
       "      <th></th>\n",
       "      <th></th>\n",
       "      <th></th>\n",
       "      <th></th>\n",
       "      <th></th>\n",
       "      <th></th>\n",
       "      <th></th>\n",
       "    </tr>\n",
       "  </thead>\n",
       "  <tbody>\n",
       "    <tr>\n",
       "      <th>1</th>\n",
       "      <td>0</td>\n",
       "      <td>3</td>\n",
       "      <td>Braund, Mr. Owen Harris</td>\n",
       "      <td>male</td>\n",
       "      <td>22.0</td>\n",
       "      <td>1</td>\n",
       "      <td>0</td>\n",
       "      <td>A/5 21171</td>\n",
       "      <td>7.2500</td>\n",
       "      <td>NaN</td>\n",
       "      <td>S</td>\n",
       "    </tr>\n",
       "    <tr>\n",
       "      <th>2</th>\n",
       "      <td>1</td>\n",
       "      <td>1</td>\n",
       "      <td>Cumings, Mrs. John Bradley (Florence Briggs Thayer)</td>\n",
       "      <td>female</td>\n",
       "      <td>38.0</td>\n",
       "      <td>1</td>\n",
       "      <td>0</td>\n",
       "      <td>PC 17599</td>\n",
       "      <td>71.2833</td>\n",
       "      <td>C85</td>\n",
       "      <td>C</td>\n",
       "    </tr>\n",
       "    <tr>\n",
       "      <th>3</th>\n",
       "      <td>1</td>\n",
       "      <td>3</td>\n",
       "      <td>Heikkinen, Miss. Laina</td>\n",
       "      <td>female</td>\n",
       "      <td>26.0</td>\n",
       "      <td>0</td>\n",
       "      <td>0</td>\n",
       "      <td>STON/O2. 3101282</td>\n",
       "      <td>7.9250</td>\n",
       "      <td>NaN</td>\n",
       "      <td>S</td>\n",
       "    </tr>\n",
       "    <tr>\n",
       "      <th>4</th>\n",
       "      <td>1</td>\n",
       "      <td>1</td>\n",
       "      <td>Futrelle, Mrs. Jacques Heath (Lily May Peel)</td>\n",
       "      <td>female</td>\n",
       "      <td>35.0</td>\n",
       "      <td>1</td>\n",
       "      <td>0</td>\n",
       "      <td>113803</td>\n",
       "      <td>53.1000</td>\n",
       "      <td>C123</td>\n",
       "      <td>S</td>\n",
       "    </tr>\n",
       "    <tr>\n",
       "      <th>5</th>\n",
       "      <td>0</td>\n",
       "      <td>3</td>\n",
       "      <td>Allen, Mr. William Henry</td>\n",
       "      <td>male</td>\n",
       "      <td>35.0</td>\n",
       "      <td>0</td>\n",
       "      <td>0</td>\n",
       "      <td>373450</td>\n",
       "      <td>8.0500</td>\n",
       "      <td>NaN</td>\n",
       "      <td>S</td>\n",
       "    </tr>\n",
       "  </tbody>\n",
       "</table>\n",
       "</div>"
      ],
      "text/plain": [
       "             Survived  Pclass  \\\n",
       "PassengerId                     \n",
       "1                   0       3   \n",
       "2                   1       1   \n",
       "3                   1       3   \n",
       "4                   1       1   \n",
       "5                   0       3   \n",
       "\n",
       "                                                            Name     Sex  \\\n",
       "PassengerId                                                                \n",
       "1                                        Braund, Mr. Owen Harris    male   \n",
       "2            Cumings, Mrs. John Bradley (Florence Briggs Thayer)  female   \n",
       "3                                         Heikkinen, Miss. Laina  female   \n",
       "4                   Futrelle, Mrs. Jacques Heath (Lily May Peel)  female   \n",
       "5                                       Allen, Mr. William Henry    male   \n",
       "\n",
       "              Age  SibSp  Parch            Ticket     Fare Cabin Embarked  \n",
       "PassengerId                                                                \n",
       "1            22.0      1      0         A/5 21171   7.2500   NaN        S  \n",
       "2            38.0      1      0          PC 17599  71.2833   C85        C  \n",
       "3            26.0      0      0  STON/O2. 3101282   7.9250   NaN        S  \n",
       "4            35.0      1      0            113803  53.1000  C123        S  \n",
       "5            35.0      0      0            373450   8.0500   NaN        S  "
      ]
     },
     "execution_count": 7,
     "metadata": {},
     "output_type": "execute_result"
    }
   ],
   "source": [
    "df = pd.read_csv(path/'train.csv', index_col = 'PassengerId')\n",
    "df.head()"
   ]
  },
  {
   "cell_type": "code",
   "execution_count": 8,
   "id": "d8102576-ad3a-4c6a-bc81-315fa06818b0",
   "metadata": {},
   "outputs": [],
   "source": [
    "y_train = df['Survived']\n",
    "X_train = df.drop(['Survived', 'Name'], axis = 1)"
   ]
  },
  {
   "cell_type": "code",
   "execution_count": 9,
   "id": "1729c29c-d1cc-46f9-86db-ebbab4b07128",
   "metadata": {},
   "outputs": [],
   "source": [
    "from fastai.tabular.all import *"
   ]
  },
  {
   "cell_type": "code",
   "execution_count": 10,
   "id": "71a862b7-2753-4c05-b21e-8e3cc1422eb1",
   "metadata": {},
   "outputs": [],
   "source": [
    "def to_cat(df = df):\n",
    "    '''\n",
    "    Convert string-type columns from a dataframe into categorical columns\n",
    "    '''\n",
    "    # Identify string/categorical columns in the dataframe\n",
    "    _, cat = cont_cat_split(df, 1)\n",
    "    \n",
    "    # Convert to categorical type using for loops\n",
    "    for col in cat:\n",
    "        df[col] = pd.Categorical(df[col])"
   ]
  },
  {
   "cell_type": "code",
   "execution_count": 11,
   "id": "3c44fa46-b95e-4bfc-8995-121c7295479a",
   "metadata": {},
   "outputs": [],
   "source": [
    "to_cat(X_train)"
   ]
  },
  {
   "cell_type": "code",
   "execution_count": 12,
   "id": "1a6402ac-5e92-4ce5-b9bc-678b9cd8a002",
   "metadata": {},
   "outputs": [
    {
     "data": {
      "text/html": [
       "<div>\n",
       "<style scoped>\n",
       "    .dataframe tbody tr th:only-of-type {\n",
       "        vertical-align: middle;\n",
       "    }\n",
       "\n",
       "    .dataframe tbody tr th {\n",
       "        vertical-align: top;\n",
       "    }\n",
       "\n",
       "    .dataframe thead th {\n",
       "        text-align: right;\n",
       "    }\n",
       "</style>\n",
       "<table border=\"1\" class=\"dataframe\">\n",
       "  <thead>\n",
       "    <tr style=\"text-align: right;\">\n",
       "      <th></th>\n",
       "      <th>Pclass</th>\n",
       "      <th>Sex</th>\n",
       "      <th>Age</th>\n",
       "      <th>SibSp</th>\n",
       "      <th>Parch</th>\n",
       "      <th>Ticket</th>\n",
       "      <th>Fare</th>\n",
       "      <th>Cabin</th>\n",
       "      <th>Embarked</th>\n",
       "    </tr>\n",
       "    <tr>\n",
       "      <th>PassengerId</th>\n",
       "      <th></th>\n",
       "      <th></th>\n",
       "      <th></th>\n",
       "      <th></th>\n",
       "      <th></th>\n",
       "      <th></th>\n",
       "      <th></th>\n",
       "      <th></th>\n",
       "      <th></th>\n",
       "    </tr>\n",
       "  </thead>\n",
       "  <tbody>\n",
       "    <tr>\n",
       "      <th>1</th>\n",
       "      <td>3</td>\n",
       "      <td>male</td>\n",
       "      <td>22.0</td>\n",
       "      <td>1</td>\n",
       "      <td>0</td>\n",
       "      <td>A/5 21171</td>\n",
       "      <td>7.2500</td>\n",
       "      <td>NaN</td>\n",
       "      <td>S</td>\n",
       "    </tr>\n",
       "    <tr>\n",
       "      <th>2</th>\n",
       "      <td>1</td>\n",
       "      <td>female</td>\n",
       "      <td>38.0</td>\n",
       "      <td>1</td>\n",
       "      <td>0</td>\n",
       "      <td>PC 17599</td>\n",
       "      <td>71.2833</td>\n",
       "      <td>C85</td>\n",
       "      <td>C</td>\n",
       "    </tr>\n",
       "    <tr>\n",
       "      <th>3</th>\n",
       "      <td>3</td>\n",
       "      <td>female</td>\n",
       "      <td>26.0</td>\n",
       "      <td>0</td>\n",
       "      <td>0</td>\n",
       "      <td>STON/O2. 3101282</td>\n",
       "      <td>7.9250</td>\n",
       "      <td>NaN</td>\n",
       "      <td>S</td>\n",
       "    </tr>\n",
       "    <tr>\n",
       "      <th>4</th>\n",
       "      <td>1</td>\n",
       "      <td>female</td>\n",
       "      <td>35.0</td>\n",
       "      <td>1</td>\n",
       "      <td>0</td>\n",
       "      <td>113803</td>\n",
       "      <td>53.1000</td>\n",
       "      <td>C123</td>\n",
       "      <td>S</td>\n",
       "    </tr>\n",
       "    <tr>\n",
       "      <th>5</th>\n",
       "      <td>3</td>\n",
       "      <td>male</td>\n",
       "      <td>35.0</td>\n",
       "      <td>0</td>\n",
       "      <td>0</td>\n",
       "      <td>373450</td>\n",
       "      <td>8.0500</td>\n",
       "      <td>NaN</td>\n",
       "      <td>S</td>\n",
       "    </tr>\n",
       "  </tbody>\n",
       "</table>\n",
       "</div>"
      ],
      "text/plain": [
       "             Pclass     Sex   Age  SibSp  Parch            Ticket     Fare  \\\n",
       "PassengerId                                                                  \n",
       "1                 3    male  22.0      1      0         A/5 21171   7.2500   \n",
       "2                 1  female  38.0      1      0          PC 17599  71.2833   \n",
       "3                 3  female  26.0      0      0  STON/O2. 3101282   7.9250   \n",
       "4                 1  female  35.0      1      0            113803  53.1000   \n",
       "5                 3    male  35.0      0      0            373450   8.0500   \n",
       "\n",
       "            Cabin Embarked  \n",
       "PassengerId                 \n",
       "1             NaN        S  \n",
       "2             C85        C  \n",
       "3             NaN        S  \n",
       "4            C123        S  \n",
       "5             NaN        S  "
      ]
     },
     "execution_count": 12,
     "metadata": {},
     "output_type": "execute_result"
    }
   ],
   "source": [
    "X_train.head()"
   ]
  },
  {
   "cell_type": "code",
   "execution_count": 13,
   "id": "db99ad1c-7ea9-4779-9c2d-4e805b268d36",
   "metadata": {},
   "outputs": [],
   "source": [
    "%%capture\n",
    "try: import autosklearn\n",
    "except ModuleNotFoundError:\n",
    "    !pip install -Uq auto-sklearn"
   ]
  },
  {
   "cell_type": "code",
   "execution_count": 14,
   "id": "8d11be50-3bc4-4094-b05f-74bab51d7111",
   "metadata": {},
   "outputs": [],
   "source": [
    "import autosklearn.classification\n",
    "cls = autosklearn.classification.AutoSklearnClassifier(\n",
    "    time_left_for_this_task = 240,\n",
    "    per_run_time_limit = 60,\n",
    "    memory_limit = None,\n",
    "    n_jobs = -1)"
   ]
  },
  {
   "cell_type": "code",
   "execution_count": 15,
   "id": "1af60bfa-ec80-4907-aa15-041a51231e23",
   "metadata": {},
   "outputs": [
    {
     "name": "stderr",
     "output_type": "stream",
     "text": [
      "/root/mambaforge/lib/python3.9/site-packages/autosklearn/metalearning/metalearning/meta_base.py:68: FutureWarning: The frame.append method is deprecated and will be removed from pandas in a future version. Use pandas.concat instead.\n",
      "  self.metafeatures = self.metafeatures.append(metafeatures)\n",
      "/root/mambaforge/lib/python3.9/site-packages/autosklearn/metalearning/metalearning/meta_base.py:72: FutureWarning: The frame.append method is deprecated and will be removed from pandas in a future version. Use pandas.concat instead.\n",
      "  self.algorithm_runs[metric].append(runs)\n"
     ]
    },
    {
     "name": "stdout",
     "output_type": "stream",
     "text": [
      "[ERROR] [2022-08-23 15:10:36,573:asyncio.events] \n",
      "Traceback (most recent call last):\n",
      "  File \"/root/mambaforge/lib/python3.9/site-packages/distributed/client.py\", line 1427, in _handle_report\n",
      "    msgs = await self.scheduler_comm.comm.read()\n",
      "  File \"/root/mambaforge/lib/python3.9/site-packages/distributed/comm/inproc.py\", line 211, in read\n",
      "    raise CommClosedError()\n",
      "distributed.comm.core.CommClosedError\n",
      "\n",
      "During handling of the above exception, another exception occurred:\n",
      "\n",
      "Traceback (most recent call last):\n",
      "  File \"/root/mambaforge/lib/python3.9/site-packages/distributed/utils.py\", line 799, in wrapper\n",
      "    return await func(*args, **kwargs)\n",
      "  File \"/root/mambaforge/lib/python3.9/site-packages/distributed/client.py\", line 1435, in _handle_report\n",
      "    await self._reconnect()\n",
      "  File \"/root/mambaforge/lib/python3.9/site-packages/distributed/utils.py\", line 799, in wrapper\n",
      "    return await func(*args, **kwargs)\n",
      "  File \"/root/mambaforge/lib/python3.9/site-packages/distributed/client.py\", line 1246, in _reconnect\n",
      "    await self._ensure_connected(timeout=timeout)\n",
      "  File \"/root/mambaforge/lib/python3.9/site-packages/distributed/client.py\", line 1276, in _ensure_connected\n",
      "    comm = await connect(\n",
      "  File \"/root/mambaforge/lib/python3.9/site-packages/distributed/comm/core.py\", line 315, in connect\n",
      "    await asyncio.sleep(backoff)\n",
      "  File \"/root/mambaforge/lib/python3.9/asyncio/tasks.py\", line 652, in sleep\n",
      "    return await future\n",
      "asyncio.exceptions.CancelledError\n"
     ]
    },
    {
     "data": {
      "text/plain": [
       "AutoSklearnClassifier(memory_limit=None, n_jobs=-1, per_run_time_limit=60,\n",
       "                      time_left_for_this_task=240)"
      ]
     },
     "execution_count": 15,
     "metadata": {},
     "output_type": "execute_result"
    }
   ],
   "source": [
    "cls.fit(X_train, y_train)"
   ]
  },
  {
   "cell_type": "code",
   "execution_count": 16,
   "id": "de6a731a-2a0b-4171-84a9-3baed326bef8",
   "metadata": {},
   "outputs": [
    {
     "name": "stdout",
     "output_type": "stream",
     "text": [
      "auto-sklearn results:\n",
      "  Dataset name: 30798895-22f5-11ed-8943-b6f6766cb37b\n",
      "  Metric: accuracy\n",
      "  Best validation score: 0.810169\n",
      "  Number of target algorithm runs: 39\n",
      "  Number of successful target algorithm runs: 35\n",
      "  Number of crashed target algorithm runs: 3\n",
      "  Number of target algorithms that exceeded the time limit: 1\n",
      "  Number of target algorithms that exceeded the memory limit: 0\n",
      "\n"
     ]
    }
   ],
   "source": [
    "print(cls.sprint_statistics())"
   ]
  },
  {
   "cell_type": "code",
   "execution_count": 17,
   "id": "6ac2b310-07f1-488f-bafc-b57dc7d65546",
   "metadata": {},
   "outputs": [
    {
     "name": "stdout",
     "output_type": "stream",
     "text": [
      "          rank  ensemble_weight               type      cost  duration\n",
      "model_id                                                              \n",
      "7            1             0.02      liblinear_svc  0.189831  2.510254\n",
      "10           2             0.02        extra_trees  0.189831  7.985898\n",
      "4            3             0.08                lda  0.200000  3.639275\n",
      "17           4             0.02                mlp  0.200000  8.072500\n",
      "24           5             0.14           adaboost  0.200000  5.511101\n",
      "35           6             0.04  gradient_boosting  0.200000  2.489987\n",
      "19           7             0.18           adaboost  0.203390  7.481466\n",
      "23           8             0.08           adaboost  0.213559  5.564543\n",
      "27           9             0.04                lda  0.220339  2.586372\n",
      "29          10             0.04                mlp  0.257627  2.713265\n",
      "25          11             0.06        extra_trees  0.308475  4.559238\n",
      "26          12             0.02       bernoulli_nb  0.315254  2.582031\n",
      "38          13             0.06                qda  0.318644  2.758974\n",
      "34          14             0.20                lda  0.325424  2.074090\n"
     ]
    }
   ],
   "source": [
    "print(cls.leaderboard())"
   ]
  },
  {
   "cell_type": "code",
   "execution_count": 18,
   "id": "01be7264-6c4c-47cd-a06e-6a50f99014e3",
   "metadata": {},
   "outputs": [
    {
     "data": {
      "text/html": [
       "<div>\n",
       "<style scoped>\n",
       "    .dataframe tbody tr th:only-of-type {\n",
       "        vertical-align: middle;\n",
       "    }\n",
       "\n",
       "    .dataframe tbody tr th {\n",
       "        vertical-align: top;\n",
       "    }\n",
       "\n",
       "    .dataframe thead th {\n",
       "        text-align: right;\n",
       "    }\n",
       "</style>\n",
       "<table border=\"1\" class=\"dataframe\">\n",
       "  <thead>\n",
       "    <tr style=\"text-align: right;\">\n",
       "      <th></th>\n",
       "      <th>Pclass</th>\n",
       "      <th>Sex</th>\n",
       "      <th>Age</th>\n",
       "      <th>SibSp</th>\n",
       "      <th>Parch</th>\n",
       "      <th>Ticket</th>\n",
       "      <th>Fare</th>\n",
       "      <th>Cabin</th>\n",
       "      <th>Embarked</th>\n",
       "    </tr>\n",
       "    <tr>\n",
       "      <th>PassengerId</th>\n",
       "      <th></th>\n",
       "      <th></th>\n",
       "      <th></th>\n",
       "      <th></th>\n",
       "      <th></th>\n",
       "      <th></th>\n",
       "      <th></th>\n",
       "      <th></th>\n",
       "      <th></th>\n",
       "    </tr>\n",
       "  </thead>\n",
       "  <tbody>\n",
       "    <tr>\n",
       "      <th>892</th>\n",
       "      <td>3</td>\n",
       "      <td>male</td>\n",
       "      <td>34.5</td>\n",
       "      <td>0</td>\n",
       "      <td>0</td>\n",
       "      <td>330911</td>\n",
       "      <td>7.8292</td>\n",
       "      <td>NaN</td>\n",
       "      <td>Q</td>\n",
       "    </tr>\n",
       "    <tr>\n",
       "      <th>893</th>\n",
       "      <td>3</td>\n",
       "      <td>female</td>\n",
       "      <td>47.0</td>\n",
       "      <td>1</td>\n",
       "      <td>0</td>\n",
       "      <td>363272</td>\n",
       "      <td>7.0000</td>\n",
       "      <td>NaN</td>\n",
       "      <td>S</td>\n",
       "    </tr>\n",
       "    <tr>\n",
       "      <th>894</th>\n",
       "      <td>2</td>\n",
       "      <td>male</td>\n",
       "      <td>62.0</td>\n",
       "      <td>0</td>\n",
       "      <td>0</td>\n",
       "      <td>240276</td>\n",
       "      <td>9.6875</td>\n",
       "      <td>NaN</td>\n",
       "      <td>Q</td>\n",
       "    </tr>\n",
       "    <tr>\n",
       "      <th>895</th>\n",
       "      <td>3</td>\n",
       "      <td>male</td>\n",
       "      <td>27.0</td>\n",
       "      <td>0</td>\n",
       "      <td>0</td>\n",
       "      <td>315154</td>\n",
       "      <td>8.6625</td>\n",
       "      <td>NaN</td>\n",
       "      <td>S</td>\n",
       "    </tr>\n",
       "    <tr>\n",
       "      <th>896</th>\n",
       "      <td>3</td>\n",
       "      <td>female</td>\n",
       "      <td>22.0</td>\n",
       "      <td>1</td>\n",
       "      <td>1</td>\n",
       "      <td>3101298</td>\n",
       "      <td>12.2875</td>\n",
       "      <td>NaN</td>\n",
       "      <td>S</td>\n",
       "    </tr>\n",
       "  </tbody>\n",
       "</table>\n",
       "</div>"
      ],
      "text/plain": [
       "             Pclass     Sex   Age  SibSp  Parch   Ticket     Fare Cabin  \\\n",
       "PassengerId                                                               \n",
       "892               3    male  34.5      0      0   330911   7.8292   NaN   \n",
       "893               3  female  47.0      1      0   363272   7.0000   NaN   \n",
       "894               2    male  62.0      0      0   240276   9.6875   NaN   \n",
       "895               3    male  27.0      0      0   315154   8.6625   NaN   \n",
       "896               3  female  22.0      1      1  3101298  12.2875   NaN   \n",
       "\n",
       "            Embarked  \n",
       "PassengerId           \n",
       "892                Q  \n",
       "893                S  \n",
       "894                Q  \n",
       "895                S  \n",
       "896                S  "
      ]
     },
     "execution_count": 18,
     "metadata": {},
     "output_type": "execute_result"
    }
   ],
   "source": [
    "df_test = pd.read_csv(path/'test.csv', index_col = 'PassengerId')\n",
    "df_test = df_test.drop('Name', axis = 1)\n",
    "to_cat(df_test)\n",
    "df_test.head()"
   ]
  },
  {
   "cell_type": "code",
   "execution_count": 19,
   "id": "3fb2ea4a-9ce5-414a-b02f-13a389376163",
   "metadata": {},
   "outputs": [],
   "source": [
    "prediction = cls.predict(df_test)"
   ]
  },
  {
   "cell_type": "code",
   "execution_count": 20,
   "id": "f03f8f93-ceba-46de-a0b5-eebfed5cc85f",
   "metadata": {},
   "outputs": [],
   "source": [
    "subm = pd.DataFrame(prediction, index = df_test.index, columns = ['Survived'])"
   ]
  },
  {
   "cell_type": "code",
   "execution_count": 21,
   "id": "36110e83-4904-4e0a-a59f-5a79874389c0",
   "metadata": {},
   "outputs": [
    {
     "name": "stdout",
     "output_type": "stream",
     "text": [
      "PassengerId,Survived\n",
      "892,0\n",
      "893,0\n",
      "894,0\n",
      "895,0\n",
      "896,1\n",
      "897,0\n",
      "898,0\n",
      "899,0\n",
      "900,1\n"
     ]
    }
   ],
   "source": [
    "subm.to_csv('subm.csv')\n",
    "!head subm.csv"
   ]
  },
  {
   "cell_type": "code",
   "execution_count": 22,
   "id": "760f8eb4-2348-46b4-8c8c-4752dbcbe5e0",
   "metadata": {},
   "outputs": [
    {
     "name": "stderr",
     "output_type": "stream",
     "text": [
      "100%|██████████| 2.77k/2.77k [00:00<00:00, 4.99kB/s]\n"
     ]
    },
    {
     "data": {
      "text/plain": [
       "Successfully submitted to Titanic - Machine Learning from Disaster"
      ]
     },
     "execution_count": 22,
     "metadata": {},
     "output_type": "execute_result"
    }
   ],
   "source": [
    "# Submit to competition\n",
    "from kaggle import api\n",
    "api.competition_submit_cli('subm.csv', 'autoML 240s - no transformation', comp)"
   ]
  },
  {
   "cell_type": "code",
   "execution_count": null,
   "id": "0c690184-27c9-4156-bb45-df88490a5e6a",
   "metadata": {},
   "outputs": [],
   "source": []
  }
 ],
 "metadata": {
  "kernelspec": {
   "display_name": "Python 3 (ipykernel)",
   "language": "python",
   "name": "python3"
  },
  "language_info": {
   "codemirror_mode": {
    "name": "ipython",
    "version": 3
   },
   "file_extension": ".py",
   "mimetype": "text/x-python",
   "name": "python",
   "nbconvert_exporter": "python",
   "pygments_lexer": "ipython3",
   "version": "3.9.13"
  }
 },
 "nbformat": 4,
 "nbformat_minor": 5
}
